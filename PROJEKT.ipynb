{
 "cells": [
  {
   "cell_type": "markdown",
   "metadata": {},
   "source": [
    "<h1>PROJECT CITYBIKE LUBLIN                               "
   ]
  },
  {
   "cell_type": "markdown",
   "metadata": {},
   "source": [
    "<span style=\"color:green\">Import all nessesary libraries"
   ]
  },
  {
   "cell_type": "code",
   "execution_count": 1,
   "metadata": {},
   "outputs": [],
   "source": [
    "import pandas as pd\n",
    "import numpy as np\n",
    "import datetime\n",
    "import matplotlib.pyplot as plt\n",
    "import plotly.graph_objects as go\n",
    "import plotly.express as px\n",
    "\n",
    "%matplotlib inline"
   ]
  },
  {
   "cell_type": "markdown",
   "metadata": {},
   "source": [
    "<h1>CITYBIKE 2017"
   ]
  },
  {
   "cell_type": "markdown",
   "metadata": {},
   "source": [
    "<h3> 1.READ DATA"
   ]
  },
  {
   "cell_type": "markdown",
   "metadata": {},
   "source": [
    "<span style=\"color:green\">Let's read data from 2017.xlsx file."
   ]
  },
  {
   "cell_type": "code",
   "execution_count": 2,
   "metadata": {},
   "outputs": [],
   "source": [
    "city_bike2017 = pd.read_excel('2017.xlsx',sheet_name= ['marzec','kwiecień','maj'])"
   ]
  },
  {
   "cell_type": "code",
   "execution_count": 3,
   "metadata": {},
   "outputs": [
    {
     "data": {
      "text/html": [
       "<div>\n",
       "<style scoped>\n",
       "    .dataframe tbody tr th:only-of-type {\n",
       "        vertical-align: middle;\n",
       "    }\n",
       "\n",
       "    .dataframe tbody tr th {\n",
       "        vertical-align: top;\n",
       "    }\n",
       "\n",
       "    .dataframe thead th {\n",
       "        text-align: right;\n",
       "    }\n",
       "</style>\n",
       "<table border=\"1\" class=\"dataframe\">\n",
       "  <thead>\n",
       "    <tr style=\"text-align: right;\">\n",
       "      <th></th>\n",
       "      <th>uid</th>\n",
       "      <th>bike_name</th>\n",
       "      <th>start_time</th>\n",
       "      <th>end_time</th>\n",
       "      <th>start_place_id</th>\n",
       "      <th>end_place_id</th>\n",
       "      <th>price</th>\n",
       "      <th>cust_id</th>\n",
       "    </tr>\n",
       "  </thead>\n",
       "  <tbody>\n",
       "    <tr>\n",
       "      <td>0</td>\n",
       "      <td>26627713</td>\n",
       "      <td>69277</td>\n",
       "      <td>2017-03-21 00:02:18</td>\n",
       "      <td>2017-03-21 00:02:44</td>\n",
       "      <td>315259</td>\n",
       "      <td>315259</td>\n",
       "      <td>0</td>\n",
       "      <td>991786</td>\n",
       "    </tr>\n",
       "    <tr>\n",
       "      <td>1</td>\n",
       "      <td>26627775</td>\n",
       "      <td>69756</td>\n",
       "      <td>2017-03-21 00:09:40</td>\n",
       "      <td>2017-03-21 00:22:59</td>\n",
       "      <td>673845</td>\n",
       "      <td>673845</td>\n",
       "      <td>0</td>\n",
       "      <td>864401</td>\n",
       "    </tr>\n",
       "    <tr>\n",
       "      <td>2</td>\n",
       "      <td>26627751</td>\n",
       "      <td>69631</td>\n",
       "      <td>2017-03-21 00:06:02</td>\n",
       "      <td>2017-03-21 00:23:46</td>\n",
       "      <td>673845</td>\n",
       "      <td>673845</td>\n",
       "      <td>0</td>\n",
       "      <td>864401</td>\n",
       "    </tr>\n",
       "    <tr>\n",
       "      <td>3</td>\n",
       "      <td>26627725</td>\n",
       "      <td>69455</td>\n",
       "      <td>2017-03-21 00:03:41</td>\n",
       "      <td>2017-03-21 00:27:37</td>\n",
       "      <td>315259</td>\n",
       "      <td>692596</td>\n",
       "      <td>100</td>\n",
       "      <td>991786</td>\n",
       "    </tr>\n",
       "    <tr>\n",
       "      <td>4</td>\n",
       "      <td>26627864</td>\n",
       "      <td>69692</td>\n",
       "      <td>2017-03-21 00:20:58</td>\n",
       "      <td>2017-03-21 00:28:56</td>\n",
       "      <td>315248</td>\n",
       "      <td>674263</td>\n",
       "      <td>0</td>\n",
       "      <td>868787</td>\n",
       "    </tr>\n",
       "  </tbody>\n",
       "</table>\n",
       "</div>"
      ],
      "text/plain": [
       "        uid  bike_name          start_time            end_time  \\\n",
       "0  26627713      69277 2017-03-21 00:02:18 2017-03-21 00:02:44   \n",
       "1  26627775      69756 2017-03-21 00:09:40 2017-03-21 00:22:59   \n",
       "2  26627751      69631 2017-03-21 00:06:02 2017-03-21 00:23:46   \n",
       "3  26627725      69455 2017-03-21 00:03:41 2017-03-21 00:27:37   \n",
       "4  26627864      69692 2017-03-21 00:20:58 2017-03-21 00:28:56   \n",
       "\n",
       "   start_place_id  end_place_id  price  cust_id  \n",
       "0          315259        315259      0   991786  \n",
       "1          673845        673845      0   864401  \n",
       "2          673845        673845      0   864401  \n",
       "3          315259        692596    100   991786  \n",
       "4          315248        674263      0   868787  "
      ]
     },
     "execution_count": 3,
     "metadata": {},
     "output_type": "execute_result"
    }
   ],
   "source": [
    "city_bike2017['marzec'].head()"
   ]
  },
  {
   "cell_type": "code",
   "execution_count": 4,
   "metadata": {},
   "outputs": [
    {
     "data": {
      "text/html": [
       "<div>\n",
       "<style scoped>\n",
       "    .dataframe tbody tr th:only-of-type {\n",
       "        vertical-align: middle;\n",
       "    }\n",
       "\n",
       "    .dataframe tbody tr th {\n",
       "        vertical-align: top;\n",
       "    }\n",
       "\n",
       "    .dataframe thead th {\n",
       "        text-align: right;\n",
       "    }\n",
       "</style>\n",
       "<table border=\"1\" class=\"dataframe\">\n",
       "  <thead>\n",
       "    <tr style=\"text-align: right;\">\n",
       "      <th></th>\n",
       "      <th>uid</th>\n",
       "      <th>bike_name</th>\n",
       "      <th>start_time</th>\n",
       "      <th>end_time</th>\n",
       "      <th>start_place_id</th>\n",
       "      <th>end_place_id</th>\n",
       "      <th>price</th>\n",
       "      <th>cust_id</th>\n",
       "    </tr>\n",
       "  </thead>\n",
       "  <tbody>\n",
       "    <tr>\n",
       "      <td>0</td>\n",
       "      <td>27188150</td>\n",
       "      <td>69486</td>\n",
       "      <td>2017-03-31 23:56:26</td>\n",
       "      <td>2017-04-01 00:00:12</td>\n",
       "      <td>315273</td>\n",
       "      <td>315273</td>\n",
       "      <td>0</td>\n",
       "      <td>1514820</td>\n",
       "    </tr>\n",
       "    <tr>\n",
       "      <td>1</td>\n",
       "      <td>27187806</td>\n",
       "      <td>69557</td>\n",
       "      <td>2017-03-31 23:45:38</td>\n",
       "      <td>2017-04-01 00:00:39</td>\n",
       "      <td>315272</td>\n",
       "      <td>315269</td>\n",
       "      <td>0</td>\n",
       "      <td>2024593</td>\n",
       "    </tr>\n",
       "    <tr>\n",
       "      <td>2</td>\n",
       "      <td>27187791</td>\n",
       "      <td>69269</td>\n",
       "      <td>2017-03-31 23:45:14</td>\n",
       "      <td>2017-04-01 00:01:13</td>\n",
       "      <td>315272</td>\n",
       "      <td>315269</td>\n",
       "      <td>0</td>\n",
       "      <td>2024593</td>\n",
       "    </tr>\n",
       "    <tr>\n",
       "      <td>3</td>\n",
       "      <td>27187827</td>\n",
       "      <td>69321</td>\n",
       "      <td>2017-03-31 23:46:13</td>\n",
       "      <td>2017-04-01 00:01:24</td>\n",
       "      <td>315272</td>\n",
       "      <td>315269</td>\n",
       "      <td>0</td>\n",
       "      <td>2024593</td>\n",
       "    </tr>\n",
       "    <tr>\n",
       "      <td>4</td>\n",
       "      <td>27187995</td>\n",
       "      <td>69344</td>\n",
       "      <td>2017-03-31 23:51:28</td>\n",
       "      <td>2017-04-01 00:01:55</td>\n",
       "      <td>315248</td>\n",
       "      <td>315233</td>\n",
       "      <td>0</td>\n",
       "      <td>983017</td>\n",
       "    </tr>\n",
       "  </tbody>\n",
       "</table>\n",
       "</div>"
      ],
      "text/plain": [
       "        uid  bike_name          start_time            end_time  \\\n",
       "0  27188150      69486 2017-03-31 23:56:26 2017-04-01 00:00:12   \n",
       "1  27187806      69557 2017-03-31 23:45:38 2017-04-01 00:00:39   \n",
       "2  27187791      69269 2017-03-31 23:45:14 2017-04-01 00:01:13   \n",
       "3  27187827      69321 2017-03-31 23:46:13 2017-04-01 00:01:24   \n",
       "4  27187995      69344 2017-03-31 23:51:28 2017-04-01 00:01:55   \n",
       "\n",
       "   start_place_id  end_place_id  price  cust_id  \n",
       "0          315273        315273      0  1514820  \n",
       "1          315272        315269      0  2024593  \n",
       "2          315272        315269      0  2024593  \n",
       "3          315272        315269      0  2024593  \n",
       "4          315248        315233      0   983017  "
      ]
     },
     "execution_count": 4,
     "metadata": {},
     "output_type": "execute_result"
    }
   ],
   "source": [
    "city_bike2017['kwiecień'].head()"
   ]
  },
  {
   "cell_type": "code",
   "execution_count": 5,
   "metadata": {},
   "outputs": [
    {
     "data": {
      "text/html": [
       "<div>\n",
       "<style scoped>\n",
       "    .dataframe tbody tr th:only-of-type {\n",
       "        vertical-align: middle;\n",
       "    }\n",
       "\n",
       "    .dataframe tbody tr th {\n",
       "        vertical-align: top;\n",
       "    }\n",
       "\n",
       "    .dataframe thead th {\n",
       "        text-align: right;\n",
       "    }\n",
       "</style>\n",
       "<table border=\"1\" class=\"dataframe\">\n",
       "  <thead>\n",
       "    <tr style=\"text-align: right;\">\n",
       "      <th></th>\n",
       "      <th>uid</th>\n",
       "      <th>bike_name</th>\n",
       "      <th>start_time</th>\n",
       "      <th>end_time</th>\n",
       "      <th>start_place_id</th>\n",
       "      <th>end_place_id</th>\n",
       "      <th>price</th>\n",
       "      <th>cust_id</th>\n",
       "    </tr>\n",
       "  </thead>\n",
       "  <tbody>\n",
       "    <tr>\n",
       "      <td>0</td>\n",
       "      <td>28587694</td>\n",
       "      <td>69328</td>\n",
       "      <td>2017-04-30 23:57:00</td>\n",
       "      <td>2017-05-01 00:01:00</td>\n",
       "      <td>360123</td>\n",
       "      <td>315269</td>\n",
       "      <td>0</td>\n",
       "      <td>2043725</td>\n",
       "    </tr>\n",
       "    <tr>\n",
       "      <td>1</td>\n",
       "      <td>28587504</td>\n",
       "      <td>69174</td>\n",
       "      <td>2017-04-30 23:43:00</td>\n",
       "      <td>2017-05-01 00:02:00</td>\n",
       "      <td>315235</td>\n",
       "      <td>674353</td>\n",
       "      <td>0</td>\n",
       "      <td>865781</td>\n",
       "    </tr>\n",
       "    <tr>\n",
       "      <td>2</td>\n",
       "      <td>28587316</td>\n",
       "      <td>69391</td>\n",
       "      <td>2017-04-30 23:31:00</td>\n",
       "      <td>2017-05-01 00:02:00</td>\n",
       "      <td>315265</td>\n",
       "      <td>315248</td>\n",
       "      <td>100</td>\n",
       "      <td>975251</td>\n",
       "    </tr>\n",
       "    <tr>\n",
       "      <td>3</td>\n",
       "      <td>28587629</td>\n",
       "      <td>69507</td>\n",
       "      <td>2017-04-30 23:51:00</td>\n",
       "      <td>2017-05-01 00:02:00</td>\n",
       "      <td>315238</td>\n",
       "      <td>315236</td>\n",
       "      <td>0</td>\n",
       "      <td>1300588</td>\n",
       "    </tr>\n",
       "    <tr>\n",
       "      <td>4</td>\n",
       "      <td>28587614</td>\n",
       "      <td>69659</td>\n",
       "      <td>2017-04-30 23:50:00</td>\n",
       "      <td>2017-05-01 00:03:00</td>\n",
       "      <td>315242</td>\n",
       "      <td>315269</td>\n",
       "      <td>0</td>\n",
       "      <td>886601</td>\n",
       "    </tr>\n",
       "  </tbody>\n",
       "</table>\n",
       "</div>"
      ],
      "text/plain": [
       "        uid  bike_name          start_time            end_time  \\\n",
       "0  28587694      69328 2017-04-30 23:57:00 2017-05-01 00:01:00   \n",
       "1  28587504      69174 2017-04-30 23:43:00 2017-05-01 00:02:00   \n",
       "2  28587316      69391 2017-04-30 23:31:00 2017-05-01 00:02:00   \n",
       "3  28587629      69507 2017-04-30 23:51:00 2017-05-01 00:02:00   \n",
       "4  28587614      69659 2017-04-30 23:50:00 2017-05-01 00:03:00   \n",
       "\n",
       "   start_place_id  end_place_id  price  cust_id  \n",
       "0          360123        315269      0  2043725  \n",
       "1          315235        674353      0   865781  \n",
       "2          315265        315248    100   975251  \n",
       "3          315238        315236      0  1300588  \n",
       "4          315242        315269      0   886601  "
      ]
     },
     "execution_count": 5,
     "metadata": {},
     "output_type": "execute_result"
    }
   ],
   "source": [
    "city_bike2017['maj'].head()"
   ]
  },
  {
   "cell_type": "code",
   "execution_count": 6,
   "metadata": {},
   "outputs": [
    {
     "data": {
      "text/html": [
       "<div>\n",
       "<style scoped>\n",
       "    .dataframe tbody tr th:only-of-type {\n",
       "        vertical-align: middle;\n",
       "    }\n",
       "\n",
       "    .dataframe tbody tr th {\n",
       "        vertical-align: top;\n",
       "    }\n",
       "\n",
       "    .dataframe thead th {\n",
       "        text-align: right;\n",
       "    }\n",
       "</style>\n",
       "<table border=\"1\" class=\"dataframe\">\n",
       "  <thead>\n",
       "    <tr style=\"text-align: right;\">\n",
       "      <th></th>\n",
       "      <th>uid</th>\n",
       "      <th>bike_name</th>\n",
       "      <th>start_time</th>\n",
       "      <th>end_time</th>\n",
       "      <th>start_place_id</th>\n",
       "      <th>end_place_id</th>\n",
       "      <th>price</th>\n",
       "      <th>cust_id</th>\n",
       "    </tr>\n",
       "  </thead>\n",
       "  <tbody>\n",
       "    <tr>\n",
       "      <td>0</td>\n",
       "      <td>26627713</td>\n",
       "      <td>69277</td>\n",
       "      <td>2017-03-21 00:02:18</td>\n",
       "      <td>2017-03-21 00:02:44</td>\n",
       "      <td>315259</td>\n",
       "      <td>315259</td>\n",
       "      <td>0</td>\n",
       "      <td>991786</td>\n",
       "    </tr>\n",
       "    <tr>\n",
       "      <td>1</td>\n",
       "      <td>26627775</td>\n",
       "      <td>69756</td>\n",
       "      <td>2017-03-21 00:09:40</td>\n",
       "      <td>2017-03-21 00:22:59</td>\n",
       "      <td>673845</td>\n",
       "      <td>673845</td>\n",
       "      <td>0</td>\n",
       "      <td>864401</td>\n",
       "    </tr>\n",
       "    <tr>\n",
       "      <td>2</td>\n",
       "      <td>26627751</td>\n",
       "      <td>69631</td>\n",
       "      <td>2017-03-21 00:06:02</td>\n",
       "      <td>2017-03-21 00:23:46</td>\n",
       "      <td>673845</td>\n",
       "      <td>673845</td>\n",
       "      <td>0</td>\n",
       "      <td>864401</td>\n",
       "    </tr>\n",
       "    <tr>\n",
       "      <td>3</td>\n",
       "      <td>26627725</td>\n",
       "      <td>69455</td>\n",
       "      <td>2017-03-21 00:03:41</td>\n",
       "      <td>2017-03-21 00:27:37</td>\n",
       "      <td>315259</td>\n",
       "      <td>692596</td>\n",
       "      <td>100</td>\n",
       "      <td>991786</td>\n",
       "    </tr>\n",
       "    <tr>\n",
       "      <td>4</td>\n",
       "      <td>26627864</td>\n",
       "      <td>69692</td>\n",
       "      <td>2017-03-21 00:20:58</td>\n",
       "      <td>2017-03-21 00:28:56</td>\n",
       "      <td>315248</td>\n",
       "      <td>674263</td>\n",
       "      <td>0</td>\n",
       "      <td>868787</td>\n",
       "    </tr>\n",
       "  </tbody>\n",
       "</table>\n",
       "</div>"
      ],
      "text/plain": [
       "        uid  bike_name          start_time            end_time  \\\n",
       "0  26627713      69277 2017-03-21 00:02:18 2017-03-21 00:02:44   \n",
       "1  26627775      69756 2017-03-21 00:09:40 2017-03-21 00:22:59   \n",
       "2  26627751      69631 2017-03-21 00:06:02 2017-03-21 00:23:46   \n",
       "3  26627725      69455 2017-03-21 00:03:41 2017-03-21 00:27:37   \n",
       "4  26627864      69692 2017-03-21 00:20:58 2017-03-21 00:28:56   \n",
       "\n",
       "   start_place_id  end_place_id  price  cust_id  \n",
       "0          315259        315259      0   991786  \n",
       "1          673845        673845      0   864401  \n",
       "2          673845        673845      0   864401  \n",
       "3          315259        692596    100   991786  \n",
       "4          315248        674263      0   868787  "
      ]
     },
     "execution_count": 6,
     "metadata": {},
     "output_type": "execute_result"
    }
   ],
   "source": [
    "#You have to merge dataframes by using 'append'\n",
    "\n",
    "city_bike17 = city_bike2017['marzec'].append(city_bike2017['kwiecień'], ignore_index= True)\n",
    "city_bike17 = city_bike17.append(city_bike2017['maj'], ignore_index= True)\n",
    "city_bike17.head()"
   ]
  },
  {
   "cell_type": "markdown",
   "metadata": {},
   "source": [
    "<span style=\"color:green\">What would you like to  know about data?\n",
    "    \n",
    "<span style=\"color:green\">Use DataFrame.info() and get information about:\n",
    "    \n",
    "<span style=\"color:green\">-numbers of rows and coulmns \n",
    "    \n",
    "<span style=\"color:green\">-types of data\n",
    "    \n",
    "<span style=\"color:green\">-are there missing values? \n",
    "    \n",
    "<span style=\"color:green\">-how many memory we need"
   ]
  },
  {
   "cell_type": "code",
   "execution_count": 46,
   "metadata": {},
   "outputs": [
    {
     "name": "stdout",
     "output_type": "stream",
     "text": [
      "<class 'pandas.core.frame.DataFrame'>\n",
      "RangeIndex: 201078 entries, 0 to 201077\n",
      "Data columns (total 16 columns):\n",
      "uid               201078 non-null int64\n",
      "bike_name         201078 non-null int64\n",
      "start_time        201078 non-null datetime64[ns]\n",
      "end_time          201078 non-null datetime64[ns]\n",
      "start_place_id    201078 non-null int64\n",
      "end_place_id      201078 non-null int64\n",
      "price             201078 non-null int64\n",
      "cust_id           201078 non-null int64\n",
      "start_day         201078 non-null int64\n",
      "start_month       201078 non-null int64\n",
      "day_of_month      201078 non-null int64\n",
      "day_of_week       201078 non-null int64\n",
      "duration_sec      201078 non-null int64\n",
      "duration_min      201078 non-null float64\n",
      "duration_hour     201078 non-null float64\n",
      "date              201078 non-null object\n",
      "dtypes: datetime64[ns](2), float64(2), int64(11), object(1)\n",
      "memory usage: 30.7 MB\n"
     ]
    }
   ],
   "source": [
    "city_bike17.info(memory_usage = 'deep')"
   ]
  },
  {
   "cell_type": "markdown",
   "metadata": {},
   "source": [
    "<span style=\"color:green\">There are 201078 rows and 8 columns.\n",
    "\n",
    "<span style=\"color:green\">Dtypes: datetime64(2), int64(6)\n",
    "\n",
    "<span style=\"color:green\">There are not missing value - every columns has the same num non-null values\n",
    "\n",
    "<span style=\"color:green\">We use 13.8MB"
   ]
  },
  {
   "cell_type": "code",
   "execution_count": 47,
   "metadata": {},
   "outputs": [
    {
     "name": "stdout",
     "output_type": "stream",
     "text": [
      "(201078, 16)\n",
      "False\n"
     ]
    }
   ],
   "source": [
    "#You can also use DataFrame.shape to get num of rows and columns and DataFrame.isnull to get num of non-null values\n",
    "print(city_bike17.shape )\n",
    "print(city_bike17.isnull().any().any()) #False means that you don't have any non-missing values"
   ]
  },
  {
   "cell_type": "code",
   "execution_count": 56,
   "metadata": {},
   "outputs": [
    {
     "data": {
      "text/html": [
       "<div>\n",
       "<style scoped>\n",
       "    .dataframe tbody tr th:only-of-type {\n",
       "        vertical-align: middle;\n",
       "    }\n",
       "\n",
       "    .dataframe tbody tr th {\n",
       "        vertical-align: top;\n",
       "    }\n",
       "\n",
       "    .dataframe thead th {\n",
       "        text-align: right;\n",
       "    }\n",
       "</style>\n",
       "<table border=\"1\" class=\"dataframe\">\n",
       "  <thead>\n",
       "    <tr style=\"text-align: right;\">\n",
       "      <th></th>\n",
       "      <th>uid</th>\n",
       "      <th>bike_name</th>\n",
       "      <th>start_time</th>\n",
       "      <th>end_time</th>\n",
       "      <th>start_place_id</th>\n",
       "      <th>end_place_id</th>\n",
       "      <th>price</th>\n",
       "      <th>cust_id</th>\n",
       "      <th>start_day</th>\n",
       "      <th>start_month</th>\n",
       "      <th>day_of_month</th>\n",
       "      <th>day_of_week</th>\n",
       "      <th>duration_sec</th>\n",
       "      <th>duration_min</th>\n",
       "      <th>duration_hour</th>\n",
       "      <th>date</th>\n",
       "      <th>duration</th>\n",
       "    </tr>\n",
       "  </thead>\n",
       "  <tbody>\n",
       "    <tr>\n",
       "      <td>21370</td>\n",
       "      <td>27054896</td>\n",
       "      <td>69004</td>\n",
       "      <td>2017-03-29 19:50:22</td>\n",
       "      <td>2017-03-29 20:06:45</td>\n",
       "      <td>360123</td>\n",
       "      <td>315239</td>\n",
       "      <td>0</td>\n",
       "      <td>1507318</td>\n",
       "      <td>88</td>\n",
       "      <td>3</td>\n",
       "      <td>29</td>\n",
       "      <td>2</td>\n",
       "      <td>983</td>\n",
       "      <td>16.383333</td>\n",
       "      <td>0.273056</td>\n",
       "      <td>2017-03-29</td>\n",
       "      <td>00:16:23</td>\n",
       "    </tr>\n",
       "    <tr>\n",
       "      <td>49213</td>\n",
       "      <td>27521156</td>\n",
       "      <td>69967</td>\n",
       "      <td>2017-04-04 20:39:56</td>\n",
       "      <td>2017-04-04 20:53:28</td>\n",
       "      <td>315235</td>\n",
       "      <td>674393</td>\n",
       "      <td>0</td>\n",
       "      <td>890266</td>\n",
       "      <td>94</td>\n",
       "      <td>4</td>\n",
       "      <td>4</td>\n",
       "      <td>1</td>\n",
       "      <td>812</td>\n",
       "      <td>13.533333</td>\n",
       "      <td>0.225556</td>\n",
       "      <td>2017-04-04</td>\n",
       "      <td>00:13:32</td>\n",
       "    </tr>\n",
       "    <tr>\n",
       "      <td>115636</td>\n",
       "      <td>29019842</td>\n",
       "      <td>69589</td>\n",
       "      <td>2017-05-09 17:57:00</td>\n",
       "      <td>2017-05-09 18:25:00</td>\n",
       "      <td>674393</td>\n",
       "      <td>674052</td>\n",
       "      <td>100</td>\n",
       "      <td>1420439</td>\n",
       "      <td>129</td>\n",
       "      <td>5</td>\n",
       "      <td>9</td>\n",
       "      <td>1</td>\n",
       "      <td>1680</td>\n",
       "      <td>28.000000</td>\n",
       "      <td>0.466667</td>\n",
       "      <td>2017-05-09</td>\n",
       "      <td>00:28:00</td>\n",
       "    </tr>\n",
       "    <tr>\n",
       "      <td>148914</td>\n",
       "      <td>29782083</td>\n",
       "      <td>69672</td>\n",
       "      <td>2017-05-19 09:39:00</td>\n",
       "      <td>2017-05-19 09:49:00</td>\n",
       "      <td>674338</td>\n",
       "      <td>315271</td>\n",
       "      <td>0</td>\n",
       "      <td>2028716</td>\n",
       "      <td>139</td>\n",
       "      <td>5</td>\n",
       "      <td>19</td>\n",
       "      <td>4</td>\n",
       "      <td>600</td>\n",
       "      <td>10.000000</td>\n",
       "      <td>0.166667</td>\n",
       "      <td>2017-05-19</td>\n",
       "      <td>00:10:00</td>\n",
       "    </tr>\n",
       "    <tr>\n",
       "      <td>131232</td>\n",
       "      <td>29410164</td>\n",
       "      <td>69226</td>\n",
       "      <td>2017-05-15 13:12:00</td>\n",
       "      <td>2017-05-15 13:25:00</td>\n",
       "      <td>674319</td>\n",
       "      <td>315270</td>\n",
       "      <td>0</td>\n",
       "      <td>984103</td>\n",
       "      <td>135</td>\n",
       "      <td>5</td>\n",
       "      <td>15</td>\n",
       "      <td>0</td>\n",
       "      <td>780</td>\n",
       "      <td>13.000000</td>\n",
       "      <td>0.216667</td>\n",
       "      <td>2017-05-15</td>\n",
       "      <td>00:13:00</td>\n",
       "    </tr>\n",
       "  </tbody>\n",
       "</table>\n",
       "</div>"
      ],
      "text/plain": [
       "             uid  bike_name          start_time            end_time  \\\n",
       "21370   27054896      69004 2017-03-29 19:50:22 2017-03-29 20:06:45   \n",
       "49213   27521156      69967 2017-04-04 20:39:56 2017-04-04 20:53:28   \n",
       "115636  29019842      69589 2017-05-09 17:57:00 2017-05-09 18:25:00   \n",
       "148914  29782083      69672 2017-05-19 09:39:00 2017-05-19 09:49:00   \n",
       "131232  29410164      69226 2017-05-15 13:12:00 2017-05-15 13:25:00   \n",
       "\n",
       "        start_place_id  end_place_id  price  cust_id  start_day  start_month  \\\n",
       "21370           360123        315239      0  1507318         88            3   \n",
       "49213           315235        674393      0   890266         94            4   \n",
       "115636          674393        674052    100  1420439        129            5   \n",
       "148914          674338        315271      0  2028716        139            5   \n",
       "131232          674319        315270      0   984103        135            5   \n",
       "\n",
       "        day_of_month  day_of_week  duration_sec  duration_min  duration_hour  \\\n",
       "21370             29            2           983     16.383333       0.273056   \n",
       "49213              4            1           812     13.533333       0.225556   \n",
       "115636             9            1          1680     28.000000       0.466667   \n",
       "148914            19            4           600     10.000000       0.166667   \n",
       "131232            15            0           780     13.000000       0.216667   \n",
       "\n",
       "              date duration  \n",
       "21370   2017-03-29 00:16:23  \n",
       "49213   2017-04-04 00:13:32  \n",
       "115636  2017-05-09 00:28:00  \n",
       "148914  2017-05-19 00:10:00  \n",
       "131232  2017-05-15 00:13:00  "
      ]
     },
     "execution_count": 56,
     "metadata": {},
     "output_type": "execute_result"
    }
   ],
   "source": [
    "#Create additional TIME columns so it would be easier to manipulate the data\n",
    "\n",
    "city_bike17['start_day'] = pd.DatetimeIndex(city_bike17['start_time']).dayofyear\n",
    "\n",
    "city_bike17['start_month'] = pd.DatetimeIndex(city_bike17['start_time']).month\n",
    "\n",
    "city_bike17['day_of_month'] = pd.DatetimeIndex(city_bike17['start_time']).day\n",
    "\n",
    "city_bike17['day_of_week'] = pd.DatetimeIndex(city_bike17['start_time']).dayofweek\n",
    "\n",
    "\n",
    "\n",
    "#Create additional duration column so it would be easier to manipulate the data\n",
    "\n",
    "city_bike17['duration'] = city_bike17['end_time']-city_bike17['start_time']\n",
    "\n",
    "city_bike17['duration_sec']= pd.TimedeltaIndex(city_bike17['end_time']-city_bike17['start_time']).seconds\n",
    "\n",
    "city_bike17['duration_min'] = city_bike17['duration_sec'] / 60\n",
    "\n",
    "city_bike17['duration_hour'] = city_bike17['duration_sec']/3600\n",
    "\n",
    "city_bike17.sample(5)"
   ]
  },
  {
   "cell_type": "markdown",
   "metadata": {},
   "source": [
    "<h3>2.DATA ANALYSIS"
   ]
  },
  {
   "cell_type": "code",
   "execution_count": 10,
   "metadata": {},
   "outputs": [
    {
     "name": "stdout",
     "output_type": "stream",
     "text": [
      "The bikes were available for rental for 72 dyas\n"
     ]
    }
   ],
   "source": [
    "#For how many days were the bikes available for rental?\n",
    "\n",
    "num_of_days = city_bike17['start_day'].nunique()\n",
    "\n",
    "print(f'The bikes were available for rental for {num_of_days} dyas')"
   ]
  },
  {
   "cell_type": "code",
   "execution_count": 11,
   "metadata": {},
   "outputs": [
    {
     "name": "stdout",
     "output_type": "stream",
     "text": [
      "Count of rentals:201078, \n",
      "Count of bikes: 850\n"
     ]
    }
   ],
   "source": [
    "#How many rentals and bikes were there?\n",
    "\n",
    "num_of_bikes = city_bike17['bike_name'].nunique()\n",
    "\n",
    "num_of_rent = city_bike17['bike_name'].count()\n",
    "\n",
    "print(f'Count of rentals:{num_of_rent}, \\nCount of bikes: {num_of_bikes}')"
   ]
  },
  {
   "cell_type": "code",
   "execution_count": 14,
   "metadata": {},
   "outputs": [
    {
     "name": "stdout",
     "output_type": "stream",
     "text": [
      "The average time of rental: 16.490505011322302\n"
     ]
    }
   ],
   "source": [
    "#The average time of a rental:\n",
    "\n",
    "avg_time = city_bike17['duration_min'].mean()\n",
    "\n",
    "print(f'The average time of rental: {avg_time}')"
   ]
  },
  {
   "cell_type": "code",
   "execution_count": 16,
   "metadata": {},
   "outputs": [
    {
     "name": "stdout",
     "output_type": "stream",
     "text": [
      "Num of rentals under 15 minutes: 135051\n"
     ]
    }
   ],
   "source": [
    "#Rentals under 15 minutes\n",
    "\n",
    "#city_bike17['duration_min'] = pd.DatetimeIndex(city_bike17['duration_min']).minute\n",
    "\n",
    "rentals_under_15 = len(city_bike17[city_bike17['duration_min']<15])\n",
    "\n",
    "print('Num of rentals under 15 minutes:', rentals_under_15)"
   ]
  },
  {
   "cell_type": "code",
   "execution_count": 17,
   "metadata": {},
   "outputs": [
    {
     "name": "stdout",
     "output_type": "stream",
     "text": [
      "The most popular month is: May\n"
     ]
    },
    {
     "data": {
      "text/html": [
       "<div>\n",
       "<style scoped>\n",
       "    .dataframe tbody tr th:only-of-type {\n",
       "        vertical-align: middle;\n",
       "    }\n",
       "\n",
       "    .dataframe tbody tr th {\n",
       "        vertical-align: top;\n",
       "    }\n",
       "\n",
       "    .dataframe thead th {\n",
       "        text-align: right;\n",
       "    }\n",
       "</style>\n",
       "<table border=\"1\" class=\"dataframe\">\n",
       "  <thead>\n",
       "    <tr style=\"text-align: right;\">\n",
       "      <th></th>\n",
       "      <th>bike_name</th>\n",
       "    </tr>\n",
       "    <tr>\n",
       "      <th>start_month</th>\n",
       "      <th></th>\n",
       "    </tr>\n",
       "  </thead>\n",
       "  <tbody>\n",
       "    <tr>\n",
       "      <td>5</td>\n",
       "      <td>105776</td>\n",
       "    </tr>\n",
       "    <tr>\n",
       "      <td>4</td>\n",
       "      <td>67152</td>\n",
       "    </tr>\n",
       "    <tr>\n",
       "      <td>3</td>\n",
       "      <td>28150</td>\n",
       "    </tr>\n",
       "  </tbody>\n",
       "</table>\n",
       "</div>"
      ],
      "text/plain": [
       "             bike_name\n",
       "start_month           \n",
       "5               105776\n",
       "4                67152\n",
       "3                28150"
      ]
     },
     "execution_count": 17,
     "metadata": {},
     "output_type": "execute_result"
    }
   ],
   "source": [
    "#Number of rentals per month, most popular month\n",
    "\n",
    "month = {3:'March',4:'April',5:'May'}\n",
    "top_month = city_bike17.groupby('start_month').agg({'bike_name':'count'}).sort_values(by='bike_name', ascending=False).iloc[0].name\n",
    "print(f'The most popular month is: {month[top_month]}')\n",
    "\n",
    "city_bike17.groupby('start_month').agg({'bike_name':'count'}).sort_values(by=['bike_name'], ascending=False)\n"
   ]
  },
  {
   "cell_type": "code",
   "execution_count": 18,
   "metadata": {},
   "outputs": [
    {
     "name": "stdout",
     "output_type": "stream",
     "text": [
      "The most popular day: 2017-04-02\n"
     ]
    },
    {
     "data": {
      "text/html": [
       "<div>\n",
       "<style scoped>\n",
       "    .dataframe tbody tr th:only-of-type {\n",
       "        vertical-align: middle;\n",
       "    }\n",
       "\n",
       "    .dataframe tbody tr th {\n",
       "        vertical-align: top;\n",
       "    }\n",
       "\n",
       "    .dataframe thead th {\n",
       "        text-align: right;\n",
       "    }\n",
       "</style>\n",
       "<table border=\"1\" class=\"dataframe\">\n",
       "  <thead>\n",
       "    <tr style=\"text-align: right;\">\n",
       "      <th></th>\n",
       "      <th>bike_name</th>\n",
       "    </tr>\n",
       "    <tr>\n",
       "      <th>start_day</th>\n",
       "      <th></th>\n",
       "    </tr>\n",
       "  </thead>\n",
       "  <tbody>\n",
       "    <tr>\n",
       "      <td>92</td>\n",
       "      <td>6092</td>\n",
       "    </tr>\n",
       "  </tbody>\n",
       "</table>\n",
       "</div>"
      ],
      "text/plain": [
       "           bike_name\n",
       "start_day           \n",
       "92              6092"
      ]
     },
     "execution_count": 18,
     "metadata": {},
     "output_type": "execute_result"
    }
   ],
   "source": [
    "#Daily top score\n",
    "\n",
    "city_bike17['date'] = pd.DatetimeIndex(city_bike17['start_time']).date\n",
    "\n",
    "top_day = city_bike17.groupby('date').agg({'bike_name':'count'}).sort_values(by='bike_name', ascending=False).iloc[0].name\n",
    "print(f'The most popular day: {top_day}')\n",
    "\n",
    "city_bike17.groupby(['start_day']).agg({'bike_name':'count'}).sort_values(by=['bike_name'],ascending=False).head(1)\n"
   ]
  },
  {
   "cell_type": "code",
   "execution_count": 19,
   "metadata": {},
   "outputs": [
    {
     "name": "stdout",
     "output_type": "stream",
     "text": [
      "The most popular start station: 315269\n"
     ]
    }
   ],
   "source": [
    "#Most popular start station\n",
    "\n",
    "top_s_station = city_bike17['start_place_id'].value_counts().head(1).index[0]\n",
    "print(f'The most popular start station: {top_s_station}')"
   ]
  },
  {
   "cell_type": "code",
   "execution_count": 20,
   "metadata": {},
   "outputs": [
    {
     "name": "stdout",
     "output_type": "stream",
     "text": [
      "The most popular start station: 315269\n"
     ]
    }
   ],
   "source": [
    "#Most popular end station\n",
    "\n",
    "top_end_station = city_bike17['end_place_id'].value_counts().head(1).index[0]\n",
    "print(f'The most popular start station: {top_end_station}')"
   ]
  },
  {
   "cell_type": "code",
   "execution_count": 21,
   "metadata": {},
   "outputs": [
    {
     "name": "stdout",
     "output_type": "stream",
     "text": [
      "The most popular bike: 69617\n"
     ]
    }
   ],
   "source": [
    "#Most rented bike\n",
    "\n",
    "top_bike = city_bike17['bike_name'].value_counts().head(1).index[0]\n",
    "print(f'The most popular bike: {top_bike}')"
   ]
  },
  {
   "cell_type": "code",
   "execution_count": 59,
   "metadata": {},
   "outputs": [
    {
     "data": {
      "text/plain": [
       "Timedelta('6 days 13:24:53')"
      ]
     },
     "execution_count": 59,
     "metadata": {},
     "output_type": "execute_result"
    }
   ],
   "source": [
    "#Find the longest ride\n",
    "\n",
    "city_bike17.sort_values(by = ['duration'],ascending=False).head(1)\n",
    "city_bike17['duration'].max()\n",
    "#city_bike17.iloc[[60233]]"
   ]
  },
  {
   "cell_type": "markdown",
   "metadata": {},
   "source": [
    "<h3>3.PLOTS"
   ]
  },
  {
   "cell_type": "code",
   "execution_count": null,
   "metadata": {},
   "outputs": [],
   "source": [
    "#Create a plot for average rent number per month\n",
    "\n",
    "average_rent = city_bike17.groupby('start_month').agg({'bike_name':'count'}) #I count num of rent per month\n",
    "average_rent['num_day_in_month'] = city_bike17.groupby(['start_month'])[['day_of_month']].nunique() #I count num of days in month\n",
    "average_rent['result'] = average_rent['bike_name']//average_rent['num_day_in_month'] #I count average rent number for every month\n",
    "average_rent"
   ]
  },
  {
   "cell_type": "code",
   "execution_count": null,
   "metadata": {},
   "outputs": [],
   "source": [
    "#Use matplotlib\n",
    "average_rent['result'].plot(kind = 'bar', rot=360, title = 'Average rent number per month', legend = True, colormap = 'Pastel1');"
   ]
  },
  {
   "cell_type": "code",
   "execution_count": null,
   "metadata": {},
   "outputs": [],
   "source": [
    "#This is the same plot but by using plotly\n",
    "\n",
    "fig = go.FigureWidget(data=go.Bar(y=average_rent['result'], x = ['March','April','May']))\n",
    "fig.update_layout(\n",
    "    title={\n",
    "        'text': 'Average rent number per month',\n",
    "         'font': {\n",
    "              'family': 'Calibri',\n",
    "              'size': 30\n",
    "        },'y':0.95,\n",
    "        'x':0.5,\n",
    "        'xanchor': 'center',\n",
    "        'yanchor': 'top'})\n",
    "fig.update_traces(marker_color='deeppink')\n",
    "fig.update_yaxes(\n",
    "    title_text = 'number of rentals',\n",
    "    )\n",
    "fig.update_xaxes(\n",
    "    title_text = None\n",
    "\n",
    "    )\n",
    "\n",
    "fig.show()"
   ]
  },
  {
   "cell_type": "code",
   "execution_count": null,
   "metadata": {},
   "outputs": [],
   "source": [
    "#Create a plot for average rent number per day of week\n",
    "\n",
    "city_bike17['day_of_week'] = pd.DatetimeIndex(city_bike17['start_time']).dayofweek #I add a column with day of week \n",
    "rent_num_per_day = city_bike17.groupby('day_of_week').agg({'bike_name':['count']}) #I count num of rentals per day of week\n",
    "rent_num_per_day"
   ]
  },
  {
   "cell_type": "code",
   "execution_count": null,
   "metadata": {},
   "outputs": [],
   "source": [
    "num_of_day_df = pd.DataFrame(city_bike17.groupby(['date'])['day_of_week'].unique().value_counts()).sort_index()\n",
    "rent_num_per_day['num_of_days']=num_of_day_df['day_of_week']\n",
    "rent_num_per_day['num_per_day'] = rent_num_per_day['bike_name']['count'] / rent_num_per_day['num_of_days']\n",
    "rent_num_per_day.round(2)"
   ]
  },
  {
   "cell_type": "code",
   "execution_count": null,
   "metadata": {},
   "outputs": [],
   "source": [
    "fig = px.bar(rent_num_per_day, x=rent_num_per_day.index, y='num_per_day')\n",
    "fig.update_layout(\n",
    "    title={\n",
    "        'text': \"Number of rentals per day of week.\",\n",
    "         'font': {\n",
    "              'family': 'Calibri',\n",
    "              'size': 30\n",
    "        },\n",
    "        'y':0.95,\n",
    "        'x':0.5,\n",
    "        'xanchor': 'center',\n",
    "        'yanchor': 'top'})\n",
    "fig.update_traces(marker_color='pink')\n",
    "fig.update_yaxes(\n",
    "    title_text = 'number of rentals',\n",
    "    )\n",
    "fig.update_xaxes(\n",
    "    title_text = None\n",
    "    )\n",
    "fig.show()"
   ]
  },
  {
   "cell_type": "code",
   "execution_count": null,
   "metadata": {},
   "outputs": [],
   "source": [
    "#Create a plot for average time of rent per day of week\n",
    "\n",
    "average_time_of_rent_per_day = city_bike17.groupby('day_of_week').agg({'duration_min':'mean'})\n",
    "average_time_of_rent_per_day.reset_index(inplace=True)\n",
    "average_time_of_rent_per_day"
   ]
  },
  {
   "cell_type": "code",
   "execution_count": null,
   "metadata": {},
   "outputs": [],
   "source": [
    "average_time_of_rent_per_day.plot(x = 'day_of_week', y = 'duration_min', kind ='line',color='m');\n"
   ]
  },
  {
   "cell_type": "code",
   "execution_count": null,
   "metadata": {},
   "outputs": [],
   "source": [
    "fig = go.Figure()\n",
    "fig. add_trace(go.Bar(x=average_time_of_rent_per_day['day_of_week'], y=average_time_of_rent_per_day['duration_min']))\n",
    "fig.update_layout(\n",
    "    title={\n",
    "        'text': 'Average rent number per month',\n",
    "         'font': {\n",
    "              'family': 'Calibri',\n",
    "              'size': 30\n",
    "        },'y':0.95,\n",
    "        'x':0.5,\n",
    "        'xanchor': 'center',\n",
    "        'yanchor': 'top'})\n",
    "fig.update_traces(marker_color='mediumorchid')\n",
    "fig.update_yaxes(\n",
    "    title_text = 'number of rentals',\n",
    "    )\n",
    "fig.update_xaxes(\n",
    "    title_text = None)\n",
    "\n",
    "fig.show()"
   ]
  },
  {
   "cell_type": "code",
   "execution_count": null,
   "metadata": {},
   "outputs": [],
   "source": [
    "#Create a plot for average number of rents per hour (so we can check for example\n",
    "#how many rents on average are there during rush hours )\n",
    "city_bike17['start_hour'] = pd.DatetimeIndex(city_bike17['start_time']).hour\n",
    "ave_rent_per_h = city_bike17.groupby('start_hour').agg({'bike_name':'count'})"
   ]
  },
  {
   "cell_type": "code",
   "execution_count": null,
   "metadata": {},
   "outputs": [],
   "source": [
    "ave_rent_per_h.plot(kind ='bar', figsize = (15,7), use_index=True, xticks = (range(24)),rot = 45, grid=True, colormap = 'spring');\n",
    "                   "
   ]
  }
 ],
 "metadata": {
  "kernelspec": {
   "display_name": "Python 3",
   "language": "python",
   "name": "python3"
  },
  "language_info": {
   "codemirror_mode": {
    "name": "ipython",
    "version": 3
   },
   "file_extension": ".py",
   "mimetype": "text/x-python",
   "name": "python",
   "nbconvert_exporter": "python",
   "pygments_lexer": "ipython3",
   "version": "3.7.4"
  }
 },
 "nbformat": 4,
 "nbformat_minor": 4
}
