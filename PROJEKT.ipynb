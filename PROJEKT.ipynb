{
 "cells": [
  {
   "cell_type": "markdown",
   "metadata": {},
   "source": [
    "<h1>PROJECT CITYBIKE LUBLIN                               "
   ]
  },
  {
   "cell_type": "markdown",
   "metadata": {},
   "source": [
    "<span style=\"color:green\">Import all nessesary libraries"
   ]
  },
  {
   "cell_type": "code",
   "execution_count": 1,
   "metadata": {},
   "outputs": [],
   "source": [
    "import pandas as pd\n",
    "import numpy as np\n",
    "import datetime\n",
    "import matplotlib.pyplot as plt\n",
    "import plotly.graph_objects as go\n",
    "%matplotlib inline"
   ]
  },
  {
   "cell_type": "markdown",
   "metadata": {},
   "source": [
    "<h1>CITYBIKE 2017"
   ]
  },
  {
   "cell_type": "markdown",
   "metadata": {},
   "source": [
    "<h3> 1.READ DATA"
   ]
  },
  {
   "cell_type": "markdown",
   "metadata": {},
   "source": [
    "<span style=\"color:green\">Let's read data from 2017.xlsx file."
   ]
  },
  {
   "cell_type": "code",
   "execution_count": 23,
   "metadata": {},
   "outputs": [],
   "source": [
    "city_bike2017 = pd.read_excel('2017.xlsx',sheet_name= ['marzec','kwiecień','maj'])"
   ]
  },
  {
   "cell_type": "code",
   "execution_count": 3,
   "metadata": {},
   "outputs": [
    {
     "data": {
      "text/html": [
       "<div>\n",
       "<style scoped>\n",
       "    .dataframe tbody tr th:only-of-type {\n",
       "        vertical-align: middle;\n",
       "    }\n",
       "\n",
       "    .dataframe tbody tr th {\n",
       "        vertical-align: top;\n",
       "    }\n",
       "\n",
       "    .dataframe thead th {\n",
       "        text-align: right;\n",
       "    }\n",
       "</style>\n",
       "<table border=\"1\" class=\"dataframe\">\n",
       "  <thead>\n",
       "    <tr style=\"text-align: right;\">\n",
       "      <th></th>\n",
       "      <th>uid</th>\n",
       "      <th>bike_name</th>\n",
       "      <th>start_time</th>\n",
       "      <th>end_time</th>\n",
       "      <th>start_place_id</th>\n",
       "      <th>end_place_id</th>\n",
       "      <th>price</th>\n",
       "      <th>cust_id</th>\n",
       "    </tr>\n",
       "  </thead>\n",
       "  <tbody>\n",
       "    <tr>\n",
       "      <td>0</td>\n",
       "      <td>26627713</td>\n",
       "      <td>69277</td>\n",
       "      <td>2017-03-21 00:02:18</td>\n",
       "      <td>2017-03-21 00:02:44</td>\n",
       "      <td>315259</td>\n",
       "      <td>315259</td>\n",
       "      <td>0</td>\n",
       "      <td>991786</td>\n",
       "    </tr>\n",
       "    <tr>\n",
       "      <td>1</td>\n",
       "      <td>26627775</td>\n",
       "      <td>69756</td>\n",
       "      <td>2017-03-21 00:09:40</td>\n",
       "      <td>2017-03-21 00:22:59</td>\n",
       "      <td>673845</td>\n",
       "      <td>673845</td>\n",
       "      <td>0</td>\n",
       "      <td>864401</td>\n",
       "    </tr>\n",
       "    <tr>\n",
       "      <td>2</td>\n",
       "      <td>26627751</td>\n",
       "      <td>69631</td>\n",
       "      <td>2017-03-21 00:06:02</td>\n",
       "      <td>2017-03-21 00:23:46</td>\n",
       "      <td>673845</td>\n",
       "      <td>673845</td>\n",
       "      <td>0</td>\n",
       "      <td>864401</td>\n",
       "    </tr>\n",
       "    <tr>\n",
       "      <td>3</td>\n",
       "      <td>26627725</td>\n",
       "      <td>69455</td>\n",
       "      <td>2017-03-21 00:03:41</td>\n",
       "      <td>2017-03-21 00:27:37</td>\n",
       "      <td>315259</td>\n",
       "      <td>692596</td>\n",
       "      <td>100</td>\n",
       "      <td>991786</td>\n",
       "    </tr>\n",
       "    <tr>\n",
       "      <td>4</td>\n",
       "      <td>26627864</td>\n",
       "      <td>69692</td>\n",
       "      <td>2017-03-21 00:20:58</td>\n",
       "      <td>2017-03-21 00:28:56</td>\n",
       "      <td>315248</td>\n",
       "      <td>674263</td>\n",
       "      <td>0</td>\n",
       "      <td>868787</td>\n",
       "    </tr>\n",
       "  </tbody>\n",
       "</table>\n",
       "</div>"
      ],
      "text/plain": [
       "        uid  bike_name          start_time            end_time  \\\n",
       "0  26627713      69277 2017-03-21 00:02:18 2017-03-21 00:02:44   \n",
       "1  26627775      69756 2017-03-21 00:09:40 2017-03-21 00:22:59   \n",
       "2  26627751      69631 2017-03-21 00:06:02 2017-03-21 00:23:46   \n",
       "3  26627725      69455 2017-03-21 00:03:41 2017-03-21 00:27:37   \n",
       "4  26627864      69692 2017-03-21 00:20:58 2017-03-21 00:28:56   \n",
       "\n",
       "   start_place_id  end_place_id  price  cust_id  \n",
       "0          315259        315259      0   991786  \n",
       "1          673845        673845      0   864401  \n",
       "2          673845        673845      0   864401  \n",
       "3          315259        692596    100   991786  \n",
       "4          315248        674263      0   868787  "
      ]
     },
     "execution_count": 3,
     "metadata": {},
     "output_type": "execute_result"
    }
   ],
   "source": [
    "city_bike2017['marzec'].head()"
   ]
  },
  {
   "cell_type": "code",
   "execution_count": 4,
   "metadata": {},
   "outputs": [
    {
     "data": {
      "text/html": [
       "<div>\n",
       "<style scoped>\n",
       "    .dataframe tbody tr th:only-of-type {\n",
       "        vertical-align: middle;\n",
       "    }\n",
       "\n",
       "    .dataframe tbody tr th {\n",
       "        vertical-align: top;\n",
       "    }\n",
       "\n",
       "    .dataframe thead th {\n",
       "        text-align: right;\n",
       "    }\n",
       "</style>\n",
       "<table border=\"1\" class=\"dataframe\">\n",
       "  <thead>\n",
       "    <tr style=\"text-align: right;\">\n",
       "      <th></th>\n",
       "      <th>uid</th>\n",
       "      <th>bike_name</th>\n",
       "      <th>start_time</th>\n",
       "      <th>end_time</th>\n",
       "      <th>start_place_id</th>\n",
       "      <th>end_place_id</th>\n",
       "      <th>price</th>\n",
       "      <th>cust_id</th>\n",
       "    </tr>\n",
       "  </thead>\n",
       "  <tbody>\n",
       "    <tr>\n",
       "      <td>0</td>\n",
       "      <td>27188150</td>\n",
       "      <td>69486</td>\n",
       "      <td>2017-03-31 23:56:26</td>\n",
       "      <td>2017-04-01 00:00:12</td>\n",
       "      <td>315273</td>\n",
       "      <td>315273</td>\n",
       "      <td>0</td>\n",
       "      <td>1514820</td>\n",
       "    </tr>\n",
       "    <tr>\n",
       "      <td>1</td>\n",
       "      <td>27187806</td>\n",
       "      <td>69557</td>\n",
       "      <td>2017-03-31 23:45:38</td>\n",
       "      <td>2017-04-01 00:00:39</td>\n",
       "      <td>315272</td>\n",
       "      <td>315269</td>\n",
       "      <td>0</td>\n",
       "      <td>2024593</td>\n",
       "    </tr>\n",
       "    <tr>\n",
       "      <td>2</td>\n",
       "      <td>27187791</td>\n",
       "      <td>69269</td>\n",
       "      <td>2017-03-31 23:45:14</td>\n",
       "      <td>2017-04-01 00:01:13</td>\n",
       "      <td>315272</td>\n",
       "      <td>315269</td>\n",
       "      <td>0</td>\n",
       "      <td>2024593</td>\n",
       "    </tr>\n",
       "    <tr>\n",
       "      <td>3</td>\n",
       "      <td>27187827</td>\n",
       "      <td>69321</td>\n",
       "      <td>2017-03-31 23:46:13</td>\n",
       "      <td>2017-04-01 00:01:24</td>\n",
       "      <td>315272</td>\n",
       "      <td>315269</td>\n",
       "      <td>0</td>\n",
       "      <td>2024593</td>\n",
       "    </tr>\n",
       "    <tr>\n",
       "      <td>4</td>\n",
       "      <td>27187995</td>\n",
       "      <td>69344</td>\n",
       "      <td>2017-03-31 23:51:28</td>\n",
       "      <td>2017-04-01 00:01:55</td>\n",
       "      <td>315248</td>\n",
       "      <td>315233</td>\n",
       "      <td>0</td>\n",
       "      <td>983017</td>\n",
       "    </tr>\n",
       "  </tbody>\n",
       "</table>\n",
       "</div>"
      ],
      "text/plain": [
       "        uid  bike_name          start_time            end_time  \\\n",
       "0  27188150      69486 2017-03-31 23:56:26 2017-04-01 00:00:12   \n",
       "1  27187806      69557 2017-03-31 23:45:38 2017-04-01 00:00:39   \n",
       "2  27187791      69269 2017-03-31 23:45:14 2017-04-01 00:01:13   \n",
       "3  27187827      69321 2017-03-31 23:46:13 2017-04-01 00:01:24   \n",
       "4  27187995      69344 2017-03-31 23:51:28 2017-04-01 00:01:55   \n",
       "\n",
       "   start_place_id  end_place_id  price  cust_id  \n",
       "0          315273        315273      0  1514820  \n",
       "1          315272        315269      0  2024593  \n",
       "2          315272        315269      0  2024593  \n",
       "3          315272        315269      0  2024593  \n",
       "4          315248        315233      0   983017  "
      ]
     },
     "execution_count": 4,
     "metadata": {},
     "output_type": "execute_result"
    }
   ],
   "source": [
    "city_bike2017['kwiecień'].head()"
   ]
  },
  {
   "cell_type": "code",
   "execution_count": 5,
   "metadata": {},
   "outputs": [
    {
     "data": {
      "text/html": [
       "<div>\n",
       "<style scoped>\n",
       "    .dataframe tbody tr th:only-of-type {\n",
       "        vertical-align: middle;\n",
       "    }\n",
       "\n",
       "    .dataframe tbody tr th {\n",
       "        vertical-align: top;\n",
       "    }\n",
       "\n",
       "    .dataframe thead th {\n",
       "        text-align: right;\n",
       "    }\n",
       "</style>\n",
       "<table border=\"1\" class=\"dataframe\">\n",
       "  <thead>\n",
       "    <tr style=\"text-align: right;\">\n",
       "      <th></th>\n",
       "      <th>uid</th>\n",
       "      <th>bike_name</th>\n",
       "      <th>start_time</th>\n",
       "      <th>end_time</th>\n",
       "      <th>start_place_id</th>\n",
       "      <th>end_place_id</th>\n",
       "      <th>price</th>\n",
       "      <th>cust_id</th>\n",
       "    </tr>\n",
       "  </thead>\n",
       "  <tbody>\n",
       "    <tr>\n",
       "      <td>0</td>\n",
       "      <td>28587694</td>\n",
       "      <td>69328</td>\n",
       "      <td>2017-04-30 23:57:00</td>\n",
       "      <td>2017-05-01 00:01:00</td>\n",
       "      <td>360123</td>\n",
       "      <td>315269</td>\n",
       "      <td>0</td>\n",
       "      <td>2043725</td>\n",
       "    </tr>\n",
       "    <tr>\n",
       "      <td>1</td>\n",
       "      <td>28587504</td>\n",
       "      <td>69174</td>\n",
       "      <td>2017-04-30 23:43:00</td>\n",
       "      <td>2017-05-01 00:02:00</td>\n",
       "      <td>315235</td>\n",
       "      <td>674353</td>\n",
       "      <td>0</td>\n",
       "      <td>865781</td>\n",
       "    </tr>\n",
       "    <tr>\n",
       "      <td>2</td>\n",
       "      <td>28587316</td>\n",
       "      <td>69391</td>\n",
       "      <td>2017-04-30 23:31:00</td>\n",
       "      <td>2017-05-01 00:02:00</td>\n",
       "      <td>315265</td>\n",
       "      <td>315248</td>\n",
       "      <td>100</td>\n",
       "      <td>975251</td>\n",
       "    </tr>\n",
       "    <tr>\n",
       "      <td>3</td>\n",
       "      <td>28587629</td>\n",
       "      <td>69507</td>\n",
       "      <td>2017-04-30 23:51:00</td>\n",
       "      <td>2017-05-01 00:02:00</td>\n",
       "      <td>315238</td>\n",
       "      <td>315236</td>\n",
       "      <td>0</td>\n",
       "      <td>1300588</td>\n",
       "    </tr>\n",
       "    <tr>\n",
       "      <td>4</td>\n",
       "      <td>28587614</td>\n",
       "      <td>69659</td>\n",
       "      <td>2017-04-30 23:50:00</td>\n",
       "      <td>2017-05-01 00:03:00</td>\n",
       "      <td>315242</td>\n",
       "      <td>315269</td>\n",
       "      <td>0</td>\n",
       "      <td>886601</td>\n",
       "    </tr>\n",
       "  </tbody>\n",
       "</table>\n",
       "</div>"
      ],
      "text/plain": [
       "        uid  bike_name          start_time            end_time  \\\n",
       "0  28587694      69328 2017-04-30 23:57:00 2017-05-01 00:01:00   \n",
       "1  28587504      69174 2017-04-30 23:43:00 2017-05-01 00:02:00   \n",
       "2  28587316      69391 2017-04-30 23:31:00 2017-05-01 00:02:00   \n",
       "3  28587629      69507 2017-04-30 23:51:00 2017-05-01 00:02:00   \n",
       "4  28587614      69659 2017-04-30 23:50:00 2017-05-01 00:03:00   \n",
       "\n",
       "   start_place_id  end_place_id  price  cust_id  \n",
       "0          360123        315269      0  2043725  \n",
       "1          315235        674353      0   865781  \n",
       "2          315265        315248    100   975251  \n",
       "3          315238        315236      0  1300588  \n",
       "4          315242        315269      0   886601  "
      ]
     },
     "execution_count": 5,
     "metadata": {},
     "output_type": "execute_result"
    }
   ],
   "source": [
    "city_bike2017['maj'].head()"
   ]
  },
  {
   "cell_type": "code",
   "execution_count": 6,
   "metadata": {},
   "outputs": [
    {
     "data": {
      "text/html": [
       "<div>\n",
       "<style scoped>\n",
       "    .dataframe tbody tr th:only-of-type {\n",
       "        vertical-align: middle;\n",
       "    }\n",
       "\n",
       "    .dataframe tbody tr th {\n",
       "        vertical-align: top;\n",
       "    }\n",
       "\n",
       "    .dataframe thead th {\n",
       "        text-align: right;\n",
       "    }\n",
       "</style>\n",
       "<table border=\"1\" class=\"dataframe\">\n",
       "  <thead>\n",
       "    <tr style=\"text-align: right;\">\n",
       "      <th></th>\n",
       "      <th>uid</th>\n",
       "      <th>bike_name</th>\n",
       "      <th>start_time</th>\n",
       "      <th>end_time</th>\n",
       "      <th>start_place_id</th>\n",
       "      <th>end_place_id</th>\n",
       "      <th>price</th>\n",
       "      <th>cust_id</th>\n",
       "    </tr>\n",
       "  </thead>\n",
       "  <tbody>\n",
       "    <tr>\n",
       "      <td>0</td>\n",
       "      <td>26627713</td>\n",
       "      <td>69277</td>\n",
       "      <td>2017-03-21 00:02:18</td>\n",
       "      <td>2017-03-21 00:02:44</td>\n",
       "      <td>315259</td>\n",
       "      <td>315259</td>\n",
       "      <td>0</td>\n",
       "      <td>991786</td>\n",
       "    </tr>\n",
       "    <tr>\n",
       "      <td>1</td>\n",
       "      <td>26627775</td>\n",
       "      <td>69756</td>\n",
       "      <td>2017-03-21 00:09:40</td>\n",
       "      <td>2017-03-21 00:22:59</td>\n",
       "      <td>673845</td>\n",
       "      <td>673845</td>\n",
       "      <td>0</td>\n",
       "      <td>864401</td>\n",
       "    </tr>\n",
       "    <tr>\n",
       "      <td>2</td>\n",
       "      <td>26627751</td>\n",
       "      <td>69631</td>\n",
       "      <td>2017-03-21 00:06:02</td>\n",
       "      <td>2017-03-21 00:23:46</td>\n",
       "      <td>673845</td>\n",
       "      <td>673845</td>\n",
       "      <td>0</td>\n",
       "      <td>864401</td>\n",
       "    </tr>\n",
       "    <tr>\n",
       "      <td>3</td>\n",
       "      <td>26627725</td>\n",
       "      <td>69455</td>\n",
       "      <td>2017-03-21 00:03:41</td>\n",
       "      <td>2017-03-21 00:27:37</td>\n",
       "      <td>315259</td>\n",
       "      <td>692596</td>\n",
       "      <td>100</td>\n",
       "      <td>991786</td>\n",
       "    </tr>\n",
       "    <tr>\n",
       "      <td>4</td>\n",
       "      <td>26627864</td>\n",
       "      <td>69692</td>\n",
       "      <td>2017-03-21 00:20:58</td>\n",
       "      <td>2017-03-21 00:28:56</td>\n",
       "      <td>315248</td>\n",
       "      <td>674263</td>\n",
       "      <td>0</td>\n",
       "      <td>868787</td>\n",
       "    </tr>\n",
       "  </tbody>\n",
       "</table>\n",
       "</div>"
      ],
      "text/plain": [
       "        uid  bike_name          start_time            end_time  \\\n",
       "0  26627713      69277 2017-03-21 00:02:18 2017-03-21 00:02:44   \n",
       "1  26627775      69756 2017-03-21 00:09:40 2017-03-21 00:22:59   \n",
       "2  26627751      69631 2017-03-21 00:06:02 2017-03-21 00:23:46   \n",
       "3  26627725      69455 2017-03-21 00:03:41 2017-03-21 00:27:37   \n",
       "4  26627864      69692 2017-03-21 00:20:58 2017-03-21 00:28:56   \n",
       "\n",
       "   start_place_id  end_place_id  price  cust_id  \n",
       "0          315259        315259      0   991786  \n",
       "1          673845        673845      0   864401  \n",
       "2          673845        673845      0   864401  \n",
       "3          315259        692596    100   991786  \n",
       "4          315248        674263      0   868787  "
      ]
     },
     "execution_count": 6,
     "metadata": {},
     "output_type": "execute_result"
    }
   ],
   "source": [
    "#You have to merge dataframes by using 'append'\n",
    "\n",
    "city_bike17 = city_bike2017['marzec'].append(city_bike2017['kwiecień'], ignore_index= True)\n",
    "city_bike17 = city_bike17.append(city_bike2017['maj'], ignore_index= True)\n",
    "city_bike17.head()"
   ]
  },
  {
   "cell_type": "markdown",
   "metadata": {},
   "source": [
    "<span style=\"color:green\">What would you like to  know about data?\n",
    "    \n",
    "<span style=\"color:green\">Use DataFrame.info() and get information about:\n",
    "    \n",
    "<span style=\"color:green\">-numbers of rows and coulmns \n",
    "    \n",
    "<span style=\"color:green\">-types of data\n",
    "    \n",
    "<span style=\"color:green\">-are there missing values? \n",
    "    \n",
    "<span style=\"color:green\">-how many memory we need"
   ]
  },
  {
   "cell_type": "code",
   "execution_count": 7,
   "metadata": {},
   "outputs": [
    {
     "name": "stdout",
     "output_type": "stream",
     "text": [
      "<class 'pandas.core.frame.DataFrame'>\n",
      "RangeIndex: 201078 entries, 0 to 201077\n",
      "Data columns (total 8 columns):\n",
      "uid               201078 non-null int64\n",
      "bike_name         201078 non-null int64\n",
      "start_time        201078 non-null datetime64[ns]\n",
      "end_time          201078 non-null datetime64[ns]\n",
      "start_place_id    201078 non-null int64\n",
      "end_place_id      201078 non-null int64\n",
      "price             201078 non-null int64\n",
      "cust_id           201078 non-null int64\n",
      "dtypes: datetime64[ns](2), int64(6)\n",
      "memory usage: 12.3 MB\n"
     ]
    }
   ],
   "source": [
    "city_bike17.info(memory_usage = 'deep')"
   ]
  },
  {
   "cell_type": "markdown",
   "metadata": {},
   "source": [
    "<span style=\"color:green\">There are 201078 rows and 8 columns.\n",
    "\n",
    "<span style=\"color:green\">Dtypes: datetime64(2), int64(6)\n",
    "\n",
    "<span style=\"color:green\">There are not missing value - every columns has the same num non-null values\n",
    "\n",
    "<span style=\"color:green\">We use 13.8MB"
   ]
  },
  {
   "cell_type": "code",
   "execution_count": 8,
   "metadata": {},
   "outputs": [
    {
     "name": "stdout",
     "output_type": "stream",
     "text": [
      "(201078, 8)\n",
      "False\n"
     ]
    }
   ],
   "source": [
    "#You can also use DataFrame.shape to get num of rows and columns and DataFrame.isnull to get num of non-null values\n",
    "print(city_bike17.shape )\n",
    "print(city_bike17.isnull().any().any()) #False means that you don't have any non-missing values'''"
   ]
  },
  {
   "cell_type": "code",
   "execution_count": 9,
   "metadata": {},
   "outputs": [
    {
     "data": {
      "text/plain": [
       "\"\\ndef memory_usage(df):\\n    for series in (['start_place_id','end_place_id','price']):\\n        df[series] = df[series].astype('int16')\\n    for serie in (['bike_name']):\\n        df[serie] = df[serie].astype('int32')\\n    return df\\ncity_bike17=memory_usage(city_bike17)\""
      ]
     },
     "execution_count": 9,
     "metadata": {},
     "output_type": "execute_result"
    }
   ],
   "source": [
    "#You can use DataSeries.astype('type') to change memory usage\n",
    "\n",
    "#TUTAJ COŚ POSZŁO NIE TAK\n",
    "'''\n",
    "def memory_usage(df):\n",
    "    for series in (['start_place_id','end_place_id','price']):\n",
    "        df[series] = df[series].astype('int16')\n",
    "    for serie in (['bike_name']):\n",
    "        df[serie] = df[serie].astype('int32')\n",
    "    return df\n",
    "city_bike17=memory_usage(city_bike17)'''\n",
    "#city_bike17.info(memory_usage='deep')"
   ]
  },
  {
   "cell_type": "code",
   "execution_count": 10,
   "metadata": {},
   "outputs": [
    {
     "data": {
      "text/html": [
       "<div>\n",
       "<style scoped>\n",
       "    .dataframe tbody tr th:only-of-type {\n",
       "        vertical-align: middle;\n",
       "    }\n",
       "\n",
       "    .dataframe tbody tr th {\n",
       "        vertical-align: top;\n",
       "    }\n",
       "\n",
       "    .dataframe thead th {\n",
       "        text-align: right;\n",
       "    }\n",
       "</style>\n",
       "<table border=\"1\" class=\"dataframe\">\n",
       "  <thead>\n",
       "    <tr style=\"text-align: right;\">\n",
       "      <th></th>\n",
       "      <th>uid</th>\n",
       "      <th>bike_name</th>\n",
       "      <th>start_time</th>\n",
       "      <th>end_time</th>\n",
       "      <th>start_place_id</th>\n",
       "      <th>end_place_id</th>\n",
       "      <th>price</th>\n",
       "      <th>cust_id</th>\n",
       "      <th>start_day</th>\n",
       "      <th>start_month</th>\n",
       "      <th>day_of_month</th>\n",
       "      <th>day_of_week</th>\n",
       "      <th>duration_min</th>\n",
       "    </tr>\n",
       "  </thead>\n",
       "  <tbody>\n",
       "    <tr>\n",
       "      <td>0</td>\n",
       "      <td>26627713</td>\n",
       "      <td>69277</td>\n",
       "      <td>2017-03-21 00:02:18</td>\n",
       "      <td>2017-03-21 00:02:44</td>\n",
       "      <td>315259</td>\n",
       "      <td>315259</td>\n",
       "      <td>0</td>\n",
       "      <td>991786</td>\n",
       "      <td>80</td>\n",
       "      <td>3</td>\n",
       "      <td>21</td>\n",
       "      <td>1</td>\n",
       "      <td>00:00:26</td>\n",
       "    </tr>\n",
       "    <tr>\n",
       "      <td>1</td>\n",
       "      <td>26627775</td>\n",
       "      <td>69756</td>\n",
       "      <td>2017-03-21 00:09:40</td>\n",
       "      <td>2017-03-21 00:22:59</td>\n",
       "      <td>673845</td>\n",
       "      <td>673845</td>\n",
       "      <td>0</td>\n",
       "      <td>864401</td>\n",
       "      <td>80</td>\n",
       "      <td>3</td>\n",
       "      <td>21</td>\n",
       "      <td>1</td>\n",
       "      <td>00:13:19</td>\n",
       "    </tr>\n",
       "    <tr>\n",
       "      <td>2</td>\n",
       "      <td>26627751</td>\n",
       "      <td>69631</td>\n",
       "      <td>2017-03-21 00:06:02</td>\n",
       "      <td>2017-03-21 00:23:46</td>\n",
       "      <td>673845</td>\n",
       "      <td>673845</td>\n",
       "      <td>0</td>\n",
       "      <td>864401</td>\n",
       "      <td>80</td>\n",
       "      <td>3</td>\n",
       "      <td>21</td>\n",
       "      <td>1</td>\n",
       "      <td>00:17:44</td>\n",
       "    </tr>\n",
       "    <tr>\n",
       "      <td>3</td>\n",
       "      <td>26627725</td>\n",
       "      <td>69455</td>\n",
       "      <td>2017-03-21 00:03:41</td>\n",
       "      <td>2017-03-21 00:27:37</td>\n",
       "      <td>315259</td>\n",
       "      <td>692596</td>\n",
       "      <td>100</td>\n",
       "      <td>991786</td>\n",
       "      <td>80</td>\n",
       "      <td>3</td>\n",
       "      <td>21</td>\n",
       "      <td>1</td>\n",
       "      <td>00:23:56</td>\n",
       "    </tr>\n",
       "    <tr>\n",
       "      <td>4</td>\n",
       "      <td>26627864</td>\n",
       "      <td>69692</td>\n",
       "      <td>2017-03-21 00:20:58</td>\n",
       "      <td>2017-03-21 00:28:56</td>\n",
       "      <td>315248</td>\n",
       "      <td>674263</td>\n",
       "      <td>0</td>\n",
       "      <td>868787</td>\n",
       "      <td>80</td>\n",
       "      <td>3</td>\n",
       "      <td>21</td>\n",
       "      <td>1</td>\n",
       "      <td>00:07:58</td>\n",
       "    </tr>\n",
       "  </tbody>\n",
       "</table>\n",
       "</div>"
      ],
      "text/plain": [
       "        uid  bike_name          start_time            end_time  \\\n",
       "0  26627713      69277 2017-03-21 00:02:18 2017-03-21 00:02:44   \n",
       "1  26627775      69756 2017-03-21 00:09:40 2017-03-21 00:22:59   \n",
       "2  26627751      69631 2017-03-21 00:06:02 2017-03-21 00:23:46   \n",
       "3  26627725      69455 2017-03-21 00:03:41 2017-03-21 00:27:37   \n",
       "4  26627864      69692 2017-03-21 00:20:58 2017-03-21 00:28:56   \n",
       "\n",
       "   start_place_id  end_place_id  price  cust_id  start_day  start_month  \\\n",
       "0          315259        315259      0   991786         80            3   \n",
       "1          673845        673845      0   864401         80            3   \n",
       "2          673845        673845      0   864401         80            3   \n",
       "3          315259        692596    100   991786         80            3   \n",
       "4          315248        674263      0   868787         80            3   \n",
       "\n",
       "   day_of_month  day_of_week duration_min  \n",
       "0            21            1     00:00:26  \n",
       "1            21            1     00:13:19  \n",
       "2            21            1     00:17:44  \n",
       "3            21            1     00:23:56  \n",
       "4            21            1     00:07:58  "
      ]
     },
     "execution_count": 10,
     "metadata": {},
     "output_type": "execute_result"
    }
   ],
   "source": [
    "#create additional TIME columns so it would be easier to manipulate the data\n",
    "\n",
    "city_bike17['start_day'] = pd.DatetimeIndex(city_bike17['start_time']).dayofyear\n",
    "\n",
    "city_bike17['start_month'] = pd.DatetimeIndex(city_bike17['start_time']).month\n",
    "\n",
    "city_bike17['day_of_month'] = pd.DatetimeIndex(city_bike17['start_time']).day\n",
    "\n",
    "city_bike17['day_of_week'] = pd.DatetimeIndex(city_bike17['start_time']).dayofweek\n",
    "\n",
    "\n",
    "\n",
    "#create additional duration column so it would be easier to manipulate the data\n",
    "\n",
    "city_bike17['duration_min']= city_bike17['end_time']-city_bike17['start_time']\n",
    "#city_bike17['duration_min']=pd.to_datetime(city_bike17['duration_min'])\n",
    "city_bike17.head()\n"
   ]
  },
  {
   "cell_type": "code",
   "execution_count": 11,
   "metadata": {},
   "outputs": [],
   "source": [
    "#city_bike17.sort_values(by = ['duration_min'],ascending=False).head(1)\n",
    "#city_bike17.iloc[[60233]]"
   ]
  },
  {
   "cell_type": "markdown",
   "metadata": {},
   "source": [
    "<h3>2.DATA ANALYSIS"
   ]
  },
  {
   "cell_type": "code",
   "execution_count": 12,
   "metadata": {},
   "outputs": [
    {
     "name": "stdout",
     "output_type": "stream",
     "text": [
      "The bikes were available for rental for 72 dyas\n"
     ]
    }
   ],
   "source": [
    "#For how many days were the bikes available for rental?\n",
    "\n",
    "num_of_days = city_bike17['start_day'].nunique()\n",
    "\n",
    "print(f'The bikes were available for rental for {num_of_days} dyas')"
   ]
  },
  {
   "cell_type": "code",
   "execution_count": 13,
   "metadata": {},
   "outputs": [
    {
     "name": "stdout",
     "output_type": "stream",
     "text": [
      "Count of rentals:201078, \n",
      "Count of bikes: 850\n"
     ]
    }
   ],
   "source": [
    "#how many rentals and bikes were there?\n",
    "\n",
    "num_of_bikes = city_bike17['bike_name'].nunique()\n",
    "\n",
    "num_of_rent = city_bike17['bike_name'].count()\n",
    "\n",
    "print(f'Count of rentals:{num_of_rent}, \\nCount of bikes: {num_of_bikes}')"
   ]
  },
  {
   "cell_type": "code",
   "execution_count": 14,
   "metadata": {},
   "outputs": [
    {
     "name": "stdout",
     "output_type": "stream",
     "text": [
      "The average time of rental: 16\n"
     ]
    }
   ],
   "source": [
    "#The average time of a rental:\n",
    "\n",
    "avg_time = city_bike17['duration_min'].mean()\n",
    "\n",
    "avg_time.components.minutes\n",
    "\n",
    "print(f'The average time of rental: {avg_time.components.minutes}')"
   ]
  },
  {
   "cell_type": "code",
   "execution_count": 15,
   "metadata": {},
   "outputs": [
    {
     "name": "stdout",
     "output_type": "stream",
     "text": [
      "Num of rentals under 15 minutes: 137776\n"
     ]
    },
    {
     "name": "stderr",
     "output_type": "stream",
     "text": [
      "C:\\ProgramData\\Anaconda3\\lib\\site-packages\\ipykernel_launcher.py:4: FutureWarning:\n",
      "\n",
      "Passing timedelta64-dtype data is deprecated, will raise a TypeError in a future version\n",
      "\n"
     ]
    }
   ],
   "source": [
    "#Rentals under 15 minutes\n",
    "\n",
    "\n",
    "city_bike17['duration_min'] = pd.DatetimeIndex(city_bike17['duration_min']).minute\n",
    "\n",
    "rentals_under_15 = len(city_bike17[city_bike17['duration_min']<15])\n",
    "\n",
    "print('Num of rentals under 15 minutes:', rentals_under_15)"
   ]
  },
  {
   "cell_type": "code",
   "execution_count": 16,
   "metadata": {},
   "outputs": [
    {
     "name": "stdout",
     "output_type": "stream",
     "text": [
      "The most popular month is:5\n"
     ]
    },
    {
     "data": {
      "text/html": [
       "<div>\n",
       "<style scoped>\n",
       "    .dataframe tbody tr th:only-of-type {\n",
       "        vertical-align: middle;\n",
       "    }\n",
       "\n",
       "    .dataframe tbody tr th {\n",
       "        vertical-align: top;\n",
       "    }\n",
       "\n",
       "    .dataframe thead th {\n",
       "        text-align: right;\n",
       "    }\n",
       "</style>\n",
       "<table border=\"1\" class=\"dataframe\">\n",
       "  <thead>\n",
       "    <tr style=\"text-align: right;\">\n",
       "      <th></th>\n",
       "      <th>bike_name</th>\n",
       "    </tr>\n",
       "    <tr>\n",
       "      <th>start_month</th>\n",
       "      <th></th>\n",
       "    </tr>\n",
       "  </thead>\n",
       "  <tbody>\n",
       "    <tr>\n",
       "      <td>5</td>\n",
       "      <td>105776</td>\n",
       "    </tr>\n",
       "    <tr>\n",
       "      <td>4</td>\n",
       "      <td>67152</td>\n",
       "    </tr>\n",
       "    <tr>\n",
       "      <td>3</td>\n",
       "      <td>28150</td>\n",
       "    </tr>\n",
       "  </tbody>\n",
       "</table>\n",
       "</div>"
      ],
      "text/plain": [
       "             bike_name\n",
       "start_month           \n",
       "5               105776\n",
       "4                67152\n",
       "3                28150"
      ]
     },
     "execution_count": 16,
     "metadata": {},
     "output_type": "execute_result"
    }
   ],
   "source": [
    "#Number of rentals per month, most popular month\n",
    "\n",
    "\n",
    "top_month = city_bike17.groupby('start_month').agg({'bike_name':'count'}).sort_values(by='bike_name', ascending=False).iloc[0].name\n",
    "print(f'The most popular month is:{top_month}')\n",
    "\n",
    "city_bike17.groupby('start_month').agg({'bike_name':'count'}).sort_values(by=['bike_name'], ascending=False)"
   ]
  },
  {
   "cell_type": "code",
   "execution_count": 17,
   "metadata": {},
   "outputs": [
    {
     "name": "stdout",
     "output_type": "stream",
     "text": [
      "2017-04-02\n"
     ]
    },
    {
     "data": {
      "text/html": [
       "<div>\n",
       "<style scoped>\n",
       "    .dataframe tbody tr th:only-of-type {\n",
       "        vertical-align: middle;\n",
       "    }\n",
       "\n",
       "    .dataframe tbody tr th {\n",
       "        vertical-align: top;\n",
       "    }\n",
       "\n",
       "    .dataframe thead th {\n",
       "        text-align: right;\n",
       "    }\n",
       "</style>\n",
       "<table border=\"1\" class=\"dataframe\">\n",
       "  <thead>\n",
       "    <tr style=\"text-align: right;\">\n",
       "      <th></th>\n",
       "      <th>bike_name</th>\n",
       "    </tr>\n",
       "    <tr>\n",
       "      <th>start_day</th>\n",
       "      <th></th>\n",
       "    </tr>\n",
       "  </thead>\n",
       "  <tbody>\n",
       "    <tr>\n",
       "      <td>92</td>\n",
       "      <td>6092</td>\n",
       "    </tr>\n",
       "  </tbody>\n",
       "</table>\n",
       "</div>"
      ],
      "text/plain": [
       "           bike_name\n",
       "start_day           \n",
       "92              6092"
      ]
     },
     "execution_count": 17,
     "metadata": {},
     "output_type": "execute_result"
    }
   ],
   "source": [
    "#daily top score\n",
    "\n",
    "city_bike17['date'] = pd.DatetimeIndex(city_bike17['start_time']).date\n",
    "\n",
    "print(city_bike17.groupby('date').agg({'bike_name':'count'}).sort_values(by='bike_name', ascending=False).iloc[0].name)\n",
    "\n",
    "city_bike17.groupby(['start_day']).agg({'bike_name':'count'}).sort_values(by=['bike_name'],ascending=False).head(1)\n"
   ]
  },
  {
   "cell_type": "code",
   "execution_count": 18,
   "metadata": {},
   "outputs": [
    {
     "data": {
      "text/plain": [
       "315269    9187\n",
       "Name: start_place_id, dtype: int64"
      ]
     },
     "execution_count": 18,
     "metadata": {},
     "output_type": "execute_result"
    }
   ],
   "source": [
    "#most popular start station\n",
    "\n",
    "city_bike17['start_place_id'].value_counts().head(1)"
   ]
  },
  {
   "cell_type": "code",
   "execution_count": 19,
   "metadata": {},
   "outputs": [
    {
     "data": {
      "text/plain": [
       "315269    9967\n",
       "Name: end_place_id, dtype: int64"
      ]
     },
     "execution_count": 19,
     "metadata": {},
     "output_type": "execute_result"
    }
   ],
   "source": [
    "#most popular end station\n",
    "\n",
    "city_bike17['end_place_id'].value_counts().head(1)"
   ]
  },
  {
   "cell_type": "code",
   "execution_count": 20,
   "metadata": {},
   "outputs": [
    {
     "data": {
      "text/plain": [
       "69617    439\n",
       "Name: bike_name, dtype: int64"
      ]
     },
     "execution_count": 20,
     "metadata": {},
     "output_type": "execute_result"
    }
   ],
   "source": [
    "#most rented bike\n",
    "\n",
    "city_bike17['bike_name'].value_counts().head(1)"
   ]
  }
 ],
 "metadata": {
  "kernelspec": {
   "display_name": "Python 3",
   "language": "python",
   "name": "python3"
  },
  "language_info": {
   "codemirror_mode": {
    "name": "ipython",
    "version": 3
   },
   "file_extension": ".py",
   "mimetype": "text/x-python",
   "name": "python",
   "nbconvert_exporter": "python",
   "pygments_lexer": "ipython3",
   "version": "3.7.4"
  }
 },
 "nbformat": 4,
 "nbformat_minor": 4
}
