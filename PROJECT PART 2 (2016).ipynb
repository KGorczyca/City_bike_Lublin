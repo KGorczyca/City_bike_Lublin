{
 "cells": [
  {
   "cell_type": "markdown",
   "metadata": {},
   "source": [
    "<h1>PROJECT CITYBIKE LUBLIN "
   ]
  },
  {
   "cell_type": "markdown",
   "metadata": {},
   "source": [
    "<span style=\"color:green\">Import all nessesary libraries"
   ]
  },
  {
   "cell_type": "code",
   "execution_count": 1,
   "metadata": {},
   "outputs": [],
   "source": [
    "import pandas as pd\n",
    "import numpy as np\n",
    "import datetime\n",
    "import matplotlib.pyplot as plt\n",
    "import plotly.graph_objects as go\n",
    "import plotly.express as px\n",
    "\n",
    "%matplotlib inline"
   ]
  },
  {
   "cell_type": "markdown",
   "metadata": {},
   "source": [
    "<h1>CITYBIKE 2016"
   ]
  },
  {
   "cell_type": "markdown",
   "metadata": {},
   "source": [
    "<h3> 1.READ DATA"
   ]
  },
  {
   "cell_type": "markdown",
   "metadata": {},
   "source": [
    "<span style=\"color:green\">Let's read data from 2016.xlsx file."
   ]
  },
  {
   "cell_type": "code",
   "execution_count": null,
   "metadata": {},
   "outputs": [],
   "source": [
    "city_bike16 = pd.read_excel('2016.xlsx',sheet_name= ['marzec','kwiecień','maj','czerwiec','lipiec','sierpień','wrzesień', 'październik','listopad'])"
   ]
  },
  {
   "cell_type": "code",
   "execution_count": null,
   "metadata": {},
   "outputs": [],
   "source": [
    "#You have to merge dataframes by using 'concat'\n",
    "\n",
    "city_bike16 = pd.concat(objs=[city_bike16['marzec'],city_bike16['kwiecień'],city_bike16['maj'],city_bike16['czerwiec'],city_bike16['lipiec'],city_bike16['sierpień'],city_bike16['wrzesień'], city_bike16['październik'],city_bike16['listopad']], ignore_index=True)\n",
    "city_bike16.sample(3)"
   ]
  },
  {
   "cell_type": "markdown",
   "metadata": {},
   "source": [
    "<span style=\"color:green\">What would you like to  know about data?\n",
    "    \n",
    "<span style=\"color:green\">Use DataFrame.info() and get information about:\n",
    "    \n",
    "<span style=\"color:green\">-numbers of rows and coulmns \n",
    "    \n",
    "<span style=\"color:green\">-types of data\n",
    "    \n",
    "<span style=\"color:green\">-are there missing values? \n",
    "    \n",
    "<span style=\"color:green\">-how many memory we need"
   ]
  },
  {
   "cell_type": "code",
   "execution_count": null,
   "metadata": {},
   "outputs": [],
   "source": [
    "city_bike16.info(memory_usage = 'deep')"
   ]
  },
  {
   "cell_type": "markdown",
   "metadata": {},
   "source": [
    "<span style=\"color:green\">There are 201078 rows and 8 columns.\n",
    "\n",
    "<span style=\"color:green\">Dtypes: datetime64(2), int64(6)\n",
    "\n",
    "<span style=\"color:green\">There are not missing value - every columns has the same num non-null values\n",
    "\n",
    "<span style=\"color:green\">We use 51.5MB"
   ]
  },
  {
   "cell_type": "code",
   "execution_count": null,
   "metadata": {},
   "outputs": [],
   "source": [
    "#You can also use DataFrame.shape to get num of rows and columns and DataFrame.isnull to get num of non-null values\n",
    "print(city_bike16.shape )\n",
    "print(city_bike16.isnull().any().any()) #False means that you don't have any non-missing values"
   ]
  },
  {
   "cell_type": "code",
   "execution_count": null,
   "metadata": {},
   "outputs": [],
   "source": [
    "#Create additional TIME columns so it would be easier to manipulate the data\n",
    "\n",
    "city_bike16['start_day'] = pd.DatetimeIndex(city_bike16['start_time']).dayofyear\n",
    "\n",
    "city_bike16['start_month'] = pd.DatetimeIndex(city_bike16['start_time']).month\n",
    "\n",
    "city_bike16['day_of_month'] = pd.DatetimeIndex(city_bike16['start_time']).day\n",
    "\n",
    "city_bike16['day_of_week'] = pd.DatetimeIndex(city_bike16['start_time']).dayofweek\n",
    "\n",
    "\n",
    "\n",
    "#Create additional duration column so it would be easier to manipulate the data\n",
    "\n",
    "city_bike16['duration'] = city_bike16['end_time']-city_bike16['start_time']\n",
    "\n",
    "city_bike16['duration_sec']= pd.TimedeltaIndex(city_bike16['end_time']-city_bike16['start_time']).seconds\n",
    "\n",
    "city_bike16['duration_min'] = city_bike16['duration_sec'] / 60\n",
    "\n",
    "city_bike16['duration_hour'] = city_bike16['duration_sec']/3600\n",
    "\n",
    "city_bike16.sample(5)"
   ]
  },
  {
   "cell_type": "markdown",
   "metadata": {},
   "source": [
    "<h3>2.DATA ANALYSIS"
   ]
  },
  {
   "cell_type": "code",
   "execution_count": null,
   "metadata": {},
   "outputs": [],
   "source": [
    "#For how many days were the bikes available for rental?\n",
    "\n",
    "num_of_days = city_bike16['start_day'].nunique()\n",
    "\n",
    "print(f'The bikes were available for rental for {num_of_days} dyas')"
   ]
  },
  {
   "cell_type": "code",
   "execution_count": null,
   "metadata": {},
   "outputs": [],
   "source": [
    "#How many rentals and bikes were there?\n",
    "\n",
    "num_of_bikes = city_bike16['bike_name'].nunique()\n",
    "\n",
    "num_of_rent = city_bike16['bike_name'].count()\n",
    "\n",
    "print(f'Count of rentals:{num_of_rent}, \\nCount of bikes: {num_of_bikes}')"
   ]
  },
  {
   "cell_type": "code",
   "execution_count": null,
   "metadata": {},
   "outputs": [],
   "source": [
    "#The average time of a rental:\n",
    "\n",
    "avg_time = city_bike16['duration_min'].mean()\n",
    "\n",
    "print(f'The average time of rental: {avg_time}')"
   ]
  },
  {
   "cell_type": "code",
   "execution_count": null,
   "metadata": {},
   "outputs": [],
   "source": [
    "#Rentals under 15 minutes\n",
    "\n",
    "rentals_under_15 = len(city_bike16[city_bike16['duration_min']<15])\n",
    "\n",
    "print('Num of rentals under 15 minutes:', rentals_under_15)"
   ]
  },
  {
   "cell_type": "code",
   "execution_count": null,
   "metadata": {},
   "outputs": [],
   "source": [
    "#Number of rentals per month, most popular month\n",
    "\n",
    "month = {3:'March',4:'April',5:'May',6:'June',7:'July',8:'August',9:'September',10:'October',11:'November'}\n",
    "\n",
    "top_month = city_bike16.groupby('start_month').agg({'bike_name':'count'}).sort_values(by='bike_name', ascending=False).iloc[0].name\n",
    "\n",
    "print(f'The most popular month is: {month[top_month]}')\n",
    "\n",
    "city_bike16.groupby('start_month').agg({'bike_name':'count'}).sort_values(by=['bike_name'], ascending=False)\n"
   ]
  },
  {
   "cell_type": "code",
   "execution_count": null,
   "metadata": {},
   "outputs": [],
   "source": [
    "#Daily top score\n",
    "\n",
    "city_bike16['date'] = pd.DatetimeIndex(city_bike16['start_time']).date\n",
    "\n",
    "top_day = city_bike16.groupby('date').agg({'bike_name':'count'}).sort_values(by='bike_name', ascending=False).iloc[0].name\n",
    "\n",
    "print(f'The most popular day: {top_day}')\n",
    "\n",
    "\n",
    "city_bike16.groupby(['start_day']).agg({'bike_name':'count'}).sort_values(by=['bike_name'],ascending=False).head(1)\n"
   ]
  },
  {
   "cell_type": "code",
   "execution_count": null,
   "metadata": {},
   "outputs": [],
   "source": [
    "#Most popular start station\n",
    "\n",
    "top_s_station = city_bike16['start_place_id'].value_counts().head(1).index[0]\n",
    "\n",
    "print(f'The most popular start station number: {top_s_station}')"
   ]
  },
  {
   "cell_type": "code",
   "execution_count": null,
   "metadata": {},
   "outputs": [],
   "source": [
    "#Most popular end station\n",
    "\n",
    "top_end_station = city_bike16['end_place_id'].value_counts().head(1).index[0]\n",
    "\n",
    "print(f'The most popular start station number: {top_end_station}')"
   ]
  },
  {
   "cell_type": "code",
   "execution_count": null,
   "metadata": {},
   "outputs": [],
   "source": [
    "#How many bikes depart from each station monthly? \n",
    "\n",
    "city_bike16.groupby(['start_place_id','start_month'])[['bike_name']].count().head()"
   ]
  },
  {
   "cell_type": "code",
   "execution_count": null,
   "metadata": {},
   "outputs": [],
   "source": [
    "#How many bikes return from each station monthly? \n",
    "\n",
    "city_bike16.groupby(['end_place_id','start_month'])[['bike_name']].count().head()"
   ]
  },
  {
   "cell_type": "code",
   "execution_count": null,
   "metadata": {},
   "outputs": [],
   "source": [
    "#Most rented bike\n",
    "\n",
    "top_bike = city_bike16['bike_name'].value_counts().head(1).index[0]\n",
    "\n",
    "#or\n",
    "\n",
    "top_bike = city_bike16['bike_name'].value_counts().idxmax()\n",
    "\n",
    "print(f'The most popular bike: {top_bike}')\n"
   ]
  },
  {
   "cell_type": "code",
   "execution_count": null,
   "metadata": {},
   "outputs": [],
   "source": [
    "#Check if the most rented bike has visited all the stations during te season? If not what were the not visited stations?\n",
    "\n",
    "\n",
    "mr_bike = city_bike16[city_bike16['bike_name'] == 69617]\n",
    "\n",
    "print('The busiest bike visited', mr_bike['end_place_id'].nunique(),'return stations and',mr_bike['start_place_id'].nunique(),\n",
    "      'departure stations.')"
   ]
  },
  {
   "cell_type": "code",
   "execution_count": null,
   "metadata": {},
   "outputs": [],
   "source": [
    "mr_bike = city_bike16[city_bike16['bike_name'] == 69617] #most rented bike\n",
    "\n",
    "mr_bike['start_place_id'].unique() #stations which was visited by mr_bike\n",
    "\n",
    "city_bike16['start_place_id'].unique() #all stations\n",
    "\n",
    "pd.Series(mr_bike['start_place_id'].unique()) #you have to change ndarray to Series\n",
    "\n",
    "pd.Series(mr_bike['start_place_id'].unique()).index #you need to get index, becouse in the nest step you will use drop method\n",
    "                                                    #(this method demand a list of rows numbers )\n",
    "\n",
    "pd.Series(city_bike16['start_place_id'].unique()).drop(pd.Series(mr_bike['start_place_id'].unique()).index) \n",
    "#you get list wiht not visited stations"
   ]
  },
  {
   "cell_type": "code",
   "execution_count": null,
   "metadata": {},
   "outputs": [],
   "source": [
    "#Find the longest ride\n",
    "\n",
    "longest_ride = city_bike16.sort_values(by = ['duration'],ascending=False)\n",
    "\n",
    "longest_ride.head(10)\n",
    "\n",
    "longest_ride['duration'].loc[19589]"
   ]
  },
  {
   "cell_type": "markdown",
   "metadata": {},
   "source": [
    "<h3>3.PLOTS"
   ]
  },
  {
   "cell_type": "code",
   "execution_count": null,
   "metadata": {},
   "outputs": [],
   "source": [
    "#Create a plot for average rent number per month\n",
    "\n",
    "average_rent = city_bike16.groupby('start_month').agg({'bike_name':'count'}) #I count num of rent per month\n",
    "\n",
    "average_rent['num_day_in_month'] = city_bike16.groupby(['start_month'])[['day_of_month']].nunique() #I count num of days in month\n",
    "\n",
    "average_rent['result'] = average_rent['bike_name']//average_rent['num_day_in_month'] #I count average rent number for every month\n",
    "\n",
    "average_rent"
   ]
  },
  {
   "cell_type": "code",
   "execution_count": null,
   "metadata": {},
   "outputs": [],
   "source": [
    "#Use matplotlib\n",
    "average_rent['result'].plot(kind = 'bar', rot=360, title = 'Average rent number per month', legend = True, colormap = 'Pastel1');"
   ]
  },
  {
   "cell_type": "code",
   "execution_count": null,
   "metadata": {},
   "outputs": [],
   "source": [
    "#This is the same plot but by using plotly\n",
    "\n",
    "fig = go.FigureWidget(data=go.Bar(y=average_rent['result'], x = ['March','April','May','June','July','August','September','October','November']))\n",
    "fig.update_layout(\n",
    "    title={\n",
    "        'text': 'Average rent number per month',\n",
    "         'font': {\n",
    "              'family': 'Calibri',\n",
    "              'size': 30\n",
    "        },'y':0.95,\n",
    "        'x':0.5,\n",
    "        'xanchor': 'center',\n",
    "        'yanchor': 'top'})\n",
    "fig.update_traces(marker_color='deeppink')\n",
    "fig.update_yaxes(\n",
    "    title_text = 'number of rentals',\n",
    "    )\n",
    "fig.update_xaxes(\n",
    "    title_text = None\n",
    "\n",
    "    )\n",
    "\n",
    "fig.show()"
   ]
  },
  {
   "cell_type": "code",
   "execution_count": null,
   "metadata": {},
   "outputs": [],
   "source": [
    "#Create a plot for average rent number per day of week\n",
    "\n",
    "city_bike16['day_of_week'] = pd.DatetimeIndex(city_bike16['start_time']).dayofweek #I add a column with day of week \n",
    "\n",
    "rent_num_per_day = city_bike16.groupby('day_of_week').agg({'bike_name':['count']}) #I count num of rentals per day of week\n",
    "\n",
    "rent_num_per_day"
   ]
  },
  {
   "cell_type": "code",
   "execution_count": null,
   "metadata": {},
   "outputs": [],
   "source": [
    "num_of_day_df = pd.DataFrame(city_bike16.groupby(['date'])['day_of_week'].unique().value_counts()).sort_index()\n",
    "\n",
    "rent_num_per_day['num_of_days']=num_of_day_df['day_of_week']\n",
    "\n",
    "rent_num_per_day['num_per_day'] = rent_num_per_day['bike_name']['count'] / rent_num_per_day['num_of_days']\n",
    "\n",
    "rent_num_per_day.round(2)"
   ]
  },
  {
   "cell_type": "code",
   "execution_count": null,
   "metadata": {},
   "outputs": [],
   "source": [
    "fig = px.bar(rent_num_per_day, x=rent_num_per_day.index, y='num_per_day')\n",
    "fig.update_layout(\n",
    "    title={\n",
    "        'text': \"Number of rentals per day of week.\",\n",
    "         'font': {\n",
    "              'family': 'Calibri',\n",
    "              'size': 30\n",
    "        },\n",
    "        'y':0.95,\n",
    "        'x':0.5,\n",
    "        'xanchor': 'center',\n",
    "        'yanchor': 'top'})\n",
    "fig.update_traces(marker_color='pink')\n",
    "fig.update_yaxes(\n",
    "    title_text = 'number of rentals',\n",
    "    )\n",
    "fig.update_xaxes(\n",
    "    title_text = None\n",
    "    )\n",
    "fig.show()"
   ]
  },
  {
   "cell_type": "code",
   "execution_count": null,
   "metadata": {},
   "outputs": [],
   "source": [
    "#Create a plot for average time of rent per day of week\n",
    "\n",
    "average_time_of_rent_per_day = city_bike16.groupby('day_of_week').agg({'duration_min':'mean'})\n",
    "average_time_of_rent_per_day.reset_index(inplace=True)\n",
    "average_time_of_rent_per_day"
   ]
  },
  {
   "cell_type": "code",
   "execution_count": null,
   "metadata": {},
   "outputs": [],
   "source": [
    "average_time_of_rent_per_day.plot(x = 'day_of_week', y = 'duration_min', kind ='line',color='m');"
   ]
  },
  {
   "cell_type": "code",
   "execution_count": null,
   "metadata": {},
   "outputs": [],
   "source": [
    "ig = go.Figure()\n",
    "fig. add_trace(go.Bar(x=average_time_of_rent_per_day['day_of_week'], y=average_time_of_rent_per_day['duration_min']))\n",
    "fig.update_layout(\n",
    "    title={\n",
    "        'text': 'Average time of rent per day of week',\n",
    "         'font': {\n",
    "              'family': 'Calibri',\n",
    "              'size': 30\n",
    "        },'y':0.95,\n",
    "        'x':0.5,\n",
    "        'xanchor': 'center',\n",
    "        'yanchor': 'top'})\n",
    "fig.update_traces(marker_color='mediumorchid')\n",
    "fig.update_yaxes(\n",
    "    title_text = 'number of rentals',\n",
    "    )\n",
    "fig.update_xaxes(\n",
    "    title_text = None)\n",
    "\n",
    "fig.show()"
   ]
  },
  {
   "cell_type": "code",
   "execution_count": null,
   "metadata": {},
   "outputs": [],
   "source": [
    "#Create a plot for average number of rents per hour (so we can check for example\n",
    "#how many rents on average are there during rush hours )\n",
    "city_bike16['start_hour'] = pd.DatetimeIndex(city_bike16['start_time']).hour\n",
    "ave_rent_per_h = city_bike16.groupby(['start_hour']).agg({'bike_name':'count'})\n",
    "ave_rent_per_h"
   ]
  },
  {
   "cell_type": "code",
   "execution_count": null,
   "metadata": {},
   "outputs": [],
   "source": [
    "ave_rent_per_h.plot(kind ='bar', figsize = (15,7), use_index=True, xticks = (range(24)),rot = 45, grid=True, colormap = 'spring');\n",
    "                   "
   ]
  },
  {
   "cell_type": "markdown",
   "metadata": {},
   "source": [
    "<h3>4.Conclusions"
   ]
  },
  {
   "cell_type": "markdown",
   "metadata": {},
   "source": [
    "<span style=\"color:green\">1. The bikes were available by 255 days\n",
    "    \n",
    "<span style=\"color:green\">2. The number of available bikes: 91 and they were rented 844143 times\n",
    "    \n",
    "<span style=\"color:green\">3. The average time of rent: 16.44\n",
    "    \n",
    "<span style=\"color:green\">4. Count of rentals under 15 minutes: 565553 which is more than half all rentals\n",
    "    \n",
    "<span style=\"color:green\">5. The most popular month was May, and the most popular day was 2016-05-12, it was Thuersday\n",
    "    \n",
    "<span style=\"color:green\">6. The most popular start and end station number: 315269\n",
    "    \n",
    "<span style=\"color:green\">7. The most popular bike: 69765\n",
    " \n",
    "<span style=\"color:green\">8. The busiest bike visited 93 return stations and 88 departure stations, not visited 729 stations\n",
    "    \n",
    "<span style=\"color:green\">9. The longest ride lasted 7 days 15:10:44\n",
    "    \n",
    "<span style=\"color:green\">10. The average rent number per day of week was the highest on Thuersday\n",
    "    \n",
    "<span style=\"color:green\">11. The average time of rent per day of week was the highest in Saturday (18.57) and Sunday (20.93)\n",
    "    \n",
    "<span style=\"color:green\">12. The most popular hours for rent was beetwen  3 pm and 4 pm"
   ]
  }
 ],
 "metadata": {
  "kernelspec": {
   "display_name": "Python 3",
   "language": "python",
   "name": "python3"
  },
  "language_info": {
   "codemirror_mode": {
    "name": "ipython",
    "version": 3
   },
   "file_extension": ".py",
   "mimetype": "text/x-python",
   "name": "python",
   "nbconvert_exporter": "python",
   "pygments_lexer": "ipython3",
   "version": "3.7.4"
  }
 },
 "nbformat": 4,
 "nbformat_minor": 4
}
