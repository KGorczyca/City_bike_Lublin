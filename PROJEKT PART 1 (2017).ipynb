{
 "cells": [
  {
   "cell_type": "markdown",
   "metadata": {},
   "source": [
    "<h1>PROJECT CITYBIKE LUBLIN                               "
   ]
  },
  {
   "cell_type": "markdown",
   "metadata": {},
   "source": [
    "<span style=\"color:green\">Import all nessesary libraries"
   ]
  },
  {
   "cell_type": "code",
   "execution_count": 1,
   "metadata": {},
   "outputs": [],
   "source": [
    "import pandas as pd\n",
    "import numpy as np\n",
    "import datetime\n",
    "import matplotlib.pyplot as plt\n",
    "import plotly.graph_objects as go\n",
    "import plotly.express as px\n",
    "\n",
    "%matplotlib inline"
   ]
  },
  {
   "cell_type": "markdown",
   "metadata": {},
   "source": [
    "<h1>CITYBIKE 2017"
   ]
  },
  {
   "cell_type": "markdown",
   "metadata": {},
   "source": [
    "<h3> 1.READ DATA"
   ]
  },
  {
   "cell_type": "markdown",
   "metadata": {},
   "source": [
    "<span style=\"color:green\">Let's read data from 2017.xlsx file."
   ]
  },
  {
   "cell_type": "code",
   "execution_count": 2,
   "metadata": {},
   "outputs": [],
   "source": [
    "city_bike2017 = pd.read_excel('2017.xlsx',sheet_name= ['marzec','kwiecień','maj'])"
   ]
  },
  {
   "cell_type": "code",
   "execution_count": 3,
   "metadata": {},
   "outputs": [
    {
     "data": {
      "text/html": [
       "<div>\n",
       "<style scoped>\n",
       "    .dataframe tbody tr th:only-of-type {\n",
       "        vertical-align: middle;\n",
       "    }\n",
       "\n",
       "    .dataframe tbody tr th {\n",
       "        vertical-align: top;\n",
       "    }\n",
       "\n",
       "    .dataframe thead th {\n",
       "        text-align: right;\n",
       "    }\n",
       "</style>\n",
       "<table border=\"1\" class=\"dataframe\">\n",
       "  <thead>\n",
       "    <tr style=\"text-align: right;\">\n",
       "      <th></th>\n",
       "      <th>uid</th>\n",
       "      <th>bike_name</th>\n",
       "      <th>start_time</th>\n",
       "      <th>end_time</th>\n",
       "      <th>start_place_id</th>\n",
       "      <th>end_place_id</th>\n",
       "      <th>price</th>\n",
       "      <th>cust_id</th>\n",
       "    </tr>\n",
       "  </thead>\n",
       "  <tbody>\n",
       "    <tr>\n",
       "      <td>0</td>\n",
       "      <td>26627713</td>\n",
       "      <td>69277</td>\n",
       "      <td>2017-03-21 00:02:18</td>\n",
       "      <td>2017-03-21 00:02:44</td>\n",
       "      <td>315259</td>\n",
       "      <td>315259</td>\n",
       "      <td>0</td>\n",
       "      <td>991786</td>\n",
       "    </tr>\n",
       "    <tr>\n",
       "      <td>1</td>\n",
       "      <td>26627775</td>\n",
       "      <td>69756</td>\n",
       "      <td>2017-03-21 00:09:40</td>\n",
       "      <td>2017-03-21 00:22:59</td>\n",
       "      <td>673845</td>\n",
       "      <td>673845</td>\n",
       "      <td>0</td>\n",
       "      <td>864401</td>\n",
       "    </tr>\n",
       "    <tr>\n",
       "      <td>2</td>\n",
       "      <td>26627751</td>\n",
       "      <td>69631</td>\n",
       "      <td>2017-03-21 00:06:02</td>\n",
       "      <td>2017-03-21 00:23:46</td>\n",
       "      <td>673845</td>\n",
       "      <td>673845</td>\n",
       "      <td>0</td>\n",
       "      <td>864401</td>\n",
       "    </tr>\n",
       "    <tr>\n",
       "      <td>3</td>\n",
       "      <td>26627725</td>\n",
       "      <td>69455</td>\n",
       "      <td>2017-03-21 00:03:41</td>\n",
       "      <td>2017-03-21 00:27:37</td>\n",
       "      <td>315259</td>\n",
       "      <td>692596</td>\n",
       "      <td>100</td>\n",
       "      <td>991786</td>\n",
       "    </tr>\n",
       "    <tr>\n",
       "      <td>4</td>\n",
       "      <td>26627864</td>\n",
       "      <td>69692</td>\n",
       "      <td>2017-03-21 00:20:58</td>\n",
       "      <td>2017-03-21 00:28:56</td>\n",
       "      <td>315248</td>\n",
       "      <td>674263</td>\n",
       "      <td>0</td>\n",
       "      <td>868787</td>\n",
       "    </tr>\n",
       "  </tbody>\n",
       "</table>\n",
       "</div>"
      ],
      "text/plain": [
       "        uid  bike_name          start_time            end_time  \\\n",
       "0  26627713      69277 2017-03-21 00:02:18 2017-03-21 00:02:44   \n",
       "1  26627775      69756 2017-03-21 00:09:40 2017-03-21 00:22:59   \n",
       "2  26627751      69631 2017-03-21 00:06:02 2017-03-21 00:23:46   \n",
       "3  26627725      69455 2017-03-21 00:03:41 2017-03-21 00:27:37   \n",
       "4  26627864      69692 2017-03-21 00:20:58 2017-03-21 00:28:56   \n",
       "\n",
       "   start_place_id  end_place_id  price  cust_id  \n",
       "0          315259        315259      0   991786  \n",
       "1          673845        673845      0   864401  \n",
       "2          673845        673845      0   864401  \n",
       "3          315259        692596    100   991786  \n",
       "4          315248        674263      0   868787  "
      ]
     },
     "execution_count": 3,
     "metadata": {},
     "output_type": "execute_result"
    }
   ],
   "source": [
    "city_bike2017['marzec'].head()"
   ]
  },
  {
   "cell_type": "code",
   "execution_count": 4,
   "metadata": {},
   "outputs": [
    {
     "data": {
      "text/html": [
       "<div>\n",
       "<style scoped>\n",
       "    .dataframe tbody tr th:only-of-type {\n",
       "        vertical-align: middle;\n",
       "    }\n",
       "\n",
       "    .dataframe tbody tr th {\n",
       "        vertical-align: top;\n",
       "    }\n",
       "\n",
       "    .dataframe thead th {\n",
       "        text-align: right;\n",
       "    }\n",
       "</style>\n",
       "<table border=\"1\" class=\"dataframe\">\n",
       "  <thead>\n",
       "    <tr style=\"text-align: right;\">\n",
       "      <th></th>\n",
       "      <th>uid</th>\n",
       "      <th>bike_name</th>\n",
       "      <th>start_time</th>\n",
       "      <th>end_time</th>\n",
       "      <th>start_place_id</th>\n",
       "      <th>end_place_id</th>\n",
       "      <th>price</th>\n",
       "      <th>cust_id</th>\n",
       "    </tr>\n",
       "  </thead>\n",
       "  <tbody>\n",
       "    <tr>\n",
       "      <td>0</td>\n",
       "      <td>27188150</td>\n",
       "      <td>69486</td>\n",
       "      <td>2017-03-31 23:56:26</td>\n",
       "      <td>2017-04-01 00:00:12</td>\n",
       "      <td>315273</td>\n",
       "      <td>315273</td>\n",
       "      <td>0</td>\n",
       "      <td>1514820</td>\n",
       "    </tr>\n",
       "    <tr>\n",
       "      <td>1</td>\n",
       "      <td>27187806</td>\n",
       "      <td>69557</td>\n",
       "      <td>2017-03-31 23:45:38</td>\n",
       "      <td>2017-04-01 00:00:39</td>\n",
       "      <td>315272</td>\n",
       "      <td>315269</td>\n",
       "      <td>0</td>\n",
       "      <td>2024593</td>\n",
       "    </tr>\n",
       "    <tr>\n",
       "      <td>2</td>\n",
       "      <td>27187791</td>\n",
       "      <td>69269</td>\n",
       "      <td>2017-03-31 23:45:14</td>\n",
       "      <td>2017-04-01 00:01:13</td>\n",
       "      <td>315272</td>\n",
       "      <td>315269</td>\n",
       "      <td>0</td>\n",
       "      <td>2024593</td>\n",
       "    </tr>\n",
       "    <tr>\n",
       "      <td>3</td>\n",
       "      <td>27187827</td>\n",
       "      <td>69321</td>\n",
       "      <td>2017-03-31 23:46:13</td>\n",
       "      <td>2017-04-01 00:01:24</td>\n",
       "      <td>315272</td>\n",
       "      <td>315269</td>\n",
       "      <td>0</td>\n",
       "      <td>2024593</td>\n",
       "    </tr>\n",
       "    <tr>\n",
       "      <td>4</td>\n",
       "      <td>27187995</td>\n",
       "      <td>69344</td>\n",
       "      <td>2017-03-31 23:51:28</td>\n",
       "      <td>2017-04-01 00:01:55</td>\n",
       "      <td>315248</td>\n",
       "      <td>315233</td>\n",
       "      <td>0</td>\n",
       "      <td>983017</td>\n",
       "    </tr>\n",
       "  </tbody>\n",
       "</table>\n",
       "</div>"
      ],
      "text/plain": [
       "        uid  bike_name          start_time            end_time  \\\n",
       "0  27188150      69486 2017-03-31 23:56:26 2017-04-01 00:00:12   \n",
       "1  27187806      69557 2017-03-31 23:45:38 2017-04-01 00:00:39   \n",
       "2  27187791      69269 2017-03-31 23:45:14 2017-04-01 00:01:13   \n",
       "3  27187827      69321 2017-03-31 23:46:13 2017-04-01 00:01:24   \n",
       "4  27187995      69344 2017-03-31 23:51:28 2017-04-01 00:01:55   \n",
       "\n",
       "   start_place_id  end_place_id  price  cust_id  \n",
       "0          315273        315273      0  1514820  \n",
       "1          315272        315269      0  2024593  \n",
       "2          315272        315269      0  2024593  \n",
       "3          315272        315269      0  2024593  \n",
       "4          315248        315233      0   983017  "
      ]
     },
     "execution_count": 4,
     "metadata": {},
     "output_type": "execute_result"
    }
   ],
   "source": [
    "city_bike2017['kwiecień'].head()"
   ]
  },
  {
   "cell_type": "code",
   "execution_count": 5,
   "metadata": {},
   "outputs": [
    {
     "data": {
      "text/html": [
       "<div>\n",
       "<style scoped>\n",
       "    .dataframe tbody tr th:only-of-type {\n",
       "        vertical-align: middle;\n",
       "    }\n",
       "\n",
       "    .dataframe tbody tr th {\n",
       "        vertical-align: top;\n",
       "    }\n",
       "\n",
       "    .dataframe thead th {\n",
       "        text-align: right;\n",
       "    }\n",
       "</style>\n",
       "<table border=\"1\" class=\"dataframe\">\n",
       "  <thead>\n",
       "    <tr style=\"text-align: right;\">\n",
       "      <th></th>\n",
       "      <th>uid</th>\n",
       "      <th>bike_name</th>\n",
       "      <th>start_time</th>\n",
       "      <th>end_time</th>\n",
       "      <th>start_place_id</th>\n",
       "      <th>end_place_id</th>\n",
       "      <th>price</th>\n",
       "      <th>cust_id</th>\n",
       "    </tr>\n",
       "  </thead>\n",
       "  <tbody>\n",
       "    <tr>\n",
       "      <td>0</td>\n",
       "      <td>28587694</td>\n",
       "      <td>69328</td>\n",
       "      <td>2017-04-30 23:57:00</td>\n",
       "      <td>2017-05-01 00:01:00</td>\n",
       "      <td>360123</td>\n",
       "      <td>315269</td>\n",
       "      <td>0</td>\n",
       "      <td>2043725</td>\n",
       "    </tr>\n",
       "    <tr>\n",
       "      <td>1</td>\n",
       "      <td>28587504</td>\n",
       "      <td>69174</td>\n",
       "      <td>2017-04-30 23:43:00</td>\n",
       "      <td>2017-05-01 00:02:00</td>\n",
       "      <td>315235</td>\n",
       "      <td>674353</td>\n",
       "      <td>0</td>\n",
       "      <td>865781</td>\n",
       "    </tr>\n",
       "    <tr>\n",
       "      <td>2</td>\n",
       "      <td>28587316</td>\n",
       "      <td>69391</td>\n",
       "      <td>2017-04-30 23:31:00</td>\n",
       "      <td>2017-05-01 00:02:00</td>\n",
       "      <td>315265</td>\n",
       "      <td>315248</td>\n",
       "      <td>100</td>\n",
       "      <td>975251</td>\n",
       "    </tr>\n",
       "    <tr>\n",
       "      <td>3</td>\n",
       "      <td>28587629</td>\n",
       "      <td>69507</td>\n",
       "      <td>2017-04-30 23:51:00</td>\n",
       "      <td>2017-05-01 00:02:00</td>\n",
       "      <td>315238</td>\n",
       "      <td>315236</td>\n",
       "      <td>0</td>\n",
       "      <td>1300588</td>\n",
       "    </tr>\n",
       "    <tr>\n",
       "      <td>4</td>\n",
       "      <td>28587614</td>\n",
       "      <td>69659</td>\n",
       "      <td>2017-04-30 23:50:00</td>\n",
       "      <td>2017-05-01 00:03:00</td>\n",
       "      <td>315242</td>\n",
       "      <td>315269</td>\n",
       "      <td>0</td>\n",
       "      <td>886601</td>\n",
       "    </tr>\n",
       "  </tbody>\n",
       "</table>\n",
       "</div>"
      ],
      "text/plain": [
       "        uid  bike_name          start_time            end_time  \\\n",
       "0  28587694      69328 2017-04-30 23:57:00 2017-05-01 00:01:00   \n",
       "1  28587504      69174 2017-04-30 23:43:00 2017-05-01 00:02:00   \n",
       "2  28587316      69391 2017-04-30 23:31:00 2017-05-01 00:02:00   \n",
       "3  28587629      69507 2017-04-30 23:51:00 2017-05-01 00:02:00   \n",
       "4  28587614      69659 2017-04-30 23:50:00 2017-05-01 00:03:00   \n",
       "\n",
       "   start_place_id  end_place_id  price  cust_id  \n",
       "0          360123        315269      0  2043725  \n",
       "1          315235        674353      0   865781  \n",
       "2          315265        315248    100   975251  \n",
       "3          315238        315236      0  1300588  \n",
       "4          315242        315269      0   886601  "
      ]
     },
     "execution_count": 5,
     "metadata": {},
     "output_type": "execute_result"
    }
   ],
   "source": [
    "city_bike2017['maj'].head()"
   ]
  },
  {
   "cell_type": "code",
   "execution_count": 6,
   "metadata": {},
   "outputs": [
    {
     "data": {
      "text/html": [
       "<div>\n",
       "<style scoped>\n",
       "    .dataframe tbody tr th:only-of-type {\n",
       "        vertical-align: middle;\n",
       "    }\n",
       "\n",
       "    .dataframe tbody tr th {\n",
       "        vertical-align: top;\n",
       "    }\n",
       "\n",
       "    .dataframe thead th {\n",
       "        text-align: right;\n",
       "    }\n",
       "</style>\n",
       "<table border=\"1\" class=\"dataframe\">\n",
       "  <thead>\n",
       "    <tr style=\"text-align: right;\">\n",
       "      <th></th>\n",
       "      <th>uid</th>\n",
       "      <th>bike_name</th>\n",
       "      <th>start_time</th>\n",
       "      <th>end_time</th>\n",
       "      <th>start_place_id</th>\n",
       "      <th>end_place_id</th>\n",
       "      <th>price</th>\n",
       "      <th>cust_id</th>\n",
       "    </tr>\n",
       "  </thead>\n",
       "  <tbody>\n",
       "    <tr>\n",
       "      <td>0</td>\n",
       "      <td>26627713</td>\n",
       "      <td>69277</td>\n",
       "      <td>2017-03-21 00:02:18</td>\n",
       "      <td>2017-03-21 00:02:44</td>\n",
       "      <td>315259</td>\n",
       "      <td>315259</td>\n",
       "      <td>0</td>\n",
       "      <td>991786</td>\n",
       "    </tr>\n",
       "    <tr>\n",
       "      <td>1</td>\n",
       "      <td>26627775</td>\n",
       "      <td>69756</td>\n",
       "      <td>2017-03-21 00:09:40</td>\n",
       "      <td>2017-03-21 00:22:59</td>\n",
       "      <td>673845</td>\n",
       "      <td>673845</td>\n",
       "      <td>0</td>\n",
       "      <td>864401</td>\n",
       "    </tr>\n",
       "    <tr>\n",
       "      <td>2</td>\n",
       "      <td>26627751</td>\n",
       "      <td>69631</td>\n",
       "      <td>2017-03-21 00:06:02</td>\n",
       "      <td>2017-03-21 00:23:46</td>\n",
       "      <td>673845</td>\n",
       "      <td>673845</td>\n",
       "      <td>0</td>\n",
       "      <td>864401</td>\n",
       "    </tr>\n",
       "  </tbody>\n",
       "</table>\n",
       "</div>"
      ],
      "text/plain": [
       "        uid  bike_name          start_time            end_time  \\\n",
       "0  26627713      69277 2017-03-21 00:02:18 2017-03-21 00:02:44   \n",
       "1  26627775      69756 2017-03-21 00:09:40 2017-03-21 00:22:59   \n",
       "2  26627751      69631 2017-03-21 00:06:02 2017-03-21 00:23:46   \n",
       "\n",
       "   start_place_id  end_place_id  price  cust_id  \n",
       "0          315259        315259      0   991786  \n",
       "1          673845        673845      0   864401  \n",
       "2          673845        673845      0   864401  "
      ]
     },
     "execution_count": 6,
     "metadata": {},
     "output_type": "execute_result"
    }
   ],
   "source": [
    "#You have to merge dataframes by using 'append'\n",
    "\n",
    "'''city_bike17 = city_bike2017['marzec'].append(city_bike2017['kwiecień'], ignore_index= True)\n",
    "city_bike17 = city_bike17.append(city_bike2017['maj'], ignore_index= True)\n",
    "city_bike17.sample(5)'''\n",
    "city_bike17 = pd.concat(objs = [city_bike2017['marzec'],city_bike2017['kwiecień'],city_bike2017['maj']])\n",
    "city_bike17.head(3)"
   ]
  },
  {
   "cell_type": "markdown",
   "metadata": {},
   "source": [
    "<span style=\"color:green\">What would you like to  know about data?\n",
    "    \n",
    "<span style=\"color:green\">Use DataFrame.info() and get information about:\n",
    "    \n",
    "<span style=\"color:green\">-numbers of rows and coulmns \n",
    "    \n",
    "<span style=\"color:green\">-types of data\n",
    "    \n",
    "<span style=\"color:green\">-are there missing values? \n",
    "    \n",
    "<span style=\"color:green\">-how many memory we need"
   ]
  },
  {
   "cell_type": "code",
   "execution_count": 7,
   "metadata": {},
   "outputs": [
    {
     "name": "stdout",
     "output_type": "stream",
     "text": [
      "<class 'pandas.core.frame.DataFrame'>\n",
      "Int64Index: 201078 entries, 0 to 105790\n",
      "Data columns (total 8 columns):\n",
      "uid               201078 non-null int64\n",
      "bike_name         201078 non-null int64\n",
      "start_time        201078 non-null datetime64[ns]\n",
      "end_time          201078 non-null datetime64[ns]\n",
      "start_place_id    201078 non-null int64\n",
      "end_place_id      201078 non-null int64\n",
      "price             201078 non-null int64\n",
      "cust_id           201078 non-null int64\n",
      "dtypes: datetime64[ns](2), int64(6)\n",
      "memory usage: 13.8 MB\n"
     ]
    }
   ],
   "source": [
    "city_bike17.info(memory_usage = 'deep')"
   ]
  },
  {
   "cell_type": "markdown",
   "metadata": {},
   "source": [
    "<span style=\"color:green\">There are 201078 rows and 8 columns.\n",
    "\n",
    "<span style=\"color:green\">Dtypes: datetime64(2), int64(6)\n",
    "\n",
    "<span style=\"color:green\">There are not missing value - every columns has the same num non-null values\n",
    "\n",
    "<span style=\"color:green\">We use 13.8MB"
   ]
  },
  {
   "cell_type": "code",
   "execution_count": 8,
   "metadata": {},
   "outputs": [
    {
     "name": "stdout",
     "output_type": "stream",
     "text": [
      "(201078, 8)\n",
      "False\n"
     ]
    }
   ],
   "source": [
    "#You can also use DataFrame.shape to get num of rows and columns and DataFrame.isnull to get num of non-null values\n",
    "print(city_bike17.shape )\n",
    "print(city_bike17.isnull().any().any()) #False means that you don't have any non-missing values"
   ]
  },
  {
   "cell_type": "code",
   "execution_count": 9,
   "metadata": {},
   "outputs": [
    {
     "data": {
      "text/html": [
       "<div>\n",
       "<style scoped>\n",
       "    .dataframe tbody tr th:only-of-type {\n",
       "        vertical-align: middle;\n",
       "    }\n",
       "\n",
       "    .dataframe tbody tr th {\n",
       "        vertical-align: top;\n",
       "    }\n",
       "\n",
       "    .dataframe thead th {\n",
       "        text-align: right;\n",
       "    }\n",
       "</style>\n",
       "<table border=\"1\" class=\"dataframe\">\n",
       "  <thead>\n",
       "    <tr style=\"text-align: right;\">\n",
       "      <th></th>\n",
       "      <th>uid</th>\n",
       "      <th>bike_name</th>\n",
       "      <th>start_time</th>\n",
       "      <th>end_time</th>\n",
       "      <th>start_place_id</th>\n",
       "      <th>end_place_id</th>\n",
       "      <th>price</th>\n",
       "      <th>cust_id</th>\n",
       "      <th>start_day</th>\n",
       "      <th>start_month</th>\n",
       "      <th>day_of_month</th>\n",
       "      <th>day_of_week</th>\n",
       "      <th>duration</th>\n",
       "      <th>duration_sec</th>\n",
       "      <th>duration_min</th>\n",
       "      <th>duration_hour</th>\n",
       "    </tr>\n",
       "  </thead>\n",
       "  <tbody>\n",
       "    <tr>\n",
       "      <td>18876</td>\n",
       "      <td>27018132</td>\n",
       "      <td>69769</td>\n",
       "      <td>2017-03-29 08:11:42</td>\n",
       "      <td>2017-03-29 08:18:28</td>\n",
       "      <td>673887</td>\n",
       "      <td>315235</td>\n",
       "      <td>0</td>\n",
       "      <td>1410716</td>\n",
       "      <td>88</td>\n",
       "      <td>3</td>\n",
       "      <td>29</td>\n",
       "      <td>2</td>\n",
       "      <td>00:06:46</td>\n",
       "      <td>406</td>\n",
       "      <td>6.766667</td>\n",
       "      <td>0.112778</td>\n",
       "    </tr>\n",
       "    <tr>\n",
       "      <td>31158</td>\n",
       "      <td>29305745</td>\n",
       "      <td>69551</td>\n",
       "      <td>2017-05-14 01:09:00</td>\n",
       "      <td>2017-05-14 01:23:00</td>\n",
       "      <td>315225</td>\n",
       "      <td>674370</td>\n",
       "      <td>0</td>\n",
       "      <td>1562648</td>\n",
       "      <td>134</td>\n",
       "      <td>5</td>\n",
       "      <td>14</td>\n",
       "      <td>6</td>\n",
       "      <td>00:14:00</td>\n",
       "      <td>840</td>\n",
       "      <td>14.000000</td>\n",
       "      <td>0.233333</td>\n",
       "    </tr>\n",
       "    <tr>\n",
       "      <td>67334</td>\n",
       "      <td>30067688</td>\n",
       "      <td>69798</td>\n",
       "      <td>2017-05-22 13:02:00</td>\n",
       "      <td>2017-05-22 13:43:00</td>\n",
       "      <td>315235</td>\n",
       "      <td>315243</td>\n",
       "      <td>100</td>\n",
       "      <td>779687</td>\n",
       "      <td>142</td>\n",
       "      <td>5</td>\n",
       "      <td>22</td>\n",
       "      <td>0</td>\n",
       "      <td>00:41:00</td>\n",
       "      <td>2460</td>\n",
       "      <td>41.000000</td>\n",
       "      <td>0.683333</td>\n",
       "    </tr>\n",
       "    <tr>\n",
       "      <td>11917</td>\n",
       "      <td>27380236</td>\n",
       "      <td>69205</td>\n",
       "      <td>2017-04-03 08:44:39</td>\n",
       "      <td>2017-04-03 08:59:25</td>\n",
       "      <td>673887</td>\n",
       "      <td>315236</td>\n",
       "      <td>0</td>\n",
       "      <td>973611</td>\n",
       "      <td>93</td>\n",
       "      <td>4</td>\n",
       "      <td>3</td>\n",
       "      <td>0</td>\n",
       "      <td>00:14:46</td>\n",
       "      <td>886</td>\n",
       "      <td>14.766667</td>\n",
       "      <td>0.246111</td>\n",
       "    </tr>\n",
       "    <tr>\n",
       "      <td>15231</td>\n",
       "      <td>26960650</td>\n",
       "      <td>69101</td>\n",
       "      <td>2017-03-28 13:47:14</td>\n",
       "      <td>2017-03-28 14:01:10</td>\n",
       "      <td>674338</td>\n",
       "      <td>674362</td>\n",
       "      <td>0</td>\n",
       "      <td>1025203</td>\n",
       "      <td>87</td>\n",
       "      <td>3</td>\n",
       "      <td>28</td>\n",
       "      <td>1</td>\n",
       "      <td>00:13:56</td>\n",
       "      <td>836</td>\n",
       "      <td>13.933333</td>\n",
       "      <td>0.232222</td>\n",
       "    </tr>\n",
       "  </tbody>\n",
       "</table>\n",
       "</div>"
      ],
      "text/plain": [
       "            uid  bike_name          start_time            end_time  \\\n",
       "18876  27018132      69769 2017-03-29 08:11:42 2017-03-29 08:18:28   \n",
       "31158  29305745      69551 2017-05-14 01:09:00 2017-05-14 01:23:00   \n",
       "67334  30067688      69798 2017-05-22 13:02:00 2017-05-22 13:43:00   \n",
       "11917  27380236      69205 2017-04-03 08:44:39 2017-04-03 08:59:25   \n",
       "15231  26960650      69101 2017-03-28 13:47:14 2017-03-28 14:01:10   \n",
       "\n",
       "       start_place_id  end_place_id  price  cust_id  start_day  start_month  \\\n",
       "18876          673887        315235      0  1410716         88            3   \n",
       "31158          315225        674370      0  1562648        134            5   \n",
       "67334          315235        315243    100   779687        142            5   \n",
       "11917          673887        315236      0   973611         93            4   \n",
       "15231          674338        674362      0  1025203         87            3   \n",
       "\n",
       "       day_of_month  day_of_week duration  duration_sec  duration_min  \\\n",
       "18876            29            2 00:06:46           406      6.766667   \n",
       "31158            14            6 00:14:00           840     14.000000   \n",
       "67334            22            0 00:41:00          2460     41.000000   \n",
       "11917             3            0 00:14:46           886     14.766667   \n",
       "15231            28            1 00:13:56           836     13.933333   \n",
       "\n",
       "       duration_hour  \n",
       "18876       0.112778  \n",
       "31158       0.233333  \n",
       "67334       0.683333  \n",
       "11917       0.246111  \n",
       "15231       0.232222  "
      ]
     },
     "execution_count": 9,
     "metadata": {},
     "output_type": "execute_result"
    }
   ],
   "source": [
    "#Create additional TIME columns so it would be easier to manipulate the data\n",
    "\n",
    "city_bike17['start_day'] = pd.DatetimeIndex(city_bike17['start_time']).dayofyear\n",
    "\n",
    "city_bike17['start_month'] = pd.DatetimeIndex(city_bike17['start_time']).month\n",
    "\n",
    "city_bike17['day_of_month'] = pd.DatetimeIndex(city_bike17['start_time']).day\n",
    "\n",
    "city_bike17['day_of_week'] = pd.DatetimeIndex(city_bike17['start_time']).dayofweek\n",
    "\n",
    "\n",
    "\n",
    "#Create additional duration column so it would be easier to manipulate the data\n",
    "\n",
    "city_bike17['duration'] = city_bike17['end_time']-city_bike17['start_time']\n",
    "\n",
    "city_bike17['duration_sec']= pd.TimedeltaIndex(city_bike17['end_time']-city_bike17['start_time']).seconds\n",
    "\n",
    "city_bike17['duration_min'] = city_bike17['duration_sec'] / 60\n",
    "\n",
    "city_bike17['duration_hour'] = city_bike17['duration_sec']/3600\n",
    "\n",
    "city_bike17.sample(5)"
   ]
  },
  {
   "cell_type": "markdown",
   "metadata": {},
   "source": [
    "<h3>2.DATA ANALYSIS"
   ]
  },
  {
   "cell_type": "code",
   "execution_count": 10,
   "metadata": {},
   "outputs": [
    {
     "name": "stdout",
     "output_type": "stream",
     "text": [
      "The bikes were available for rental for 72 dyas\n"
     ]
    }
   ],
   "source": [
    "#For how many days were the bikes available for rental?\n",
    "\n",
    "num_of_days = city_bike17['start_day'].nunique()\n",
    "\n",
    "print(f'The bikes were available for rental for {num_of_days} dyas')"
   ]
  },
  {
   "cell_type": "code",
   "execution_count": 11,
   "metadata": {},
   "outputs": [
    {
     "name": "stdout",
     "output_type": "stream",
     "text": [
      "Count of rentals:201078, \n",
      "Count of bikes: 850\n"
     ]
    }
   ],
   "source": [
    "#How many rentals and bikes were there?\n",
    "\n",
    "num_of_bikes = city_bike17['bike_name'].nunique()\n",
    "\n",
    "num_of_rent = city_bike17['bike_name'].count()\n",
    "\n",
    "print(f'Count of rentals:{num_of_rent}, \\nCount of bikes: {num_of_bikes}')"
   ]
  },
  {
   "cell_type": "code",
   "execution_count": 12,
   "metadata": {},
   "outputs": [
    {
     "name": "stdout",
     "output_type": "stream",
     "text": [
      "The average time of rental: 16.490505011322302\n"
     ]
    }
   ],
   "source": [
    "#The average time of a rental:\n",
    "\n",
    "avg_time = city_bike17['duration_min'].mean()\n",
    "\n",
    "print(f'The average time of rental: {avg_time}')"
   ]
  },
  {
   "cell_type": "code",
   "execution_count": 13,
   "metadata": {},
   "outputs": [
    {
     "name": "stdout",
     "output_type": "stream",
     "text": [
      "Num of rentals under 15 minutes: 135051\n"
     ]
    }
   ],
   "source": [
    "#Rentals under 15 minutes\n",
    "\n",
    "rentals_under_15 = len(city_bike17[city_bike17['duration_min']<15])\n",
    "\n",
    "print('Num of rentals under 15 minutes:', rentals_under_15)"
   ]
  },
  {
   "cell_type": "code",
   "execution_count": 14,
   "metadata": {},
   "outputs": [
    {
     "name": "stdout",
     "output_type": "stream",
     "text": [
      "The most popular month is: May\n"
     ]
    },
    {
     "data": {
      "text/html": [
       "<div>\n",
       "<style scoped>\n",
       "    .dataframe tbody tr th:only-of-type {\n",
       "        vertical-align: middle;\n",
       "    }\n",
       "\n",
       "    .dataframe tbody tr th {\n",
       "        vertical-align: top;\n",
       "    }\n",
       "\n",
       "    .dataframe thead th {\n",
       "        text-align: right;\n",
       "    }\n",
       "</style>\n",
       "<table border=\"1\" class=\"dataframe\">\n",
       "  <thead>\n",
       "    <tr style=\"text-align: right;\">\n",
       "      <th></th>\n",
       "      <th>bike_name</th>\n",
       "    </tr>\n",
       "    <tr>\n",
       "      <th>start_month</th>\n",
       "      <th></th>\n",
       "    </tr>\n",
       "  </thead>\n",
       "  <tbody>\n",
       "    <tr>\n",
       "      <td>5</td>\n",
       "      <td>105776</td>\n",
       "    </tr>\n",
       "    <tr>\n",
       "      <td>4</td>\n",
       "      <td>67152</td>\n",
       "    </tr>\n",
       "    <tr>\n",
       "      <td>3</td>\n",
       "      <td>28150</td>\n",
       "    </tr>\n",
       "  </tbody>\n",
       "</table>\n",
       "</div>"
      ],
      "text/plain": [
       "             bike_name\n",
       "start_month           \n",
       "5               105776\n",
       "4                67152\n",
       "3                28150"
      ]
     },
     "execution_count": 14,
     "metadata": {},
     "output_type": "execute_result"
    }
   ],
   "source": [
    "#Number of rentals per month, most popular month\n",
    "\n",
    "month = {3:'March',4:'April',5:'May'}\n",
    "\n",
    "top_month = city_bike17.groupby('start_month').agg({'bike_name':'count'}).sort_values(by='bike_name', ascending=False).iloc[0].name\n",
    "\n",
    "print(f'The most popular month is: {month[top_month]}')\n",
    "\n",
    "city_bike17.groupby('start_month').agg({'bike_name':'count'}).sort_values(by=['bike_name'], ascending=False)\n"
   ]
  },
  {
   "cell_type": "code",
   "execution_count": 15,
   "metadata": {},
   "outputs": [
    {
     "name": "stdout",
     "output_type": "stream",
     "text": [
      "The most popular day: 2017-04-02\n"
     ]
    },
    {
     "data": {
      "text/html": [
       "<div>\n",
       "<style scoped>\n",
       "    .dataframe tbody tr th:only-of-type {\n",
       "        vertical-align: middle;\n",
       "    }\n",
       "\n",
       "    .dataframe tbody tr th {\n",
       "        vertical-align: top;\n",
       "    }\n",
       "\n",
       "    .dataframe thead th {\n",
       "        text-align: right;\n",
       "    }\n",
       "</style>\n",
       "<table border=\"1\" class=\"dataframe\">\n",
       "  <thead>\n",
       "    <tr style=\"text-align: right;\">\n",
       "      <th></th>\n",
       "      <th>bike_name</th>\n",
       "    </tr>\n",
       "    <tr>\n",
       "      <th>start_day</th>\n",
       "      <th></th>\n",
       "    </tr>\n",
       "  </thead>\n",
       "  <tbody>\n",
       "    <tr>\n",
       "      <td>92</td>\n",
       "      <td>6092</td>\n",
       "    </tr>\n",
       "  </tbody>\n",
       "</table>\n",
       "</div>"
      ],
      "text/plain": [
       "           bike_name\n",
       "start_day           \n",
       "92              6092"
      ]
     },
     "execution_count": 15,
     "metadata": {},
     "output_type": "execute_result"
    }
   ],
   "source": [
    "#Daily top score\n",
    "\n",
    "city_bike17['date'] = pd.DatetimeIndex(city_bike17['start_time']).date\n",
    "\n",
    "top_day = city_bike17.groupby('date').agg({'bike_name':'count'}).sort_values(by='bike_name', ascending=False).iloc[0].name\n",
    "\n",
    "print(f'The most popular day: {top_day}')\n",
    "\n",
    "\n",
    "city_bike17.groupby(['start_day']).agg({'bike_name':'count'}).sort_values(by=['bike_name'],ascending=False).head(1)\n"
   ]
  },
  {
   "cell_type": "code",
   "execution_count": 16,
   "metadata": {},
   "outputs": [
    {
     "name": "stdout",
     "output_type": "stream",
     "text": [
      "The most popular start station number: 315269\n"
     ]
    }
   ],
   "source": [
    "#Most popular start station\n",
    "\n",
    "top_s_station = city_bike17['start_place_id'].value_counts().head(1).index[0]\n",
    "\n",
    "print(f'The most popular start station number: {top_s_station}')"
   ]
  },
  {
   "cell_type": "code",
   "execution_count": 17,
   "metadata": {},
   "outputs": [
    {
     "name": "stdout",
     "output_type": "stream",
     "text": [
      "The most popular start station number: 315269\n"
     ]
    }
   ],
   "source": [
    "#Most popular end station\n",
    "\n",
    "top_end_station = city_bike17['end_place_id'].value_counts().head(1).index[0]\n",
    "\n",
    "print(f'The most popular start station number: {top_end_station}')"
   ]
  },
  {
   "cell_type": "code",
   "execution_count": 18,
   "metadata": {},
   "outputs": [
    {
     "data": {
      "text/html": [
       "<div>\n",
       "<style scoped>\n",
       "    .dataframe tbody tr th:only-of-type {\n",
       "        vertical-align: middle;\n",
       "    }\n",
       "\n",
       "    .dataframe tbody tr th {\n",
       "        vertical-align: top;\n",
       "    }\n",
       "\n",
       "    .dataframe thead th {\n",
       "        text-align: right;\n",
       "    }\n",
       "</style>\n",
       "<table border=\"1\" class=\"dataframe\">\n",
       "  <thead>\n",
       "    <tr style=\"text-align: right;\">\n",
       "      <th></th>\n",
       "      <th></th>\n",
       "      <th>bike_name</th>\n",
       "    </tr>\n",
       "    <tr>\n",
       "      <th>start_place_id</th>\n",
       "      <th>start_month</th>\n",
       "      <th></th>\n",
       "    </tr>\n",
       "  </thead>\n",
       "  <tbody>\n",
       "    <tr>\n",
       "      <td>0</td>\n",
       "      <td>5</td>\n",
       "      <td>1</td>\n",
       "    </tr>\n",
       "    <tr>\n",
       "      <td rowspan=\"3\" valign=\"top\">315225</td>\n",
       "      <td>3</td>\n",
       "      <td>305</td>\n",
       "    </tr>\n",
       "    <tr>\n",
       "      <td>4</td>\n",
       "      <td>687</td>\n",
       "    </tr>\n",
       "    <tr>\n",
       "      <td>5</td>\n",
       "      <td>1111</td>\n",
       "    </tr>\n",
       "    <tr>\n",
       "      <td>315228</td>\n",
       "      <td>3</td>\n",
       "      <td>354</td>\n",
       "    </tr>\n",
       "  </tbody>\n",
       "</table>\n",
       "</div>"
      ],
      "text/plain": [
       "                            bike_name\n",
       "start_place_id start_month           \n",
       "0              5                    1\n",
       "315225         3                  305\n",
       "               4                  687\n",
       "               5                 1111\n",
       "315228         3                  354"
      ]
     },
     "execution_count": 18,
     "metadata": {},
     "output_type": "execute_result"
    }
   ],
   "source": [
    "#How many bikes depart from each station monthly? \n",
    "\n",
    "city_bike17.groupby(['start_place_id','start_month'])[['bike_name']].count().head()"
   ]
  },
  {
   "cell_type": "code",
   "execution_count": 19,
   "metadata": {},
   "outputs": [
    {
     "data": {
      "text/html": [
       "<div>\n",
       "<style scoped>\n",
       "    .dataframe tbody tr th:only-of-type {\n",
       "        vertical-align: middle;\n",
       "    }\n",
       "\n",
       "    .dataframe tbody tr th {\n",
       "        vertical-align: top;\n",
       "    }\n",
       "\n",
       "    .dataframe thead th {\n",
       "        text-align: right;\n",
       "    }\n",
       "</style>\n",
       "<table border=\"1\" class=\"dataframe\">\n",
       "  <thead>\n",
       "    <tr style=\"text-align: right;\">\n",
       "      <th></th>\n",
       "      <th></th>\n",
       "      <th>bike_name</th>\n",
       "    </tr>\n",
       "    <tr>\n",
       "      <th>end_place_id</th>\n",
       "      <th>start_month</th>\n",
       "      <th></th>\n",
       "    </tr>\n",
       "  </thead>\n",
       "  <tbody>\n",
       "    <tr>\n",
       "      <td rowspan=\"3\" valign=\"top\">315225</td>\n",
       "      <td>3</td>\n",
       "      <td>301</td>\n",
       "    </tr>\n",
       "    <tr>\n",
       "      <td>4</td>\n",
       "      <td>693</td>\n",
       "    </tr>\n",
       "    <tr>\n",
       "      <td>5</td>\n",
       "      <td>1087</td>\n",
       "    </tr>\n",
       "    <tr>\n",
       "      <td rowspan=\"2\" valign=\"top\">315228</td>\n",
       "      <td>3</td>\n",
       "      <td>313</td>\n",
       "    </tr>\n",
       "    <tr>\n",
       "      <td>4</td>\n",
       "      <td>742</td>\n",
       "    </tr>\n",
       "  </tbody>\n",
       "</table>\n",
       "</div>"
      ],
      "text/plain": [
       "                          bike_name\n",
       "end_place_id start_month           \n",
       "315225       3                  301\n",
       "             4                  693\n",
       "             5                 1087\n",
       "315228       3                  313\n",
       "             4                  742"
      ]
     },
     "execution_count": 19,
     "metadata": {},
     "output_type": "execute_result"
    }
   ],
   "source": [
    "#How many bikes return from each station monthly? \n",
    "\n",
    "city_bike17.groupby(['end_place_id','start_month'])[['bike_name']].count().head()"
   ]
  },
  {
   "cell_type": "code",
   "execution_count": 20,
   "metadata": {},
   "outputs": [
    {
     "name": "stdout",
     "output_type": "stream",
     "text": [
      "The most popular bike: 69617\n"
     ]
    }
   ],
   "source": [
    "#Most rented bike\n",
    "\n",
    "top_bike = city_bike17['bike_name'].value_counts().head(1).index[0]\n",
    "\n",
    "#or\n",
    "\n",
    "top_bike = city_bike17['bike_name'].value_counts().idxmax()\n",
    "\n",
    "print(f'The most popular bike: {top_bike}')\n"
   ]
  },
  {
   "cell_type": "code",
   "execution_count": 21,
   "metadata": {},
   "outputs": [
    {
     "name": "stdout",
     "output_type": "stream",
     "text": [
      "The busiest bike visited 76 return stations and 74 departure stations.\n"
     ]
    }
   ],
   "source": [
    "#Check if the most rented bike has visited all the stations during te season? If not what were the not visited stations?\n",
    "\n",
    "\n",
    "mr_bike = city_bike17[city_bike17['bike_name'] == 69617]\n",
    "\n",
    "print('The busiest bike visited', mr_bike['end_place_id'].nunique(),'return stations and',mr_bike['start_place_id'].nunique(),\n",
    "      'departure stations.')"
   ]
  },
  {
   "cell_type": "code",
   "execution_count": 22,
   "metadata": {},
   "outputs": [
    {
     "data": {
      "text/plain": [
       "74      315243\n",
       "75      674094\n",
       "76      315268\n",
       "77      315275\n",
       "78      674338\n",
       "        ...   \n",
       "830    3487961\n",
       "831    3488365\n",
       "832    3461463\n",
       "833    3482377\n",
       "834    3490696\n",
       "Length: 761, dtype: int64"
      ]
     },
     "execution_count": 22,
     "metadata": {},
     "output_type": "execute_result"
    }
   ],
   "source": [
    "mr_bike = city_bike17[city_bike17['bike_name'] == 69617] #most rented bike\n",
    "\n",
    "mr_bike['start_place_id'].unique() #stations which was visited by mr_bike\n",
    "\n",
    "city_bike17['start_place_id'].unique() #all stations\n",
    "\n",
    "pd.Series(mr_bike['start_place_id'].unique()) #you have to change ndarray to Series\n",
    "\n",
    "pd.Series(mr_bike['start_place_id'].unique()).index #you need to get index, becouse in the nest step you will use drop method\n",
    "                                                    #(this method demand a list of rows numbers )\n",
    "\n",
    "pd.Series(city_bike17['start_place_id'].unique()).drop(pd.Series(mr_bike['start_place_id'].unique()).index) \n",
    "#you get list wiht not visited stations"
   ]
  },
  {
   "cell_type": "code",
   "execution_count": 23,
   "metadata": {},
   "outputs": [
    {
     "data": {
      "text/plain": [
       "60233   00:25:00\n",
       "60233   00:16:27\n",
       "Name: duration, dtype: timedelta64[ns]"
      ]
     },
     "execution_count": 23,
     "metadata": {},
     "output_type": "execute_result"
    }
   ],
   "source": [
    "#Find the longest ride\n",
    "\n",
    "longest_ride = city_bike17.sort_values(by = ['duration'],ascending=False)\n",
    "\n",
    "longest_ride.head(10)\n",
    "\n",
    "longest_ride['duration'].loc[60233]"
   ]
  },
  {
   "cell_type": "markdown",
   "metadata": {},
   "source": [
    "<h3>3.PLOTS"
   ]
  },
  {
   "cell_type": "code",
   "execution_count": 24,
   "metadata": {},
   "outputs": [
    {
     "data": {
      "text/html": [
       "<div>\n",
       "<style scoped>\n",
       "    .dataframe tbody tr th:only-of-type {\n",
       "        vertical-align: middle;\n",
       "    }\n",
       "\n",
       "    .dataframe tbody tr th {\n",
       "        vertical-align: top;\n",
       "    }\n",
       "\n",
       "    .dataframe thead th {\n",
       "        text-align: right;\n",
       "    }\n",
       "</style>\n",
       "<table border=\"1\" class=\"dataframe\">\n",
       "  <thead>\n",
       "    <tr style=\"text-align: right;\">\n",
       "      <th></th>\n",
       "      <th>bike_name</th>\n",
       "      <th>num_day_in_month</th>\n",
       "      <th>result</th>\n",
       "    </tr>\n",
       "    <tr>\n",
       "      <th>start_month</th>\n",
       "      <th></th>\n",
       "      <th></th>\n",
       "      <th></th>\n",
       "    </tr>\n",
       "  </thead>\n",
       "  <tbody>\n",
       "    <tr>\n",
       "      <td>3</td>\n",
       "      <td>28150</td>\n",
       "      <td>11</td>\n",
       "      <td>2559</td>\n",
       "    </tr>\n",
       "    <tr>\n",
       "      <td>4</td>\n",
       "      <td>67152</td>\n",
       "      <td>30</td>\n",
       "      <td>2238</td>\n",
       "    </tr>\n",
       "    <tr>\n",
       "      <td>5</td>\n",
       "      <td>105776</td>\n",
       "      <td>31</td>\n",
       "      <td>3412</td>\n",
       "    </tr>\n",
       "  </tbody>\n",
       "</table>\n",
       "</div>"
      ],
      "text/plain": [
       "             bike_name  num_day_in_month  result\n",
       "start_month                                     \n",
       "3                28150                11    2559\n",
       "4                67152                30    2238\n",
       "5               105776                31    3412"
      ]
     },
     "execution_count": 24,
     "metadata": {},
     "output_type": "execute_result"
    }
   ],
   "source": [
    "#Create a plot for average rent number per month\n",
    "\n",
    "average_rent = city_bike17.groupby('start_month').agg({'bike_name':'count'}) #I count num of rent per month\n",
    "\n",
    "average_rent['num_day_in_month'] = city_bike17.groupby(['start_month'])[['day_of_month']].nunique() #I count num of days in month\n",
    "\n",
    "average_rent['result'] = average_rent['bike_name']//average_rent['num_day_in_month'] #I count average rent number for every month\n",
    "\n",
    "average_rent"
   ]
  },
  {
   "cell_type": "code",
   "execution_count": 25,
   "metadata": {},
   "outputs": [
    {
     "data": {
      "image/png": "[encoded data removed]",
      "text/plain": [
       "<Figure size 432x288 with 1 Axes>"
      ]
     },
     "metadata": {
      "needs_background": "light"
     },
     "output_type": "display_data"
    }
   ],
   "source": [
    "#Use matplotlib\n",
    "average_rent['result'].plot(kind = 'bar', rot=360, title = 'Average rent number per month', legend = True, colormap = 'Pastel1');"
   ]
  },
  {
   "cell_type": "code",
   "execution_count": null,
   "metadata": {},
   "outputs": [],
   "source": [
    "#This is the same plot but by using plotly\n",
    "\n",
    "fig = go.FigureWidget(data=go.Bar(y=average_rent['result'], x = ['March','April','May']))\n",
    "fig.update_layout(\n",
    "    title={\n",
    "        'text': 'Average rent number per month',\n",
    "         'font': {\n",
    "              'family': 'Calibri',\n",
    "              'size': 30\n",
    "        },'y':0.95,\n",
    "        'x':0.5,\n",
    "        'xanchor': 'center',\n",
    "        'yanchor': 'top'})\n",
    "fig.update_traces(marker_color='deeppink')\n",
    "fig.update_yaxes(\n",
    "    title_text = 'number of rentals',\n",
    "    )\n",
    "fig.update_xaxes(\n",
    "    title_text = None\n",
    "\n",
    "    )\n",
    "\n",
    "fig.show()"
   ]
  },
  {
   "cell_type": "code",
   "execution_count": null,
   "metadata": {},
   "outputs": [],
   "source": [
    "#Create a plot for average rent number per day of week\n",
    "\n",
    "city_bike17['day_of_week'] = pd.DatetimeIndex(city_bike17['start_time']).dayofweek #I add a column with day of week \n",
    "\n",
    "rent_num_per_day = city_bike17.groupby('day_of_week').agg({'bike_name':['count']}) #I count num of rentals per day of week\n",
    "\n",
    "rent_num_per_day"
   ]
  },
  {
   "cell_type": "code",
   "execution_count": null,
   "metadata": {},
   "outputs": [],
   "source": [
    "num_of_day_df = pd.DataFrame(city_bike17.groupby(['date'])['day_of_week'].unique().value_counts()).sort_index()\n",
    "\n",
    "rent_num_per_day['num_of_days']=num_of_day_df['day_of_week']\n",
    "\n",
    "rent_num_per_day['num_per_day'] = rent_num_per_day['bike_name']['count'] / rent_num_per_day['num_of_days']\n",
    "\n",
    "rent_num_per_day.round(2)"
   ]
  },
  {
   "cell_type": "code",
   "execution_count": null,
   "metadata": {},
   "outputs": [],
   "source": [
    "fig = px.bar(rent_num_per_day, x=rent_num_per_day.index, y='num_per_day')\n",
    "fig.update_layout(\n",
    "    title={\n",
    "        'text': \"Number of rentals per day of week.\",\n",
    "         'font': {\n",
    "              'family': 'Calibri',\n",
    "              'size': 30\n",
    "        },\n",
    "        'y':0.95,\n",
    "        'x':0.5,\n",
    "        'xanchor': 'center',\n",
    "        'yanchor': 'top'})\n",
    "fig.update_traces(marker_color='pink')\n",
    "fig.update_yaxes(\n",
    "    title_text = 'number of rentals',\n",
    "    )\n",
    "fig.update_xaxes(\n",
    "    title_text = None\n",
    "    )\n",
    "fig.show()"
   ]
  },
  {
   "cell_type": "code",
   "execution_count": null,
   "metadata": {},
   "outputs": [],
   "source": [
    "#Create a plot for average time of rent per day of week\n",
    "\n",
    "average_time_of_rent_per_day = city_bike17.groupby('day_of_week').agg({'duration_min':'mean'})\n",
    "average_time_of_rent_per_day.reset_index(inplace=True)\n",
    "average_time_of_rent_per_day"
   ]
  },
  {
   "cell_type": "code",
   "execution_count": null,
   "metadata": {},
   "outputs": [],
   "source": [
    "average_time_of_rent_per_day.plot(x = 'day_of_week', y = 'duration_min', kind ='line',color='m');\n"
   ]
  },
  {
   "cell_type": "code",
   "execution_count": null,
   "metadata": {},
   "outputs": [],
   "source": [
    "fig = go.Figure()\n",
    "fig. add_trace(go.Bar(x=average_time_of_rent_per_day['day_of_week'], y=average_time_of_rent_per_day['duration_min']))\n",
    "fig.update_layout(\n",
    "    title={\n",
    "        'text': 'Average time of rent per day',\n",
    "         'font': {\n",
    "              'family': 'Calibri',\n",
    "              'size': 30\n",
    "        },'y':0.95,\n",
    "        'x':0.5,\n",
    "        'xanchor': 'center',\n",
    "        'yanchor': 'top'})\n",
    "fig.update_traces(marker_color='mediumorchid')\n",
    "fig.update_yaxes(\n",
    "    title_text = 'number of rentals',\n",
    "    )\n",
    "fig.update_xaxes(\n",
    "    title_text = None)\n",
    "\n",
    "fig.show()"
   ]
  },
  {
   "cell_type": "code",
   "execution_count": null,
   "metadata": {},
   "outputs": [],
   "source": [
    "#Create a plot for average number of rents per hour (so we can check for example\n",
    "#how many rents on average are there during rush hours )\n",
    "city_bike17['start_hour'] = pd.DatetimeIndex(city_bike17['start_time']).hour\n",
    "ave_rent_per_h = city_bike17.groupby(['start_hour']).agg({'bike_name':'count'})\n",
    "ave_rent_per_h"
   ]
  },
  {
   "cell_type": "code",
   "execution_count": null,
   "metadata": {},
   "outputs": [],
   "source": [
    "ave_rent_per_h.plot(kind ='bar', figsize = (15,7), use_index=True, xticks = (range(24)),rot = 45, grid=True, colormap = 'spring');\n",
    "                   "
   ]
  },
  {
   "cell_type": "markdown",
   "metadata": {},
   "source": [
    "<h3>4.Conclusions"
   ]
  },
  {
   "cell_type": "markdown",
   "metadata": {},
   "source": [
    "<span style=\"color:green\">1. The bikes were available by 72 days\n",
    "    \n",
    "<span style=\"color:green\">2. The number of available bikes: 850 and they were rented 201078 times\n",
    "    \n",
    "<span style=\"color:green\">3. The average time of rent: 16.49\n",
    "    \n",
    "<span style=\"color:green\">4. Count of rentals under 15 minutes: 135051 which is more than half all rentals\n",
    "    \n",
    "<span style=\"color:green\">5. The most popular month was May, but the most popular day was 2017-04-02, it was Sunday\n",
    "    \n",
    "<span style=\"color:green\">6. The most popular start and end station number: 315269\n",
    "    \n",
    "<span style=\"color:green\">7. The most popular bike: 69617\n",
    " \n",
    "<span style=\"color:green\">8. The busiest bike visited 76 return stations and 74 departure stations, not visited 761 stations\n",
    "    \n",
    "<span style=\"color:green\">9. The longest ride lasted 6 days 13:24:53\n",
    "    \n",
    "<span style=\"color:green\">10. The average rent number per day of week was the highest on Monday and Tuesday\n",
    "    \n",
    "<span style=\"color:green\">11. The average time of rent per day of week was the highest in Saturday (19.66) and Sunday (20.99)\n",
    "    \n",
    "<span style=\"color:green\">12. The most popular hours for rent was beetwen  3 pm and 4 pm"
   ]
  }
 ],
 "metadata": {
  "kernelspec": {
   "display_name": "Python 3",
   "language": "python",
   "name": "python3"
  },
  "language_info": {
   "codemirror_mode": {
    "name": "ipython",
    "version": 3
   },
   "file_extension": ".py",
   "mimetype": "text/x-python",
   "name": "python",
   "nbconvert_exporter": "python",
   "pygments_lexer": "ipython3",
   "version": "3.7.4"
  }
 },
 "nbformat": 4,
 "nbformat_minor": 4
}
