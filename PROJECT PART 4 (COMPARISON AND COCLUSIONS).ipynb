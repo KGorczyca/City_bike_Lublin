{
 "cells": [
  {
   "cell_type": "markdown",
   "metadata": {},
   "source": [
    "<h2>PROJECT CITYBIKE LUBLIN "
   ]
  },
  {
   "cell_type": "markdown",
   "metadata": {},
   "source": [
    "<span style=\"color:red\">We don't have complete data, so we have to do analysis two times. First we will compare city bike in Lublin in 2016 (March, April, May) and 2017(March, April, May), and next 2014(October, November) and 2016(October, November)."
   ]
  },
  {
   "cell_type": "code",
   "execution_count": 1,
   "metadata": {},
   "outputs": [],
   "source": [
    "import pandas as pd\n",
    "import numpy as np\n",
    "import datetime\n",
    "import matplotlib.pyplot as plt\n",
    "import plotly.graph_objects as go\n",
    "import plotly.express as px\n",
    "\n",
    "%matplotlib inline"
   ]
  },
  {
   "cell_type": "markdown",
   "metadata": {},
   "source": [
    "<h1>1. FIRST PART OF ANALYSIS (2016 vs 2017)"
   ]
  },
  {
   "cell_type": "code",
   "execution_count": 2,
   "metadata": {},
   "outputs": [
    {
     "data": {
      "text/html": [
       "<div>\n",
       "<style scoped>\n",
       "    .dataframe tbody tr th:only-of-type {\n",
       "        vertical-align: middle;\n",
       "    }\n",
       "\n",
       "    .dataframe tbody tr th {\n",
       "        vertical-align: top;\n",
       "    }\n",
       "\n",
       "    .dataframe thead th {\n",
       "        text-align: right;\n",
       "    }\n",
       "</style>\n",
       "<table border=\"1\" class=\"dataframe\">\n",
       "  <thead>\n",
       "    <tr style=\"text-align: right;\">\n",
       "      <th></th>\n",
       "      <th>Unnamed: 0</th>\n",
       "      <th>bike_name</th>\n",
       "      <th>start_time</th>\n",
       "      <th>end_time</th>\n",
       "      <th>start_place_id</th>\n",
       "      <th>end_place_id</th>\n",
       "      <th>start_day</th>\n",
       "      <th>start_month</th>\n",
       "      <th>day_of_month</th>\n",
       "      <th>day_of_week</th>\n",
       "      <th>duration</th>\n",
       "      <th>duration_sec</th>\n",
       "      <th>duration_min</th>\n",
       "      <th>duration_hour</th>\n",
       "      <th>date</th>\n",
       "      <th>start_hour</th>\n",
       "    </tr>\n",
       "  </thead>\n",
       "  <tbody>\n",
       "    <tr>\n",
       "      <td>81048</td>\n",
       "      <td>88160</td>\n",
       "      <td>69333</td>\n",
       "      <td>2017-04-24 20:02:16</td>\n",
       "      <td>2017-04-24 20:09:45</td>\n",
       "      <td>315254</td>\n",
       "      <td>674094</td>\n",
       "      <td>114</td>\n",
       "      <td>4</td>\n",
       "      <td>24</td>\n",
       "      <td>0</td>\n",
       "      <td>0 days 00:07:29.000000000</td>\n",
       "      <td>449</td>\n",
       "      <td>7.483333</td>\n",
       "      <td>0.124722</td>\n",
       "      <td>2017-04-24</td>\n",
       "      <td>20</td>\n",
       "    </tr>\n",
       "    <tr>\n",
       "      <td>34093</td>\n",
       "      <td>37194</td>\n",
       "      <td>69739</td>\n",
       "      <td>2017-04-02 15:32:43</td>\n",
       "      <td>2017-04-02 18:00:17</td>\n",
       "      <td>674353</td>\n",
       "      <td>674353</td>\n",
       "      <td>92</td>\n",
       "      <td>4</td>\n",
       "      <td>2</td>\n",
       "      <td>6</td>\n",
       "      <td>0 days 02:27:34.000000000</td>\n",
       "      <td>8854</td>\n",
       "      <td>147.566667</td>\n",
       "      <td>2.459444</td>\n",
       "      <td>2017-04-02</td>\n",
       "      <td>15</td>\n",
       "    </tr>\n",
       "    <tr>\n",
       "      <td>52268</td>\n",
       "      <td>57232</td>\n",
       "      <td>69667</td>\n",
       "      <td>2017-04-07 11:05:28</td>\n",
       "      <td>2017-04-07 11:22:31</td>\n",
       "      <td>674272</td>\n",
       "      <td>315236</td>\n",
       "      <td>97</td>\n",
       "      <td>4</td>\n",
       "      <td>7</td>\n",
       "      <td>4</td>\n",
       "      <td>0 days 00:17:03.000000000</td>\n",
       "      <td>1023</td>\n",
       "      <td>17.050000</td>\n",
       "      <td>0.284167</td>\n",
       "      <td>2017-04-07</td>\n",
       "      <td>11</td>\n",
       "    </tr>\n",
       "  </tbody>\n",
       "</table>\n",
       "</div>"
      ],
      "text/plain": [
       "       Unnamed: 0  bike_name           start_time             end_time  \\\n",
       "81048       88160      69333  2017-04-24 20:02:16  2017-04-24 20:09:45   \n",
       "34093       37194      69739  2017-04-02 15:32:43  2017-04-02 18:00:17   \n",
       "52268       57232      69667  2017-04-07 11:05:28  2017-04-07 11:22:31   \n",
       "\n",
       "       start_place_id  end_place_id  start_day  start_month  day_of_month  \\\n",
       "81048          315254        674094        114            4            24   \n",
       "34093          674353        674353         92            4             2   \n",
       "52268          674272        315236         97            4             7   \n",
       "\n",
       "       day_of_week                   duration  duration_sec  duration_min  \\\n",
       "81048            0  0 days 00:07:29.000000000           449      7.483333   \n",
       "34093            6  0 days 02:27:34.000000000          8854    147.566667   \n",
       "52268            4  0 days 00:17:03.000000000          1023     17.050000   \n",
       "\n",
       "       duration_hour        date  start_hour  \n",
       "81048       0.124722  2017-04-24          20  \n",
       "34093       2.459444  2017-04-02          15  \n",
       "52268       0.284167  2017-04-07          11  "
      ]
     },
     "execution_count": 2,
     "metadata": {},
     "output_type": "execute_result"
    }
   ],
   "source": [
    "c_b17 = pd.read_csv('c_b17')\n",
    "\n",
    "c_b17.sample(3)"
   ]
  },
  {
   "cell_type": "code",
   "execution_count": 3,
   "metadata": {},
   "outputs": [],
   "source": [
    "city_bike16 = pd.read_csv('c_b16')\n",
    "\n",
    "#get only part of data frame which include information about data from March to May\n",
    "\n",
    "c_b16_march = city_bike16[city_bike16['start_month']==3]\n",
    "\n",
    "c_b16_april = city_bike16[city_bike16['start_month']==4]\n",
    "\n",
    "c_b16_may = city_bike16[city_bike16['start_month']==5]"
   ]
  },
  {
   "cell_type": "code",
   "execution_count": 4,
   "metadata": {},
   "outputs": [
    {
     "data": {
      "text/html": [
       "<div>\n",
       "<style scoped>\n",
       "    .dataframe tbody tr th:only-of-type {\n",
       "        vertical-align: middle;\n",
       "    }\n",
       "\n",
       "    .dataframe tbody tr th {\n",
       "        vertical-align: top;\n",
       "    }\n",
       "\n",
       "    .dataframe thead th {\n",
       "        text-align: right;\n",
       "    }\n",
       "</style>\n",
       "<table border=\"1\" class=\"dataframe\">\n",
       "  <thead>\n",
       "    <tr style=\"text-align: right;\">\n",
       "      <th></th>\n",
       "      <th>Unnamed: 0</th>\n",
       "      <th>bike_name</th>\n",
       "      <th>start_time</th>\n",
       "      <th>end_time</th>\n",
       "      <th>start_place_id</th>\n",
       "      <th>end_place_id</th>\n",
       "      <th>start_day</th>\n",
       "      <th>start_month</th>\n",
       "      <th>day_of_month</th>\n",
       "      <th>day_of_week</th>\n",
       "      <th>duration</th>\n",
       "      <th>duration_sec</th>\n",
       "      <th>duration_min</th>\n",
       "      <th>duration_hour</th>\n",
       "      <th>date</th>\n",
       "      <th>start_hour</th>\n",
       "    </tr>\n",
       "  </thead>\n",
       "  <tbody>\n",
       "    <tr>\n",
       "      <td>259404</td>\n",
       "      <td>282756</td>\n",
       "      <td>69460</td>\n",
       "      <td>2016-05-24 18:05:00</td>\n",
       "      <td>2016-05-24 18:15:00</td>\n",
       "      <td>315248</td>\n",
       "      <td>674230</td>\n",
       "      <td>145</td>\n",
       "      <td>5</td>\n",
       "      <td>24</td>\n",
       "      <td>1</td>\n",
       "      <td>0 days 00:10:00.000000000</td>\n",
       "      <td>600</td>\n",
       "      <td>10.000000</td>\n",
       "      <td>0.166667</td>\n",
       "      <td>2016-05-24</td>\n",
       "      <td>18</td>\n",
       "    </tr>\n",
       "    <tr>\n",
       "      <td>24022</td>\n",
       "      <td>25962</td>\n",
       "      <td>69853</td>\n",
       "      <td>2016-04-03 17:50:23</td>\n",
       "      <td>2016-04-03 18:10:21</td>\n",
       "      <td>674153</td>\n",
       "      <td>315245</td>\n",
       "      <td>94</td>\n",
       "      <td>4</td>\n",
       "      <td>3</td>\n",
       "      <td>6</td>\n",
       "      <td>0 days 00:19:58.000000000</td>\n",
       "      <td>1198</td>\n",
       "      <td>19.966667</td>\n",
       "      <td>0.332778</td>\n",
       "      <td>2016-04-03</td>\n",
       "      <td>17</td>\n",
       "    </tr>\n",
       "    <tr>\n",
       "      <td>301678</td>\n",
       "      <td>328971</td>\n",
       "      <td>69906</td>\n",
       "      <td>2016-05-24 10:33:00</td>\n",
       "      <td>2016-05-24 10:43:00</td>\n",
       "      <td>674023</td>\n",
       "      <td>315270</td>\n",
       "      <td>145</td>\n",
       "      <td>5</td>\n",
       "      <td>24</td>\n",
       "      <td>1</td>\n",
       "      <td>0 days 00:10:00.000000000</td>\n",
       "      <td>600</td>\n",
       "      <td>10.000000</td>\n",
       "      <td>0.166667</td>\n",
       "      <td>2016-05-24</td>\n",
       "      <td>10</td>\n",
       "    </tr>\n",
       "  </tbody>\n",
       "</table>\n",
       "</div>"
      ],
      "text/plain": [
       "        Unnamed: 0  bike_name           start_time             end_time  \\\n",
       "259404      282756      69460  2016-05-24 18:05:00  2016-05-24 18:15:00   \n",
       "24022        25962      69853  2016-04-03 17:50:23  2016-04-03 18:10:21   \n",
       "301678      328971      69906  2016-05-24 10:33:00  2016-05-24 10:43:00   \n",
       "\n",
       "        start_place_id  end_place_id  start_day  start_month  day_of_month  \\\n",
       "259404          315248        674230        145            5            24   \n",
       "24022           674153        315245         94            4             3   \n",
       "301678          674023        315270        145            5            24   \n",
       "\n",
       "        day_of_week                   duration  duration_sec  duration_min  \\\n",
       "259404            1  0 days 00:10:00.000000000           600     10.000000   \n",
       "24022             6  0 days 00:19:58.000000000          1198     19.966667   \n",
       "301678            1  0 days 00:10:00.000000000           600     10.000000   \n",
       "\n",
       "        duration_hour        date  start_hour  \n",
       "259404       0.166667  2016-05-24          18  \n",
       "24022        0.332778  2016-04-03          17  \n",
       "301678       0.166667  2016-05-24          10  "
      ]
     },
     "execution_count": 4,
     "metadata": {},
     "output_type": "execute_result"
    }
   ],
   "source": [
    "c_b16 = pd.concat(objs=[c_b16_march,c_b16_april,c_b16_may], ignore_index=True)\n",
    "\n",
    "c_b16.sample(3)"
   ]
  },
  {
   "cell_type": "code",
   "execution_count": 5,
   "metadata": {},
   "outputs": [
    {
     "name": "stdout",
     "output_type": "stream",
     "text": [
      "The bikes were available for rental for 72 dyas in 2016\n",
      "The bikes were available for rental for 72 dyas in 2017\n"
     ]
    }
   ],
   "source": [
    "#For how many days were the bikes available for rental?\n",
    "\n",
    "num_of_days = c_b16['start_day'].nunique()\n",
    "\n",
    "print(f'The bikes were available for rental for {num_of_days} dyas in 2016')\n",
    "\n",
    "num_of_days = c_b17['start_day'].nunique()\n",
    "\n",
    "print(f'The bikes were available for rental for {num_of_days} dyas in 2017')"
   ]
  },
  {
   "cell_type": "code",
   "execution_count": 6,
   "metadata": {},
   "outputs": [
    {
     "name": "stdout",
     "output_type": "stream",
     "text": [
      "Count of rentals:304238, count of bikes: 891 in 2016\n",
      "Count of rentals:185291, count of bikes: 850 in 2017\n"
     ]
    }
   ],
   "source": [
    "#How many rentals and bikes were there?\n",
    "\n",
    "num_of_bikes = c_b16['bike_name'].nunique()\n",
    "\n",
    "num_of_rent = c_b16['bike_name'].count()\n",
    "\n",
    "print(f'Count of rentals:{num_of_rent}, count of bikes: {num_of_bikes} in 2016')\n",
    "\n",
    "num_of_bikes = c_b17['bike_name'].nunique()\n",
    "\n",
    "num_of_rent = c_b17['bike_name'].count()\n",
    "\n",
    "print(f'Count of rentals:{num_of_rent}, count of bikes: {num_of_bikes} in 2017')"
   ]
  },
  {
   "cell_type": "code",
   "execution_count": 7,
   "metadata": {},
   "outputs": [
    {
     "name": "stdout",
     "output_type": "stream",
     "text": [
      "The average time of rental: 18.24584837090261 in 2016\n",
      "The average time of rental: 17.7577186695522 in 2017\n"
     ]
    }
   ],
   "source": [
    "#The average time of a rental:\n",
    "\n",
    "avg_time = c_b16['duration_min'].mean()\n",
    "\n",
    "print(f'The average time of rental: {avg_time} in 2016')\n",
    "\n",
    "avg_time = c_b17['duration_min'].mean()\n",
    "\n",
    "print(f'The average time of rental: {avg_time} in 2017')"
   ]
  },
  {
   "cell_type": "code",
   "execution_count": 8,
   "metadata": {},
   "outputs": [
    {
     "name": "stdout",
     "output_type": "stream",
     "text": [
      "Num of rentals under 20 minutes in 2016: 239639\n",
      "Num of rentals under 20 minutes in 2016: 148309\n"
     ]
    }
   ],
   "source": [
    "#Rentals under 20 minutes\n",
    "\n",
    "rentals_under_20 = len(c_b16[c_b16['duration_min']<20])\n",
    "\n",
    "print('Num of rentals under 20 minutes in 2016:', rentals_under_20)\n",
    "\n",
    "rentals_under_20 = len(c_b17[c_b17['duration_min']<20])\n",
    "\n",
    "print('Num of rentals under 20 minutes in 2016:', rentals_under_20)"
   ]
  },
  {
   "cell_type": "code",
   "execution_count": 9,
   "metadata": {},
   "outputs": [
    {
     "name": "stdout",
     "output_type": "stream",
     "text": [
      "The most popular month is: May /2016\n",
      "The most popular month is: May /2017\n"
     ]
    }
   ],
   "source": [
    "#Most popular month\n",
    "\n",
    "\n",
    "month = {3:'March',4:'April',5:'May'}\n",
    "\n",
    "top_month = c_b16.groupby('start_month').agg({'bike_name':'count'}).sort_values(by='bike_name', ascending=False).iloc[0].name\n",
    "\n",
    "print(f'The most popular month is: {month[top_month]} /2016')\n",
    "\n",
    "c_b16.groupby('start_month').agg({'bike_name':'count'}).sort_values(by=['bike_name'], ascending=False)\n",
    "\n",
    "top_month = c_b17.groupby('start_month').agg({'bike_name':'count'}).sort_values(by='bike_name', ascending=False).iloc[0].name\n",
    "\n",
    "print(f'The most popular month is: {month[top_month]} /2017')\n"
   ]
  },
  {
   "cell_type": "code",
   "execution_count": 10,
   "metadata": {},
   "outputs": [
    {
     "name": "stdout",
     "output_type": "stream",
     "text": [
      "The most popular day: 2016-04-05\n",
      "The most popular day: 2017-04-02\n"
     ]
    }
   ],
   "source": [
    "#Daily top score\n",
    "\n",
    "top_day = c_b16.groupby('date').agg({'bike_name':'count'}).sort_values(by='bike_name', ascending=False).iloc[0].name\n",
    "\n",
    "print(f'The most popular day: {top_day}')\n",
    "\n",
    "top_day = c_b17.groupby('date').agg({'bike_name':'count'}).sort_values(by='bike_name', ascending=False).iloc[0].name\n",
    "\n",
    "print(f'The most popular day: {top_day}')\n"
   ]
  },
  {
   "cell_type": "code",
   "execution_count": 11,
   "metadata": {},
   "outputs": [
    {
     "name": "stdout",
     "output_type": "stream",
     "text": [
      "The most popular start station number: 315269 in 2016\n",
      "The most popular start station number: 315269 in 2017\n"
     ]
    }
   ],
   "source": [
    "#Most popular start station\n",
    "\n",
    "top_s_station = c_b16['start_place_id'].value_counts().head(1).index[0]\n",
    "\n",
    "print(f'The most popular start station number: {top_s_station} in 2016')\n",
    "\n",
    "top_s_station = c_b17['start_place_id'].value_counts().head(1).index[0]\n",
    "\n",
    "print(f'The most popular start station number: {top_s_station} in 2017')"
   ]
  },
  {
   "cell_type": "code",
   "execution_count": 12,
   "metadata": {},
   "outputs": [
    {
     "name": "stdout",
     "output_type": "stream",
     "text": [
      "The most popular start station number: 315269 in 2016\n",
      "The most popular start station number: 315269 in 2017\n"
     ]
    }
   ],
   "source": [
    "#Most popular end station\n",
    "\n",
    "top_end_station = c_b16['end_place_id'].value_counts().head(1).index[0]\n",
    "\n",
    "print(f'The most popular start station number: {top_end_station} in 2016')\n",
    "\n",
    "top_end_station = c_b17['end_place_id'].value_counts().head(1).index[0]\n",
    "\n",
    "print(f'The most popular start station number: {top_end_station} in 2017')"
   ]
  },
  {
   "cell_type": "code",
   "execution_count": 13,
   "metadata": {},
   "outputs": [
    {
     "name": "stdout",
     "output_type": "stream",
     "text": [
      "The bikes were rented every 28 sec. in 2016\n",
      "The bikes were rented every 33 sec. in 2017\n"
     ]
    }
   ],
   "source": [
    "#How often the bikes were rented\n",
    "\n",
    "#2016 \n",
    "\n",
    "freq_2016 = 22032000 // 783692\n",
    "\n",
    "print(f'The bikes were rented every {freq_2016} sec. in 2016')\n",
    "\n",
    "#2017\n",
    "\n",
    "freq_2017 = 6220800 // 185291\n",
    "\n",
    "print(f'The bikes were rented every {freq_2017} sec. in 2017')"
   ]
  },
  {
   "cell_type": "code",
   "execution_count": 14,
   "metadata": {},
   "outputs": [
    {
     "name": "stdout",
     "output_type": "stream",
     "text": [
      "Average rent number per month in 2016\n",
      "              bike_name  num_day_in_month  result\n",
      "start_month                                     \n",
      "3                15941                11    1449\n",
      "4               131390                30    4379\n",
      "5               156907                31    5061 \n",
      "\n",
      "\n",
      "Average rent number per month in 2017\n",
      "              bike_name  num_day_in_month  result\n",
      "start_month                                     \n",
      "3                25909                11    2355\n",
      "4                61829                30    2060\n",
      "5                97553                31    3146\n"
     ]
    }
   ],
   "source": [
    "#Create a plot for average rent number per month\n",
    "\n",
    "#2016\n",
    "\n",
    "average_rent_16 = c_b16.groupby('start_month').agg({'bike_name':'count'}) #I count num of rent per month\n",
    "\n",
    "average_rent_16['num_day_in_month'] = c_b16.groupby(['start_month'])[['day_of_month']].nunique() #I count num of days in month\n",
    "\n",
    "average_rent_16['result'] = average_rent_16['bike_name']//average_rent_16['num_day_in_month'] #I count average rent number for every month\n",
    "\n",
    "print('Average rent number per month in 2016\\n',average_rent_16,'\\n\\n')\n",
    "\n",
    "#2017\n",
    "\n",
    "average_rent_17 = c_b17.groupby('start_month').agg({'bike_name':'count'}) \n",
    "\n",
    "average_rent_17['num_day_in_month'] = c_b17.groupby(['start_month'])[['day_of_month']].nunique() \n",
    "\n",
    "average_rent_17['result'] = average_rent_17['bike_name']//average_rent_17['num_day_in_month'] \n",
    "\n",
    "print('Average rent number per month in 2017\\n',average_rent_17)"
   ]
  },
  {
   "cell_type": "code",
   "execution_count": 15,
   "metadata": {},
   "outputs": [
    {
     "data": {
      "text/html": [
       "<div>\n",
       "<style scoped>\n",
       "    .dataframe tbody tr th:only-of-type {\n",
       "        vertical-align: middle;\n",
       "    }\n",
       "\n",
       "    .dataframe tbody tr th {\n",
       "        vertical-align: top;\n",
       "    }\n",
       "\n",
       "    .dataframe thead th {\n",
       "        text-align: right;\n",
       "    }\n",
       "</style>\n",
       "<table border=\"1\" class=\"dataframe\">\n",
       "  <thead>\n",
       "    <tr style=\"text-align: right;\">\n",
       "      <th></th>\n",
       "      <th>2016</th>\n",
       "      <th>2017</th>\n",
       "    </tr>\n",
       "  </thead>\n",
       "  <tbody>\n",
       "    <tr>\n",
       "      <td>March</td>\n",
       "      <td>1449</td>\n",
       "      <td>2355</td>\n",
       "    </tr>\n",
       "    <tr>\n",
       "      <td>April</td>\n",
       "      <td>4379</td>\n",
       "      <td>2060</td>\n",
       "    </tr>\n",
       "    <tr>\n",
       "      <td>May</td>\n",
       "      <td>5061</td>\n",
       "      <td>3146</td>\n",
       "    </tr>\n",
       "  </tbody>\n",
       "</table>\n",
       "</div>"
      ],
      "text/plain": [
       "       2016  2017\n",
       "March  1449  2355\n",
       "April  4379  2060\n",
       "May    5061  3146"
      ]
     },
     "execution_count": 15,
     "metadata": {},
     "output_type": "execute_result"
    }
   ],
   "source": [
    "d = {'2016':average_rent_16['result'].to_list(), '2017':average_rent_17['result'].to_list()}\n",
    "\n",
    "df = pd.DataFrame(data=d, index=['March','April','May'])\n",
    "\n",
    "df"
   ]
  },
  {
   "cell_type": "code",
   "execution_count": 16,
   "metadata": {},
   "outputs": [
    {
     "data": {
      "image/png": "[encoded data removed]",
      "text/plain": [
       "<Figure size 432x288 with 1 Axes>"
      ]
     },
     "metadata": {
      "needs_background": "light"
     },
     "output_type": "display_data"
    }
   ],
   "source": [
    "df.plot(y = ['2016','2017'],use_index=True, kind='bar',rot=360, title = 'Average rent number per month', legend = True);"
   ]
  },
  {
   "cell_type": "code",
   "execution_count": 17,
   "metadata": {},
   "outputs": [
    {
     "data": {
      "text/html": [
       "<div>\n",
       "<style scoped>\n",
       "    .dataframe tbody tr th:only-of-type {\n",
       "        vertical-align: middle;\n",
       "    }\n",
       "\n",
       "    .dataframe tbody tr th {\n",
       "        vertical-align: top;\n",
       "    }\n",
       "\n",
       "    .dataframe thead tr th {\n",
       "        text-align: left;\n",
       "    }\n",
       "\n",
       "    .dataframe thead tr:last-of-type th {\n",
       "        text-align: right;\n",
       "    }\n",
       "</style>\n",
       "<table border=\"1\" class=\"dataframe\">\n",
       "  <thead>\n",
       "    <tr>\n",
       "      <th></th>\n",
       "      <th>bike_name</th>\n",
       "      <th>num_of_days</th>\n",
       "      <th>num_per_day</th>\n",
       "    </tr>\n",
       "    <tr>\n",
       "      <th></th>\n",
       "      <th>count</th>\n",
       "      <th></th>\n",
       "      <th></th>\n",
       "    </tr>\n",
       "    <tr>\n",
       "      <th>day_of_week</th>\n",
       "      <th></th>\n",
       "      <th></th>\n",
       "      <th></th>\n",
       "    </tr>\n",
       "  </thead>\n",
       "  <tbody>\n",
       "    <tr>\n",
       "      <td>0</td>\n",
       "      <td>45026</td>\n",
       "      <td>11</td>\n",
       "      <td>4093.27</td>\n",
       "    </tr>\n",
       "    <tr>\n",
       "      <td>1</td>\n",
       "      <td>51089</td>\n",
       "      <td>11</td>\n",
       "      <td>4644.45</td>\n",
       "    </tr>\n",
       "    <tr>\n",
       "      <td>2</td>\n",
       "      <td>46973</td>\n",
       "      <td>10</td>\n",
       "      <td>4697.30</td>\n",
       "    </tr>\n",
       "    <tr>\n",
       "      <td>3</td>\n",
       "      <td>48360</td>\n",
       "      <td>10</td>\n",
       "      <td>4836.00</td>\n",
       "    </tr>\n",
       "    <tr>\n",
       "      <td>4</td>\n",
       "      <td>41951</td>\n",
       "      <td>10</td>\n",
       "      <td>4195.10</td>\n",
       "    </tr>\n",
       "    <tr>\n",
       "      <td>5</td>\n",
       "      <td>32592</td>\n",
       "      <td>10</td>\n",
       "      <td>3259.20</td>\n",
       "    </tr>\n",
       "    <tr>\n",
       "      <td>6</td>\n",
       "      <td>38247</td>\n",
       "      <td>10</td>\n",
       "      <td>3824.70</td>\n",
       "    </tr>\n",
       "  </tbody>\n",
       "</table>\n",
       "</div>"
      ],
      "text/plain": [
       "            bike_name num_of_days num_per_day\n",
       "                count                        \n",
       "day_of_week                                  \n",
       "0               45026          11     4093.27\n",
       "1               51089          11     4644.45\n",
       "2               46973          10     4697.30\n",
       "3               48360          10     4836.00\n",
       "4               41951          10     4195.10\n",
       "5               32592          10     3259.20\n",
       "6               38247          10     3824.70"
      ]
     },
     "execution_count": 17,
     "metadata": {},
     "output_type": "execute_result"
    }
   ],
   "source": [
    "#Create a plot for average rent number per day of week in 2016\n",
    "\n",
    "rent_num_16 = c_b16.groupby('day_of_week').agg({'bike_name':['count']}) #I count num of rentals per day of week\n",
    "\n",
    "num_of_day_df = pd.DataFrame(c_b16.groupby(['date'])['day_of_week'].unique().value_counts()).sort_index()\n",
    "\n",
    "rent_num_16['num_of_days']=num_of_day_df['day_of_week']\n",
    "\n",
    "rent_num_16['num_per_day'] = rent_num_16['bike_name']['count'] / rent_num_16['num_of_days']\n",
    "\n",
    "rent_num_16.round(2)"
   ]
  },
  {
   "cell_type": "code",
   "execution_count": 18,
   "metadata": {},
   "outputs": [
    {
     "data": {
      "text/html": [
       "<div>\n",
       "<style scoped>\n",
       "    .dataframe tbody tr th:only-of-type {\n",
       "        vertical-align: middle;\n",
       "    }\n",
       "\n",
       "    .dataframe tbody tr th {\n",
       "        vertical-align: top;\n",
       "    }\n",
       "\n",
       "    .dataframe thead tr th {\n",
       "        text-align: left;\n",
       "    }\n",
       "\n",
       "    .dataframe thead tr:last-of-type th {\n",
       "        text-align: right;\n",
       "    }\n",
       "</style>\n",
       "<table border=\"1\" class=\"dataframe\">\n",
       "  <thead>\n",
       "    <tr>\n",
       "      <th></th>\n",
       "      <th>bike_name</th>\n",
       "      <th>num_of_days</th>\n",
       "      <th>num_per_day</th>\n",
       "    </tr>\n",
       "    <tr>\n",
       "      <th></th>\n",
       "      <th>count</th>\n",
       "      <th></th>\n",
       "      <th></th>\n",
       "    </tr>\n",
       "    <tr>\n",
       "      <th>day_of_week</th>\n",
       "      <th></th>\n",
       "      <th></th>\n",
       "      <th></th>\n",
       "    </tr>\n",
       "  </thead>\n",
       "  <tbody>\n",
       "    <tr>\n",
       "      <td>0</td>\n",
       "      <td>30209</td>\n",
       "      <td>10</td>\n",
       "      <td>3020.90</td>\n",
       "    </tr>\n",
       "    <tr>\n",
       "      <td>1</td>\n",
       "      <td>33206</td>\n",
       "      <td>11</td>\n",
       "      <td>3018.73</td>\n",
       "    </tr>\n",
       "    <tr>\n",
       "      <td>2</td>\n",
       "      <td>26204</td>\n",
       "      <td>11</td>\n",
       "      <td>2382.18</td>\n",
       "    </tr>\n",
       "    <tr>\n",
       "      <td>3</td>\n",
       "      <td>21604</td>\n",
       "      <td>10</td>\n",
       "      <td>2160.40</td>\n",
       "    </tr>\n",
       "    <tr>\n",
       "      <td>4</td>\n",
       "      <td>23715</td>\n",
       "      <td>10</td>\n",
       "      <td>2371.50</td>\n",
       "    </tr>\n",
       "    <tr>\n",
       "      <td>5</td>\n",
       "      <td>25652</td>\n",
       "      <td>10</td>\n",
       "      <td>2565.20</td>\n",
       "    </tr>\n",
       "    <tr>\n",
       "      <td>6</td>\n",
       "      <td>24701</td>\n",
       "      <td>10</td>\n",
       "      <td>2470.10</td>\n",
       "    </tr>\n",
       "  </tbody>\n",
       "</table>\n",
       "</div>"
      ],
      "text/plain": [
       "            bike_name num_of_days num_per_day\n",
       "                count                        \n",
       "day_of_week                                  \n",
       "0               30209          10     3020.90\n",
       "1               33206          11     3018.73\n",
       "2               26204          11     2382.18\n",
       "3               21604          10     2160.40\n",
       "4               23715          10     2371.50\n",
       "5               25652          10     2565.20\n",
       "6               24701          10     2470.10"
      ]
     },
     "execution_count": 18,
     "metadata": {},
     "output_type": "execute_result"
    }
   ],
   "source": [
    "#Create a plot for average rent number per day of week\n",
    "\n",
    "rent_num_17 = c_b17.groupby('day_of_week').agg({'bike_name':['count']}) #I count num of rentals per day of week\n",
    "\n",
    "num_of_day_df = pd.DataFrame(c_b17.groupby(['date'])['day_of_week'].unique().value_counts()).sort_index()\n",
    "\n",
    "rent_num_17['num_of_days']=num_of_day_df['day_of_week']\n",
    "\n",
    "rent_num_17['num_per_day'] = rent_num_17['bike_name']['count'] / rent_num_17['num_of_days']\n",
    "\n",
    "rent_num_17.round(2)"
   ]
  },
  {
   "cell_type": "code",
   "execution_count": 19,
   "metadata": {},
   "outputs": [
    {
     "data": {
      "text/html": [
       "<div>\n",
       "<style scoped>\n",
       "    .dataframe tbody tr th:only-of-type {\n",
       "        vertical-align: middle;\n",
       "    }\n",
       "\n",
       "    .dataframe tbody tr th {\n",
       "        vertical-align: top;\n",
       "    }\n",
       "\n",
       "    .dataframe thead th {\n",
       "        text-align: right;\n",
       "    }\n",
       "</style>\n",
       "<table border=\"1\" class=\"dataframe\">\n",
       "  <thead>\n",
       "    <tr style=\"text-align: right;\">\n",
       "      <th></th>\n",
       "      <th>2016</th>\n",
       "      <th>2017</th>\n",
       "    </tr>\n",
       "  </thead>\n",
       "  <tbody>\n",
       "    <tr>\n",
       "      <td>Monday</td>\n",
       "      <td>4093.272727</td>\n",
       "      <td>3020.900000</td>\n",
       "    </tr>\n",
       "    <tr>\n",
       "      <td>Tuesday</td>\n",
       "      <td>4644.454545</td>\n",
       "      <td>3018.727273</td>\n",
       "    </tr>\n",
       "    <tr>\n",
       "      <td>Wednesday</td>\n",
       "      <td>4697.300000</td>\n",
       "      <td>2382.181818</td>\n",
       "    </tr>\n",
       "    <tr>\n",
       "      <td>Thuersday</td>\n",
       "      <td>4836.000000</td>\n",
       "      <td>2160.400000</td>\n",
       "    </tr>\n",
       "    <tr>\n",
       "      <td>Friday</td>\n",
       "      <td>4195.100000</td>\n",
       "      <td>2371.500000</td>\n",
       "    </tr>\n",
       "    <tr>\n",
       "      <td>Saturday</td>\n",
       "      <td>3259.200000</td>\n",
       "      <td>2565.200000</td>\n",
       "    </tr>\n",
       "    <tr>\n",
       "      <td>Sunday</td>\n",
       "      <td>3824.700000</td>\n",
       "      <td>2470.100000</td>\n",
       "    </tr>\n",
       "  </tbody>\n",
       "</table>\n",
       "</div>"
      ],
      "text/plain": [
       "                  2016         2017\n",
       "Monday     4093.272727  3020.900000\n",
       "Tuesday    4644.454545  3018.727273\n",
       "Wednesday  4697.300000  2382.181818\n",
       "Thuersday  4836.000000  2160.400000\n",
       "Friday     4195.100000  2371.500000\n",
       "Saturday   3259.200000  2565.200000\n",
       "Sunday     3824.700000  2470.100000"
      ]
     },
     "execution_count": 19,
     "metadata": {},
     "output_type": "execute_result"
    }
   ],
   "source": [
    "d = {'2016':rent_num_16['num_per_day'].to_list(), '2017':rent_num_17['num_per_day'].to_list()}\n",
    "\n",
    "df = pd.DataFrame(data=d, index=['Monday','Tuesday','Wednesday','Thuersday','Friday','Saturday','Sunday'])\n",
    "\n",
    "df"
   ]
  },
  {
   "cell_type": "code",
   "execution_count": 20,
   "metadata": {},
   "outputs": [
    {
     "data": {
      "image/png": "[encoded data removed]",
      "text/plain": [
       "<Figure size 720x504 with 1 Axes>"
      ]
     },
     "metadata": {
      "needs_background": "light"
     },
     "output_type": "display_data"
    }
   ],
   "source": [
    "df.plot(y = ['2016','2017'],kind='line',rot=360, figsize = (10,7),title = 'Average rent number per day of week', legend = True);"
   ]
  },
  {
   "cell_type": "code",
   "execution_count": 21,
   "metadata": {},
   "outputs": [
    {
     "data": {
      "text/html": [
       "<div>\n",
       "<style scoped>\n",
       "    .dataframe tbody tr th:only-of-type {\n",
       "        vertical-align: middle;\n",
       "    }\n",
       "\n",
       "    .dataframe tbody tr th {\n",
       "        vertical-align: top;\n",
       "    }\n",
       "\n",
       "    .dataframe thead th {\n",
       "        text-align: right;\n",
       "    }\n",
       "</style>\n",
       "<table border=\"1\" class=\"dataframe\">\n",
       "  <thead>\n",
       "    <tr style=\"text-align: right;\">\n",
       "      <th></th>\n",
       "      <th>day_of_week</th>\n",
       "      <th>duration_min</th>\n",
       "    </tr>\n",
       "  </thead>\n",
       "  <tbody>\n",
       "    <tr>\n",
       "      <td>0</td>\n",
       "      <td>0</td>\n",
       "      <td>16.869096</td>\n",
       "    </tr>\n",
       "    <tr>\n",
       "      <td>1</td>\n",
       "      <td>1</td>\n",
       "      <td>17.708470</td>\n",
       "    </tr>\n",
       "    <tr>\n",
       "      <td>2</td>\n",
       "      <td>2</td>\n",
       "      <td>16.111439</td>\n",
       "    </tr>\n",
       "    <tr>\n",
       "      <td>3</td>\n",
       "      <td>3</td>\n",
       "      <td>17.212339</td>\n",
       "    </tr>\n",
       "    <tr>\n",
       "      <td>4</td>\n",
       "      <td>4</td>\n",
       "      <td>16.632039</td>\n",
       "    </tr>\n",
       "    <tr>\n",
       "      <td>5</td>\n",
       "      <td>5</td>\n",
       "      <td>20.593935</td>\n",
       "    </tr>\n",
       "    <tr>\n",
       "      <td>6</td>\n",
       "      <td>6</td>\n",
       "      <td>24.281774</td>\n",
       "    </tr>\n",
       "  </tbody>\n",
       "</table>\n",
       "</div>"
      ],
      "text/plain": [
       "   day_of_week  duration_min\n",
       "0            0     16.869096\n",
       "1            1     17.708470\n",
       "2            2     16.111439\n",
       "3            3     17.212339\n",
       "4            4     16.632039\n",
       "5            5     20.593935\n",
       "6            6     24.281774"
      ]
     },
     "execution_count": 21,
     "metadata": {},
     "output_type": "execute_result"
    }
   ],
   "source": [
    "#Create a plot for average time of rent per day of week\n",
    "\n",
    "ave_time_16 = c_b16.groupby('day_of_week').agg({'duration_min':'mean'})\n",
    "ave_time_16.reset_index(inplace=True)\n",
    "ave_time_16"
   ]
  },
  {
   "cell_type": "code",
   "execution_count": 22,
   "metadata": {},
   "outputs": [
    {
     "data": {
      "text/html": [
       "<div>\n",
       "<style scoped>\n",
       "    .dataframe tbody tr th:only-of-type {\n",
       "        vertical-align: middle;\n",
       "    }\n",
       "\n",
       "    .dataframe tbody tr th {\n",
       "        vertical-align: top;\n",
       "    }\n",
       "\n",
       "    .dataframe thead th {\n",
       "        text-align: right;\n",
       "    }\n",
       "</style>\n",
       "<table border=\"1\" class=\"dataframe\">\n",
       "  <thead>\n",
       "    <tr style=\"text-align: right;\">\n",
       "      <th></th>\n",
       "      <th>day_of_week</th>\n",
       "      <th>duration_min</th>\n",
       "    </tr>\n",
       "  </thead>\n",
       "  <tbody>\n",
       "    <tr>\n",
       "      <td>0</td>\n",
       "      <td>0</td>\n",
       "      <td>17.186919</td>\n",
       "    </tr>\n",
       "    <tr>\n",
       "      <td>1</td>\n",
       "      <td>1</td>\n",
       "      <td>16.463803</td>\n",
       "    </tr>\n",
       "    <tr>\n",
       "      <td>2</td>\n",
       "      <td>2</td>\n",
       "      <td>15.869589</td>\n",
       "    </tr>\n",
       "    <tr>\n",
       "      <td>3</td>\n",
       "      <td>3</td>\n",
       "      <td>14.956857</td>\n",
       "    </tr>\n",
       "    <tr>\n",
       "      <td>4</td>\n",
       "      <td>4</td>\n",
       "      <td>16.013885</td>\n",
       "    </tr>\n",
       "    <tr>\n",
       "      <td>5</td>\n",
       "      <td>5</td>\n",
       "      <td>21.136126</td>\n",
       "    </tr>\n",
       "    <tr>\n",
       "      <td>6</td>\n",
       "      <td>6</td>\n",
       "      <td>22.813689</td>\n",
       "    </tr>\n",
       "  </tbody>\n",
       "</table>\n",
       "</div>"
      ],
      "text/plain": [
       "   day_of_week  duration_min\n",
       "0            0     17.186919\n",
       "1            1     16.463803\n",
       "2            2     15.869589\n",
       "3            3     14.956857\n",
       "4            4     16.013885\n",
       "5            5     21.136126\n",
       "6            6     22.813689"
      ]
     },
     "execution_count": 22,
     "metadata": {},
     "output_type": "execute_result"
    }
   ],
   "source": [
    "ave_time_17 = c_b17.groupby('day_of_week').agg({'duration_min':'mean'})\n",
    "ave_time_17.reset_index(inplace=True)\n",
    "ave_time_17"
   ]
  },
  {
   "cell_type": "code",
   "execution_count": 23,
   "metadata": {},
   "outputs": [
    {
     "data": {
      "text/html": [
       "<div>\n",
       "<style scoped>\n",
       "    .dataframe tbody tr th:only-of-type {\n",
       "        vertical-align: middle;\n",
       "    }\n",
       "\n",
       "    .dataframe tbody tr th {\n",
       "        vertical-align: top;\n",
       "    }\n",
       "\n",
       "    .dataframe thead th {\n",
       "        text-align: right;\n",
       "    }\n",
       "</style>\n",
       "<table border=\"1\" class=\"dataframe\">\n",
       "  <thead>\n",
       "    <tr style=\"text-align: right;\">\n",
       "      <th></th>\n",
       "      <th>2016</th>\n",
       "      <th>2017</th>\n",
       "    </tr>\n",
       "  </thead>\n",
       "  <tbody>\n",
       "    <tr>\n",
       "      <td>Monday</td>\n",
       "      <td>16.869096</td>\n",
       "      <td>17.186919</td>\n",
       "    </tr>\n",
       "    <tr>\n",
       "      <td>Tuesday</td>\n",
       "      <td>17.708470</td>\n",
       "      <td>16.463803</td>\n",
       "    </tr>\n",
       "    <tr>\n",
       "      <td>Wednesday</td>\n",
       "      <td>16.111439</td>\n",
       "      <td>15.869589</td>\n",
       "    </tr>\n",
       "    <tr>\n",
       "      <td>Thuersday</td>\n",
       "      <td>17.212339</td>\n",
       "      <td>14.956857</td>\n",
       "    </tr>\n",
       "    <tr>\n",
       "      <td>Friday</td>\n",
       "      <td>16.632039</td>\n",
       "      <td>16.013885</td>\n",
       "    </tr>\n",
       "    <tr>\n",
       "      <td>Saturday</td>\n",
       "      <td>20.593935</td>\n",
       "      <td>21.136126</td>\n",
       "    </tr>\n",
       "    <tr>\n",
       "      <td>Sunday</td>\n",
       "      <td>24.281774</td>\n",
       "      <td>22.813689</td>\n",
       "    </tr>\n",
       "  </tbody>\n",
       "</table>\n",
       "</div>"
      ],
      "text/plain": [
       "                2016       2017\n",
       "Monday     16.869096  17.186919\n",
       "Tuesday    17.708470  16.463803\n",
       "Wednesday  16.111439  15.869589\n",
       "Thuersday  17.212339  14.956857\n",
       "Friday     16.632039  16.013885\n",
       "Saturday   20.593935  21.136126\n",
       "Sunday     24.281774  22.813689"
      ]
     },
     "execution_count": 23,
     "metadata": {},
     "output_type": "execute_result"
    }
   ],
   "source": [
    "d={'2016': ave_time_16['duration_min'].to_list(), '2017':ave_time_17['duration_min'].to_list()}\n",
    "\n",
    "df = pd.DataFrame(data=d, index=['Monday','Tuesday','Wednesday','Thuersday','Friday','Saturday','Sunday'])\n",
    "\n",
    "df"
   ]
  },
  {
   "cell_type": "code",
   "execution_count": 24,
   "metadata": {},
   "outputs": [
    {
     "data": {
      "image/png": "[encoded data removed]",
      "text/plain": [
       "<Figure size 720x504 with 1 Axes>"
      ]
     },
     "metadata": {
      "needs_background": "light"
     },
     "output_type": "display_data"
    }
   ],
   "source": [
    "df.plot(y = ['2016','2017'],kind='line',rot=360, figsize = (10,7),title = 'Average time', legend = True);"
   ]
  },
  {
   "cell_type": "code",
   "execution_count": 25,
   "metadata": {},
   "outputs": [
    {
     "data": {
      "text/html": [
       "<div>\n",
       "<style scoped>\n",
       "    .dataframe tbody tr th:only-of-type {\n",
       "        vertical-align: middle;\n",
       "    }\n",
       "\n",
       "    .dataframe tbody tr th {\n",
       "        vertical-align: top;\n",
       "    }\n",
       "\n",
       "    .dataframe thead th {\n",
       "        text-align: right;\n",
       "    }\n",
       "</style>\n",
       "<table border=\"1\" class=\"dataframe\">\n",
       "  <thead>\n",
       "    <tr style=\"text-align: right;\">\n",
       "      <th></th>\n",
       "      <th>bike_name</th>\n",
       "    </tr>\n",
       "    <tr>\n",
       "      <th>start_hour</th>\n",
       "      <th></th>\n",
       "    </tr>\n",
       "  </thead>\n",
       "  <tbody>\n",
       "    <tr>\n",
       "      <td>0</td>\n",
       "      <td>4534</td>\n",
       "    </tr>\n",
       "    <tr>\n",
       "      <td>1</td>\n",
       "      <td>2910</td>\n",
       "    </tr>\n",
       "    <tr>\n",
       "      <td>2</td>\n",
       "      <td>1654</td>\n",
       "    </tr>\n",
       "    <tr>\n",
       "      <td>3</td>\n",
       "      <td>999</td>\n",
       "    </tr>\n",
       "    <tr>\n",
       "      <td>4</td>\n",
       "      <td>905</td>\n",
       "    </tr>\n",
       "  </tbody>\n",
       "</table>\n",
       "</div>"
      ],
      "text/plain": [
       "            bike_name\n",
       "start_hour           \n",
       "0                4534\n",
       "1                2910\n",
       "2                1654\n",
       "3                 999\n",
       "4                 905"
      ]
     },
     "execution_count": 25,
     "metadata": {},
     "output_type": "execute_result"
    }
   ],
   "source": [
    "#Create a plot for average number of rents per hour \n",
    "\n",
    "ave_rent_per_h_16= c_b16.groupby(['start_hour']).agg({'bike_name':'count'})\n",
    "\n",
    "ave_rent_per_h_16.head()"
   ]
  },
  {
   "cell_type": "code",
   "execution_count": 26,
   "metadata": {},
   "outputs": [
    {
     "data": {
      "text/html": [
       "<div>\n",
       "<style scoped>\n",
       "    .dataframe tbody tr th:only-of-type {\n",
       "        vertical-align: middle;\n",
       "    }\n",
       "\n",
       "    .dataframe tbody tr th {\n",
       "        vertical-align: top;\n",
       "    }\n",
       "\n",
       "    .dataframe thead th {\n",
       "        text-align: right;\n",
       "    }\n",
       "</style>\n",
       "<table border=\"1\" class=\"dataframe\">\n",
       "  <thead>\n",
       "    <tr style=\"text-align: right;\">\n",
       "      <th></th>\n",
       "      <th>bike_name</th>\n",
       "    </tr>\n",
       "    <tr>\n",
       "      <th>start_hour</th>\n",
       "      <th></th>\n",
       "    </tr>\n",
       "  </thead>\n",
       "  <tbody>\n",
       "    <tr>\n",
       "      <td>0</td>\n",
       "      <td>2973</td>\n",
       "    </tr>\n",
       "    <tr>\n",
       "      <td>1</td>\n",
       "      <td>1830</td>\n",
       "    </tr>\n",
       "    <tr>\n",
       "      <td>2</td>\n",
       "      <td>1048</td>\n",
       "    </tr>\n",
       "    <tr>\n",
       "      <td>3</td>\n",
       "      <td>630</td>\n",
       "    </tr>\n",
       "    <tr>\n",
       "      <td>4</td>\n",
       "      <td>530</td>\n",
       "    </tr>\n",
       "  </tbody>\n",
       "</table>\n",
       "</div>"
      ],
      "text/plain": [
       "            bike_name\n",
       "start_hour           \n",
       "0                2973\n",
       "1                1830\n",
       "2                1048\n",
       "3                 630\n",
       "4                 530"
      ]
     },
     "execution_count": 26,
     "metadata": {},
     "output_type": "execute_result"
    }
   ],
   "source": [
    "ave_rent_per_h_17= c_b17.groupby(['start_hour']).agg({'bike_name':'count'})\n",
    "\n",
    "ave_rent_per_h_17.head()"
   ]
  },
  {
   "cell_type": "code",
   "execution_count": 27,
   "metadata": {},
   "outputs": [
    {
     "data": {
      "text/html": [
       "<div>\n",
       "<style scoped>\n",
       "    .dataframe tbody tr th:only-of-type {\n",
       "        vertical-align: middle;\n",
       "    }\n",
       "\n",
       "    .dataframe tbody tr th {\n",
       "        vertical-align: top;\n",
       "    }\n",
       "\n",
       "    .dataframe thead th {\n",
       "        text-align: right;\n",
       "    }\n",
       "</style>\n",
       "<table border=\"1\" class=\"dataframe\">\n",
       "  <thead>\n",
       "    <tr style=\"text-align: right;\">\n",
       "      <th></th>\n",
       "      <th>2016</th>\n",
       "      <th>2017</th>\n",
       "    </tr>\n",
       "  </thead>\n",
       "  <tbody>\n",
       "    <tr>\n",
       "      <td>0</td>\n",
       "      <td>4534</td>\n",
       "      <td>2973</td>\n",
       "    </tr>\n",
       "    <tr>\n",
       "      <td>1</td>\n",
       "      <td>2910</td>\n",
       "      <td>1830</td>\n",
       "    </tr>\n",
       "    <tr>\n",
       "      <td>2</td>\n",
       "      <td>1654</td>\n",
       "      <td>1048</td>\n",
       "    </tr>\n",
       "    <tr>\n",
       "      <td>3</td>\n",
       "      <td>999</td>\n",
       "      <td>630</td>\n",
       "    </tr>\n",
       "    <tr>\n",
       "      <td>4</td>\n",
       "      <td>905</td>\n",
       "      <td>530</td>\n",
       "    </tr>\n",
       "  </tbody>\n",
       "</table>\n",
       "</div>"
      ],
      "text/plain": [
       "   2016  2017\n",
       "0  4534  2973\n",
       "1  2910  1830\n",
       "2  1654  1048\n",
       "3   999   630\n",
       "4   905   530"
      ]
     },
     "execution_count": 27,
     "metadata": {},
     "output_type": "execute_result"
    }
   ],
   "source": [
    "d = {'2016':ave_rent_per_h_16['bike_name'].to_list() ,'2017':ave_rent_per_h_17['bike_name'].to_list()}\n",
    "\n",
    "df = pd.DataFrame(data=d)\n",
    "\n",
    "df.head()"
   ]
  },
  {
   "cell_type": "code",
   "execution_count": 31,
   "metadata": {},
   "outputs": [
    {
     "data": {
      "image/png": "[encoded data removed]",
      "text/plain": [
       "<Figure size 1080x504 with 1 Axes>"
      ]
     },
     "metadata": {
      "needs_background": "light"
     },
     "output_type": "display_data"
    }
   ],
   "source": [
    "df.plot(y = ['2016','2017'],kind ='line', figsize = (15,7), use_index=True, xticks = (range(24)),rot = 45, grid=True);\n",
    "                   \n"
   ]
  },
  {
   "cell_type": "markdown",
   "metadata": {},
   "source": [
    "<h1>CONCLUSIONS"
   ]
  },
  {
   "cell_type": "markdown",
   "metadata": {},
   "source": [
    "<span style=\"color:red\">1.I compare first 3 months from 2016 and 2017. The bikes were available by 72 days.\n",
    "    \n",
    "<span style=\"color:red\">2.In 2016 were more available bikes than 2017(891 vs 850). It was the one reasons why in 2016 were more rentals than 2017 (304238 vs 185291). The second reason could by the weather. In 2017 average day's temperature was lower than 2016 at the same period.\n",
    "    \n",
    "<span style=\"color:red\">3.The average time of rental was similar in 2016 and 2017 (18.24 vs 17.75).\n",
    "\n",
    "<span style=\"color:red\">4.Rentals under 20 minutes are 78% all rentals in 2016 and 80% in 2017.\n",
    "\n",
    "<span style=\"color:red\">5.The most popular month in both year was May.\n",
    "\n",
    "<span style=\"color:red\">6.The most popular day in 2016 was 5th April - it was on Tuesday, very sunny day. In 2017 top day was 2th April, on very sunny Sunday.\n",
    "    \n",
    "<span style=\"color:red\">7.The most popular start and end station is the same in both cases - station 315269\n",
    "    \n",
    "<span style=\"color:red\">8.The bikes were renter every 28 sec in 2016 and every 33 sec in 2017.\n",
    "    \n",
    "<span style=\"color:red\">9.The average rent number per month was higer in 2016 in April and May but lower in March. We can notice that num of rent in 2017 is similar in every month. In 2016 in March were definitely fewer rentals than April and May - upward trend\n",
    " \n",
    "<span style=\"color:red\">10.The average num rent per day of week in 2016 and 2017 is higer in the week tha at the weekend. The most popular day in 2016 wa Thuersday and in 2017 Monday. \n",
    "\n",
    "<span style=\"color:red\">11.The average time of rent is higer at the weekend than the week. People have more time to go for a bike ride at the weekend. In the week bikes are usefull for travel to job or school so rentals are shorter.\n",
    "    \n",
    "<span style=\"color:red\">12.The average number of rents per hour is very similar in 2016 and 2017. We can see increase num of rent beetwen 7 and 8 a.m and 3 and 4 p.m - we can assume that for many people the bicycle is a kind of transport to and from work and school \n",
    "    \n",
    "<span style=\"color:red\">"
   ]
  }
 ],
 "metadata": {
  "kernelspec": {
   "display_name": "Python 3",
   "language": "python",
   "name": "python3"
  },
  "language_info": {
   "codemirror_mode": {
    "name": "ipython",
    "version": 3
   },
   "file_extension": ".py",
   "mimetype": "text/x-python",
   "name": "python",
   "nbconvert_exporter": "python",
   "pygments_lexer": "ipython3",
   "version": "3.7.4"
  }
 },
 "nbformat": 4,
 "nbformat_minor": 4
}
