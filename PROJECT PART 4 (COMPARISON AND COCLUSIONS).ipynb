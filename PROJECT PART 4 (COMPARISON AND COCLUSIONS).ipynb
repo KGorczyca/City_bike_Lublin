{
 "cells": [
  {
   "cell_type": "markdown",
   "metadata": {},
   "source": [
    "<h2>PROJECT CITYBIKE LUBLIN "
   ]
  },
  {
   "cell_type": "markdown",
   "metadata": {},
   "source": [
    "<span style=\"color:red\">We don't have complete data, so we have to do analysis two times. First we will compare city bike in Lublin in 2016 (March, April, May) and 2017(March, April, May), and next 2014(October, November) and 2016(October, November)."
   ]
  },
  {
   "cell_type": "code",
   "execution_count": 1,
   "metadata": {},
   "outputs": [],
   "source": [
    "import pandas as pd\n",
    "import numpy as np\n",
    "import datetime\n",
    "import matplotlib.pyplot as plt\n",
    "import plotly.graph_objects as go\n",
    "import plotly.express as px\n",
    "\n",
    "%matplotlib inline"
   ]
  },
  {
   "cell_type": "markdown",
   "metadata": {},
   "source": [
    "<h1>1. FIRST PART OF ANALYSIS (2016 vs 2017)"
   ]
  },
  {
   "cell_type": "code",
   "execution_count": 2,
   "metadata": {},
   "outputs": [
    {
     "data": {
      "text/html": [
       "<div>\n",
       "<style scoped>\n",
       "    .dataframe tbody tr th:only-of-type {\n",
       "        vertical-align: middle;\n",
       "    }\n",
       "\n",
       "    .dataframe tbody tr th {\n",
       "        vertical-align: top;\n",
       "    }\n",
       "\n",
       "    .dataframe thead th {\n",
       "        text-align: right;\n",
       "    }\n",
       "</style>\n",
       "<table border=\"1\" class=\"dataframe\">\n",
       "  <thead>\n",
       "    <tr style=\"text-align: right;\">\n",
       "      <th></th>\n",
       "      <th>Unnamed: 0</th>\n",
       "      <th>bike_name</th>\n",
       "      <th>start_time</th>\n",
       "      <th>end_time</th>\n",
       "      <th>start_place_id</th>\n",
       "      <th>end_place_id</th>\n",
       "      <th>start_day</th>\n",
       "      <th>start_month</th>\n",
       "      <th>day_of_month</th>\n",
       "      <th>day_of_week</th>\n",
       "      <th>duration</th>\n",
       "      <th>duration_sec</th>\n",
       "      <th>duration_min</th>\n",
       "      <th>duration_hour</th>\n",
       "      <th>date</th>\n",
       "      <th>start_hour</th>\n",
       "    </tr>\n",
       "  </thead>\n",
       "  <tbody>\n",
       "    <tr>\n",
       "      <td>77450</td>\n",
       "      <td>84364</td>\n",
       "      <td>69153</td>\n",
       "      <td>2017-04-22 10:20:40</td>\n",
       "      <td>2017-04-22 10:28:39</td>\n",
       "      <td>315238</td>\n",
       "      <td>673845</td>\n",
       "      <td>112</td>\n",
       "      <td>4</td>\n",
       "      <td>22</td>\n",
       "      <td>5</td>\n",
       "      <td>0 days 00:07:59.000000000</td>\n",
       "      <td>479</td>\n",
       "      <td>7.983333</td>\n",
       "      <td>0.133056</td>\n",
       "      <td>2017-04-22</td>\n",
       "      <td>10</td>\n",
       "    </tr>\n",
       "    <tr>\n",
       "      <td>153677</td>\n",
       "      <td>166918</td>\n",
       "      <td>69790</td>\n",
       "      <td>2017-05-23 11:46:00</td>\n",
       "      <td>2017-05-23 11:53:00</td>\n",
       "      <td>315270</td>\n",
       "      <td>315251</td>\n",
       "      <td>143</td>\n",
       "      <td>5</td>\n",
       "      <td>23</td>\n",
       "      <td>1</td>\n",
       "      <td>0 days 00:07:00.000000000</td>\n",
       "      <td>420</td>\n",
       "      <td>7.000000</td>\n",
       "      <td>0.116667</td>\n",
       "      <td>2017-05-23</td>\n",
       "      <td>11</td>\n",
       "    </tr>\n",
       "    <tr>\n",
       "      <td>125984</td>\n",
       "      <td>136739</td>\n",
       "      <td>69536</td>\n",
       "      <td>2017-05-16 17:41:00</td>\n",
       "      <td>2017-05-16 17:56:00</td>\n",
       "      <td>315228</td>\n",
       "      <td>315270</td>\n",
       "      <td>136</td>\n",
       "      <td>5</td>\n",
       "      <td>16</td>\n",
       "      <td>1</td>\n",
       "      <td>0 days 00:15:00.000000000</td>\n",
       "      <td>900</td>\n",
       "      <td>15.000000</td>\n",
       "      <td>0.250000</td>\n",
       "      <td>2017-05-16</td>\n",
       "      <td>17</td>\n",
       "    </tr>\n",
       "  </tbody>\n",
       "</table>\n",
       "</div>"
      ],
      "text/plain": [
       "        Unnamed: 0  bike_name           start_time             end_time  \\\n",
       "77450        84364      69153  2017-04-22 10:20:40  2017-04-22 10:28:39   \n",
       "153677      166918      69790  2017-05-23 11:46:00  2017-05-23 11:53:00   \n",
       "125984      136739      69536  2017-05-16 17:41:00  2017-05-16 17:56:00   \n",
       "\n",
       "        start_place_id  end_place_id  start_day  start_month  day_of_month  \\\n",
       "77450           315238        673845        112            4            22   \n",
       "153677          315270        315251        143            5            23   \n",
       "125984          315228        315270        136            5            16   \n",
       "\n",
       "        day_of_week                   duration  duration_sec  duration_min  \\\n",
       "77450             5  0 days 00:07:59.000000000           479      7.983333   \n",
       "153677            1  0 days 00:07:00.000000000           420      7.000000   \n",
       "125984            1  0 days 00:15:00.000000000           900     15.000000   \n",
       "\n",
       "        duration_hour        date  start_hour  \n",
       "77450        0.133056  2017-04-22          10  \n",
       "153677       0.116667  2017-05-23          11  \n",
       "125984       0.250000  2017-05-16          17  "
      ]
     },
     "execution_count": 2,
     "metadata": {},
     "output_type": "execute_result"
    }
   ],
   "source": [
    "c_b17 = pd.read_csv('c_b17')\n",
    "\n",
    "c_b17.sample(3)"
   ]
  },
  {
   "cell_type": "code",
   "execution_count": 3,
   "metadata": {},
   "outputs": [],
   "source": [
    "city_bike16 = pd.read_csv('c_b16')\n",
    "\n",
    "#get only part of data frame which include information about data from March to May\n",
    "\n",
    "c_b16_march = city_bike16[city_bike16['start_month']==3]\n",
    "\n",
    "c_b16_april = city_bike16[city_bike16['start_month']==4]\n",
    "\n",
    "c_b16_may = city_bike16[city_bike16['start_month']==5]"
   ]
  },
  {
   "cell_type": "code",
   "execution_count": 4,
   "metadata": {},
   "outputs": [
    {
     "data": {
      "text/html": [
       "<div>\n",
       "<style scoped>\n",
       "    .dataframe tbody tr th:only-of-type {\n",
       "        vertical-align: middle;\n",
       "    }\n",
       "\n",
       "    .dataframe tbody tr th {\n",
       "        vertical-align: top;\n",
       "    }\n",
       "\n",
       "    .dataframe thead th {\n",
       "        text-align: right;\n",
       "    }\n",
       "</style>\n",
       "<table border=\"1\" class=\"dataframe\">\n",
       "  <thead>\n",
       "    <tr style=\"text-align: right;\">\n",
       "      <th></th>\n",
       "      <th>Unnamed: 0</th>\n",
       "      <th>bike_name</th>\n",
       "      <th>start_time</th>\n",
       "      <th>end_time</th>\n",
       "      <th>start_place_id</th>\n",
       "      <th>end_place_id</th>\n",
       "      <th>start_day</th>\n",
       "      <th>start_month</th>\n",
       "      <th>day_of_month</th>\n",
       "      <th>day_of_week</th>\n",
       "      <th>duration</th>\n",
       "      <th>duration_sec</th>\n",
       "      <th>duration_min</th>\n",
       "      <th>duration_hour</th>\n",
       "      <th>date</th>\n",
       "      <th>start_hour</th>\n",
       "    </tr>\n",
       "  </thead>\n",
       "  <tbody>\n",
       "    <tr>\n",
       "      <td>112962</td>\n",
       "      <td>122508</td>\n",
       "      <td>69471</td>\n",
       "      <td>2016-04-22 17:18:16</td>\n",
       "      <td>2016-04-22 17:46:59</td>\n",
       "      <td>674311</td>\n",
       "      <td>673833</td>\n",
       "      <td>113</td>\n",
       "      <td>4</td>\n",
       "      <td>22</td>\n",
       "      <td>4</td>\n",
       "      <td>0 days 00:28:43.000000000</td>\n",
       "      <td>1723</td>\n",
       "      <td>28.716667</td>\n",
       "      <td>0.478611</td>\n",
       "      <td>2016-04-22</td>\n",
       "      <td>17</td>\n",
       "    </tr>\n",
       "    <tr>\n",
       "      <td>115991</td>\n",
       "      <td>125829</td>\n",
       "      <td>69616</td>\n",
       "      <td>2016-04-23 14:45:00</td>\n",
       "      <td>2016-04-23 14:51:57</td>\n",
       "      <td>315228</td>\n",
       "      <td>674333</td>\n",
       "      <td>114</td>\n",
       "      <td>4</td>\n",
       "      <td>23</td>\n",
       "      <td>5</td>\n",
       "      <td>0 days 00:06:57.000000000</td>\n",
       "      <td>417</td>\n",
       "      <td>6.950000</td>\n",
       "      <td>0.115833</td>\n",
       "      <td>2016-04-23</td>\n",
       "      <td>14</td>\n",
       "    </tr>\n",
       "    <tr>\n",
       "      <td>212135</td>\n",
       "      <td>230848</td>\n",
       "      <td>69751</td>\n",
       "      <td>2016-05-14 17:29:00</td>\n",
       "      <td>2016-05-14 17:41:00</td>\n",
       "      <td>315259</td>\n",
       "      <td>478054</td>\n",
       "      <td>135</td>\n",
       "      <td>5</td>\n",
       "      <td>14</td>\n",
       "      <td>5</td>\n",
       "      <td>0 days 00:12:00.000000000</td>\n",
       "      <td>720</td>\n",
       "      <td>12.000000</td>\n",
       "      <td>0.200000</td>\n",
       "      <td>2016-05-14</td>\n",
       "      <td>17</td>\n",
       "    </tr>\n",
       "  </tbody>\n",
       "</table>\n",
       "</div>"
      ],
      "text/plain": [
       "        Unnamed: 0  bike_name           start_time             end_time  \\\n",
       "112962      122508      69471  2016-04-22 17:18:16  2016-04-22 17:46:59   \n",
       "115991      125829      69616  2016-04-23 14:45:00  2016-04-23 14:51:57   \n",
       "212135      230848      69751  2016-05-14 17:29:00  2016-05-14 17:41:00   \n",
       "\n",
       "        start_place_id  end_place_id  start_day  start_month  day_of_month  \\\n",
       "112962          674311        673833        113            4            22   \n",
       "115991          315228        674333        114            4            23   \n",
       "212135          315259        478054        135            5            14   \n",
       "\n",
       "        day_of_week                   duration  duration_sec  duration_min  \\\n",
       "112962            4  0 days 00:28:43.000000000          1723     28.716667   \n",
       "115991            5  0 days 00:06:57.000000000           417      6.950000   \n",
       "212135            5  0 days 00:12:00.000000000           720     12.000000   \n",
       "\n",
       "        duration_hour        date  start_hour  \n",
       "112962       0.478611  2016-04-22          17  \n",
       "115991       0.115833  2016-04-23          14  \n",
       "212135       0.200000  2016-05-14          17  "
      ]
     },
     "execution_count": 4,
     "metadata": {},
     "output_type": "execute_result"
    }
   ],
   "source": [
    "c_b16 = pd.concat(objs=[c_b16_march,c_b16_april,c_b16_may], ignore_index=True)\n",
    "\n",
    "c_b16.sample(3)"
   ]
  },
  {
   "cell_type": "code",
   "execution_count": 5,
   "metadata": {},
   "outputs": [
    {
     "name": "stdout",
     "output_type": "stream",
     "text": [
      "The bikes were available for rental for 72 dyas in 2016\n",
      "The bikes were available for rental for 72 dyas in 2017\n"
     ]
    }
   ],
   "source": [
    "#For how many days were the bikes available for rental?\n",
    "\n",
    "num_of_days = c_b16['start_day'].nunique()\n",
    "\n",
    "print(f'The bikes were available for rental for {num_of_days} dyas in 2016')\n",
    "\n",
    "num_of_days = c_b17['start_day'].nunique()\n",
    "\n",
    "print(f'The bikes were available for rental for {num_of_days} dyas in 2017')"
   ]
  },
  {
   "cell_type": "code",
   "execution_count": 6,
   "metadata": {},
   "outputs": [
    {
     "name": "stdout",
     "output_type": "stream",
     "text": [
      "Count of rentals:304238, count of bikes: 891 in 2016\n",
      "Count of rentals:185291, count of bikes: 850 in 2017\n"
     ]
    }
   ],
   "source": [
    "#How many rentals and bikes were there?\n",
    "\n",
    "num_of_bikes = c_b16['bike_name'].nunique()\n",
    "\n",
    "num_of_rent = c_b16['bike_name'].count()\n",
    "\n",
    "print(f'Count of rentals:{num_of_rent}, count of bikes: {num_of_bikes} in 2016')\n",
    "\n",
    "num_of_bikes = c_b17['bike_name'].nunique()\n",
    "\n",
    "num_of_rent = c_b17['bike_name'].count()\n",
    "\n",
    "print(f'Count of rentals:{num_of_rent}, count of bikes: {num_of_bikes} in 2017')"
   ]
  },
  {
   "cell_type": "code",
   "execution_count": 7,
   "metadata": {},
   "outputs": [
    {
     "name": "stdout",
     "output_type": "stream",
     "text": [
      "The average time of rental: 18.24584837090261 in 2016\n",
      "The average time of rental: 17.7577186695522 in 2017\n"
     ]
    }
   ],
   "source": [
    "#The average time of a rental:\n",
    "\n",
    "avg_time = c_b16['duration_min'].mean()\n",
    "\n",
    "print(f'The average time of rental: {avg_time} in 2016')\n",
    "\n",
    "avg_time = c_b17['duration_min'].mean()\n",
    "\n",
    "print(f'The average time of rental: {avg_time} in 2017')"
   ]
  },
  {
   "cell_type": "code",
   "execution_count": 8,
   "metadata": {},
   "outputs": [
    {
     "name": "stdout",
     "output_type": "stream",
     "text": [
      "Num of rentals under 20 minutes in 2016: 239639\n",
      "Num of rentals under 20 minutes in 2016: 148309\n"
     ]
    }
   ],
   "source": [
    "#Rentals under 20 minutes\n",
    "\n",
    "rentals_under_20 = len(c_b16[c_b16['duration_min']<20])\n",
    "\n",
    "print('Num of rentals under 20 minutes in 2016:', rentals_under_20)\n",
    "\n",
    "rentals_under_20 = len(c_b17[c_b17['duration_min']<20])\n",
    "\n",
    "print('Num of rentals under 20 minutes in 2016:', rentals_under_20)"
   ]
  },
  {
   "cell_type": "code",
   "execution_count": 9,
   "metadata": {},
   "outputs": [
    {
     "name": "stdout",
     "output_type": "stream",
     "text": [
      "The most popular month is: May /2016\n",
      "The most popular month is: May /2017\n"
     ]
    }
   ],
   "source": [
    "#Most popular month\n",
    "\n",
    "\n",
    "month = {3:'March',4:'April',5:'May'}\n",
    "\n",
    "top_month = c_b16.groupby('start_month').agg({'bike_name':'count'}).sort_values(by='bike_name', ascending=False).iloc[0].name\n",
    "\n",
    "print(f'The most popular month is: {month[top_month]} /2016')\n",
    "\n",
    "c_b16.groupby('start_month').agg({'bike_name':'count'}).sort_values(by=['bike_name'], ascending=False)\n",
    "\n",
    "top_month = c_b17.groupby('start_month').agg({'bike_name':'count'}).sort_values(by='bike_name', ascending=False).iloc[0].name\n",
    "\n",
    "print(f'The most popular month is: {month[top_month]} /2017')\n"
   ]
  },
  {
   "cell_type": "code",
   "execution_count": 10,
   "metadata": {},
   "outputs": [
    {
     "name": "stdout",
     "output_type": "stream",
     "text": [
      "The most popular day: 2016-04-05\n",
      "The most popular day: 2017-04-02\n"
     ]
    }
   ],
   "source": [
    "#Daily top score\n",
    "\n",
    "top_day = c_b16.groupby('date').agg({'bike_name':'count'}).sort_values(by='bike_name', ascending=False).iloc[0].name\n",
    "\n",
    "print(f'The most popular day: {top_day}')\n",
    "\n",
    "top_day = c_b17.groupby('date').agg({'bike_name':'count'}).sort_values(by='bike_name', ascending=False).iloc[0].name\n",
    "\n",
    "print(f'The most popular day: {top_day}')\n"
   ]
  },
  {
   "cell_type": "code",
   "execution_count": 11,
   "metadata": {},
   "outputs": [
    {
     "name": "stdout",
     "output_type": "stream",
     "text": [
      "The most popular start station number: 315269 in 2016\n",
      "The most popular start station number: 315269 in 2017\n"
     ]
    }
   ],
   "source": [
    "#Most popular start station\n",
    "\n",
    "top_s_station = c_b16['start_place_id'].value_counts().head(1).index[0]\n",
    "\n",
    "print(f'The most popular start station number: {top_s_station} in 2016')\n",
    "\n",
    "top_s_station = c_b17['start_place_id'].value_counts().head(1).index[0]\n",
    "\n",
    "print(f'The most popular start station number: {top_s_station} in 2017')"
   ]
  },
  {
   "cell_type": "code",
   "execution_count": 12,
   "metadata": {},
   "outputs": [
    {
     "name": "stdout",
     "output_type": "stream",
     "text": [
      "The most popular start station number: 315269 in 2016\n",
      "The most popular start station number: 315269 in 2017\n"
     ]
    }
   ],
   "source": [
    "#Most popular end station\n",
    "\n",
    "top_end_station = c_b16['end_place_id'].value_counts().head(1).index[0]\n",
    "\n",
    "print(f'The most popular start station number: {top_end_station} in 2016')\n",
    "\n",
    "top_end_station = c_b17['end_place_id'].value_counts().head(1).index[0]\n",
    "\n",
    "print(f'The most popular start station number: {top_end_station} in 2017')"
   ]
  },
  {
   "cell_type": "code",
   "execution_count": 13,
   "metadata": {},
   "outputs": [
    {
     "name": "stdout",
     "output_type": "stream",
     "text": [
      "The bikes were rented every 28 sec. in 2016\n",
      "The bikes were rented every 33 sec. in 2017\n"
     ]
    }
   ],
   "source": [
    "#How often the bikes were rented\n",
    "\n",
    "#2016 \n",
    "\n",
    "freq_2016 = 22032000 // 783692\n",
    "\n",
    "print(f'The bikes were rented every {freq_2016} sec. in 2016')\n",
    "\n",
    "#2017\n",
    "\n",
    "freq_2017 = 6220800 // 185291\n",
    "\n",
    "print(f'The bikes were rented every {freq_2017} sec. in 2017')"
   ]
  },
  {
   "cell_type": "code",
   "execution_count": 14,
   "metadata": {},
   "outputs": [
    {
     "name": "stdout",
     "output_type": "stream",
     "text": [
      "Average rent number per month in 2016\n",
      "              bike_name  num_day_in_month  result\n",
      "start_month                                     \n",
      "3                15941                11    1449\n",
      "4               131390                30    4379\n",
      "5               156907                31    5061 \n",
      "\n",
      "\n",
      "Average rent number per month in 2017\n",
      "              bike_name  num_day_in_month  result\n",
      "start_month                                     \n",
      "3                25909                11    2355\n",
      "4                61829                30    2060\n",
      "5                97553                31    3146\n"
     ]
    }
   ],
   "source": [
    "#Create a plot for average rent number per month\n",
    "\n",
    "#2016\n",
    "\n",
    "average_rent_16 = c_b16.groupby('start_month').agg({'bike_name':'count'}) #I count num of rent per month\n",
    "\n",
    "average_rent_16['num_day_in_month'] = c_b16.groupby(['start_month'])[['day_of_month']].nunique() #I count num of days in month\n",
    "\n",
    "average_rent_16['result'] = average_rent_16['bike_name']//average_rent_16['num_day_in_month'] #I count average rent number for every month\n",
    "\n",
    "print('Average rent number per month in 2016\\n',average_rent_16,'\\n\\n')\n",
    "\n",
    "#2017\n",
    "\n",
    "average_rent_17 = c_b17.groupby('start_month').agg({'bike_name':'count'}) \n",
    "\n",
    "average_rent_17['num_day_in_month'] = c_b17.groupby(['start_month'])[['day_of_month']].nunique() \n",
    "\n",
    "average_rent_17['result'] = average_rent_17['bike_name']//average_rent_17['num_day_in_month'] \n",
    "\n",
    "print('Average rent number per month in 2017\\n',average_rent_17)"
   ]
  },
  {
   "cell_type": "code",
   "execution_count": 15,
   "metadata": {},
   "outputs": [
    {
     "data": {
      "text/html": [
       "<div>\n",
       "<style scoped>\n",
       "    .dataframe tbody tr th:only-of-type {\n",
       "        vertical-align: middle;\n",
       "    }\n",
       "\n",
       "    .dataframe tbody tr th {\n",
       "        vertical-align: top;\n",
       "    }\n",
       "\n",
       "    .dataframe thead th {\n",
       "        text-align: right;\n",
       "    }\n",
       "</style>\n",
       "<table border=\"1\" class=\"dataframe\">\n",
       "  <thead>\n",
       "    <tr style=\"text-align: right;\">\n",
       "      <th></th>\n",
       "      <th>2016</th>\n",
       "      <th>2017</th>\n",
       "    </tr>\n",
       "  </thead>\n",
       "  <tbody>\n",
       "    <tr>\n",
       "      <td>March</td>\n",
       "      <td>1449</td>\n",
       "      <td>2355</td>\n",
       "    </tr>\n",
       "    <tr>\n",
       "      <td>April</td>\n",
       "      <td>4379</td>\n",
       "      <td>2060</td>\n",
       "    </tr>\n",
       "    <tr>\n",
       "      <td>May</td>\n",
       "      <td>5061</td>\n",
       "      <td>3146</td>\n",
       "    </tr>\n",
       "  </tbody>\n",
       "</table>\n",
       "</div>"
      ],
      "text/plain": [
       "       2016  2017\n",
       "March  1449  2355\n",
       "April  4379  2060\n",
       "May    5061  3146"
      ]
     },
     "execution_count": 15,
     "metadata": {},
     "output_type": "execute_result"
    }
   ],
   "source": [
    "d = {'2016':average_rent_16['result'].to_list(), '2017':average_rent_17['result'].to_list()}\n",
    "\n",
    "df = pd.DataFrame(data=d, index=['March','April','May'])\n",
    "\n",
    "df"
   ]
  },
  {
   "cell_type": "code",
   "execution_count": null,
   "metadata": {},
   "outputs": [],
   "source": [
    "df.plot(y = ['2016','2017'],use_index=True, kind='bar',rot=360, title = 'Average rent number per month', legend = True);"
   ]
  },
  {
   "cell_type": "code",
   "execution_count": null,
   "metadata": {},
   "outputs": [],
   "source": [
    "#Create a plot for average rent number per day of week in 2016\n",
    "\n",
    "rent_num_16 = c_b16.groupby('day_of_week').agg({'bike_name':['count']}) #I count num of rentals per day of week\n",
    "\n",
    "num_of_day_df = pd.DataFrame(c_b16.groupby(['date'])['day_of_week'].unique().value_counts()).sort_index()\n",
    "\n",
    "rent_num_16['num_of_days']=num_of_day_df['day_of_week']\n",
    "\n",
    "rent_num_16['num_per_day'] = rent_num_16['bike_name']['count'] / rent_num_16['num_of_days']\n",
    "\n",
    "rent_num_16.round(2)"
   ]
  },
  {
   "cell_type": "code",
   "execution_count": null,
   "metadata": {},
   "outputs": [],
   "source": [
    "#Create a plot for average rent number per day of week in 2017\n",
    "\n",
    "rent_num_17 = c_b17.groupby('day_of_week').agg({'bike_name':['count']}) #I count num of rentals per day of week\n",
    "\n",
    "num_of_day_df = pd.DataFrame(c_b17.groupby(['date'])['day_of_week'].unique().value_counts()).sort_index()\n",
    "\n",
    "rent_num_17['num_of_days']=num_of_day_df['day_of_week']\n",
    "\n",
    "rent_num_17['num_per_day'] = rent_num_17['bike_name']['count'] / rent_num_17['num_of_days']\n",
    "\n",
    "rent_num_17.round(2)"
   ]
  },
  {
   "cell_type": "code",
   "execution_count": null,
   "metadata": {},
   "outputs": [],
   "source": [
    "d = {'2016':rent_num_16['num_per_day'].to_list(), '2017':rent_num_17['num_per_day'].to_list()}\n",
    "\n",
    "df = pd.DataFrame(data=d, index=['Monday','Tuesday','Wednesday','Thuersday','Friday','Saturday','Sunday'])\n",
    "\n",
    "df"
   ]
  },
  {
   "cell_type": "code",
   "execution_count": null,
   "metadata": {},
   "outputs": [],
   "source": [
    "df.plot(y = ['2016','2017'],kind='line',rot=360, figsize = (10,7),title = 'Average rent number per day of week', legend = True);"
   ]
  },
  {
   "cell_type": "code",
   "execution_count": null,
   "metadata": {},
   "outputs": [],
   "source": [
    "#Create a plot for average time of rent per day of week\n",
    "\n",
    "ave_time_16 = c_b16.groupby('day_of_week').agg({'duration_min':'mean'})\n",
    "ave_time_16.reset_index(inplace=True)\n",
    "ave_time_16"
   ]
  },
  {
   "cell_type": "code",
   "execution_count": null,
   "metadata": {},
   "outputs": [],
   "source": [
    "ave_time_17 = c_b17.groupby('day_of_week').agg({'duration_min':'mean'})\n",
    "ave_time_17.reset_index(inplace=True)\n",
    "ave_time_17"
   ]
  },
  {
   "cell_type": "code",
   "execution_count": null,
   "metadata": {},
   "outputs": [],
   "source": [
    "d={'2016': ave_time_16['duration_min'].to_list(), '2017':ave_time_17['duration_min'].to_list()}\n",
    "\n",
    "df = pd.DataFrame(data=d, index=['Monday','Tuesday','Wednesday','Thuersday','Friday','Saturday','Sunday'])\n",
    "\n",
    "df"
   ]
  },
  {
   "cell_type": "code",
   "execution_count": null,
   "metadata": {},
   "outputs": [],
   "source": [
    "df.plot(y = ['2016','2017'],kind='line',rot=360, figsize = (10,7),title = 'Average time', legend = True);"
   ]
  },
  {
   "cell_type": "code",
   "execution_count": null,
   "metadata": {},
   "outputs": [],
   "source": [
    "#Create a plot for average number of rents per hour \n",
    "\n",
    "ave_rent_per_h_16= c_b16.groupby(['start_hour']).agg({'bike_name':'count'})\n",
    "\n",
    "ave_rent_per_h_16.head()"
   ]
  },
  {
   "cell_type": "code",
   "execution_count": null,
   "metadata": {},
   "outputs": [],
   "source": [
    "ave_rent_per_h_17= c_b17.groupby(['start_hour']).agg({'bike_name':'count'})\n",
    "\n",
    "ave_rent_per_h_17.head()"
   ]
  },
  {
   "cell_type": "code",
   "execution_count": null,
   "metadata": {},
   "outputs": [],
   "source": [
    "d = {'2016':ave_rent_per_h_16['bike_name'].to_list() ,'2017':ave_rent_per_h_17['bike_name'].to_list()}\n",
    "\n",
    "df = pd.DataFrame(data=d)\n",
    "\n",
    "df.head()"
   ]
  },
  {
   "cell_type": "code",
   "execution_count": null,
   "metadata": {},
   "outputs": [],
   "source": [
    "df.plot(y = ['2016','2017'],kind ='line', figsize = (15,7), use_index=True, xticks = (range(24)),rot = 45, grid=True);\n",
    "                   \n"
   ]
  },
  {
   "cell_type": "markdown",
   "metadata": {},
   "source": [
    "<h1>CONCLUSIONS"
   ]
  },
  {
   "cell_type": "markdown",
   "metadata": {},
   "source": [
    "<span style=\"color:red\">1.I compare first 3 months from 2016 and 2017. The bikes were available by 72 days.\n",
    "    \n",
    "<span style=\"color:red\">2.In 2016 were more available bikes than 2017(891 vs 850). It was the one reasons why in 2016 were more rentals than 2017 (304238 vs 185291). The second reason could by the weather. In 2017 average day's temperature was lower than 2016 at the same period.\n",
    "    \n",
    "<span style=\"color:red\">3.The average time of rental was similar in 2016 and 2017 (18.24 vs 17.75).\n",
    "\n",
    "<span style=\"color:red\">4.Rentals under 20 minutes are 78% all rentals in 2016 and 80% in 2017.\n",
    "\n",
    "<span style=\"color:red\">5.The most popular month in both year was May.\n",
    "\n",
    "<span style=\"color:red\">6.The most popular day in 2016 was 5th April - it was on Tuesday, very sunny day. In 2017 top day was 2th April, on very sunny Sunday.\n",
    "    \n",
    "<span style=\"color:red\">7.The most popular start and end station is the same in both cases - station 315269\n",
    "    \n",
    "<span style=\"color:red\">8.The bikes were rented every 28 sec in 2016 and every 33 sec in 2017.\n",
    "    \n",
    "<span style=\"color:red\">9.The average rent number per month was higer in 2016 in April and May but lower in March. We can notice that num of rent in 2017 is similar in every month. In 2016 in March were definitely fewer rentals than April and May - upward trend\n",
    " \n",
    "<span style=\"color:red\">10.The average num rent per day of week in 2016 and 2017 is higer in the week tha at the weekend. The most popular day in 2016 was Thuersday and in 2017 Monday. \n",
    "\n",
    "<span style=\"color:red\">11.The average time of rent is higer at the weekend than the week. People have more time to go for a bike ride at the weekend. In the week bikes are usefull for travel to job or school so rentals are shorter.\n",
    "    \n",
    "<span style=\"color:red\">12.The average number of rents per hour is very similar in 2016 and 2017. We can see increase num of rent beetwen 7 and 8 a.m and 3 and 4 p.m - we can assume that for many people the bicycle is a kind of transport to and from work and school \n",
    "    \n",
    "<span style=\"color:red\">"
   ]
  },
  {
   "cell_type": "markdown",
   "metadata": {},
   "source": [
    "<h1>2. SECOND PART OF ANALYSIS (2016 vs 2014)"
   ]
  },
  {
   "cell_type": "code",
   "execution_count": null,
   "metadata": {},
   "outputs": [],
   "source": [
    "c_b14 = pd.read_csv('c_b14')\n",
    "\n",
    "#get only October and Nobember (in Septeber were only 12 results)\n",
    "\n",
    "c_b14 = c_b14[c_b14['start_month']!=9]\n",
    "\n",
    "c_b14.head()"
   ]
  },
  {
   "cell_type": "code",
   "execution_count": null,
   "metadata": {},
   "outputs": [],
   "source": [
    "city_bike16 = pd.read_csv('c_b16')\n",
    "\n",
    "#get only part of data frame which include information about data from Octpober and November\n",
    "\n",
    "c_b16_oct = city_bike16[city_bike16['start_month']==10]\n",
    "\n",
    "c_b16_nov = city_bike16[city_bike16['start_month']==11]"
   ]
  },
  {
   "cell_type": "code",
   "execution_count": null,
   "metadata": {},
   "outputs": [],
   "source": [
    "c_b16 = pd.concat(objs=[c_b16_oct,c_b16_nov], ignore_index=True)\n",
    "\n",
    "c_b16.sample(3)"
   ]
  },
  {
   "cell_type": "code",
   "execution_count": null,
   "metadata": {},
   "outputs": [],
   "source": [
    "#For how many days were the bikes available for rental?\n",
    "\n",
    "num_of_days = c_b14['start_day'].nunique()\n",
    "\n",
    "print(f'The bikes were available for rental for {num_of_days} dyas in 2014')\n",
    "\n",
    "num_of_days = c_b16['start_day'].nunique()\n",
    "\n",
    "print(f'The bikes were available for rental for {num_of_days} dyas in 2016')"
   ]
  },
  {
   "cell_type": "code",
   "execution_count": null,
   "metadata": {},
   "outputs": [],
   "source": [
    "#How many rentals were there?\n",
    "\n",
    "\n",
    "num_of_rent = c_b14['start_time'].count()\n",
    "\n",
    "print(f'Count of rentals:{num_of_rent} in 2014')\n",
    "\n",
    "num_of_rent = c_b16['bike_name'].count()\n",
    "\n",
    "print(f'Count of rentals:{num_of_rent} in 2016')"
   ]
  },
  {
   "cell_type": "code",
   "execution_count": null,
   "metadata": {},
   "outputs": [],
   "source": [
    "#The average time of a rental:\n",
    "\n",
    "avg_time = c_b14['duration_min'].mean()\n",
    "\n",
    "print(f'The average time of rental: {avg_time} in 2014')\n",
    "\n",
    "avg_time = c_b16['duration_min'].mean()\n",
    "\n",
    "print(f'The average time of rental: {avg_time} in 2016')"
   ]
  },
  {
   "cell_type": "code",
   "execution_count": null,
   "metadata": {},
   "outputs": [],
   "source": [
    "#Rentals under 20 minutes\n",
    "\n",
    "rentals_under_20 = len(c_b14[c_b14['duration_min']<20])\n",
    "\n",
    "print('Num of rentals under 20 minutes in 2014:', rentals_under_20)\n",
    "\n",
    "rentals_under_20 = len(c_b16[c_b16['duration_min']<20])\n",
    "\n",
    "print('Num of rentals under 20 minutes in 2016:', rentals_under_20)"
   ]
  },
  {
   "cell_type": "code",
   "execution_count": null,
   "metadata": {},
   "outputs": [],
   "source": [
    "#Number of rentals per month\n",
    "\n",
    "c_b14.groupby('start_month').agg({'start_time':'count'}).sort_values(by=['start_time'], ascending=False)"
   ]
  },
  {
   "cell_type": "code",
   "execution_count": null,
   "metadata": {},
   "outputs": [],
   "source": [
    "c_b16.groupby('start_month').agg({'start_time':'count'}).sort_values(by=['start_time'], ascending=False)"
   ]
  },
  {
   "cell_type": "code",
   "execution_count": null,
   "metadata": {},
   "outputs": [],
   "source": [
    "#Daily top score in September-November\n",
    "\n",
    "\n",
    "top_day = c_b14.groupby('date').agg({'start_time':'count'}).sort_values(by='start_time', ascending=False).iloc[0].name\n",
    "\n",
    "print(f'The most popular day: {top_day}')\n",
    "\n",
    "top_day = c_b16.groupby('date').agg({'bike_name':'count'}).sort_values(by='bike_name', ascending=False).iloc[0].name\n",
    "\n",
    "print(f'The most popular day: {top_day}')\n",
    "\n"
   ]
  },
  {
   "cell_type": "code",
   "execution_count": null,
   "metadata": {},
   "outputs": [],
   "source": [
    "#How often the bikes were rented\n",
    "\n",
    "#Num of day * num of hours per day * num of minutes per hour * num of seconds per minute // 103704 rent per 62 days:\n",
    "\n",
    "#62 * 24 * 60 * 60 = 5356800‬\n",
    "\n",
    "freq = 5356800 // 103704\n",
    "\n",
    "print(f'The bikes were rented every {freq} sec. in 2014')\n",
    "\n",
    "#2016 \n",
    "\n",
    "freq_2016 = 22032000 // 783692\n",
    "\n",
    "print(f'The bikes were rented every {freq_2016} sec. in 2016')"
   ]
  },
  {
   "cell_type": "code",
   "execution_count": null,
   "metadata": {},
   "outputs": [],
   "source": [
    "#Create a plot for average rent number per month\n",
    "\n",
    "#2014\n",
    "\n",
    "average_rent_14 = c_b14.groupby('start_month').agg({'start_time':'count'}) #I count num of rent per month\n",
    "\n",
    "average_rent_14['num_day_in_month'] = c_b14.groupby(['start_month'])[['day_of_month']].nunique() #I count num of days in month\n",
    "\n",
    "average_rent_14['result'] = average_rent_14['start_time']//average_rent_14['num_day_in_month'] #I count average rent number for every month\n",
    "\n",
    "print('Average rent number per month in 2014\\n',average_rent_14,'\\n\\n')\n",
    "\n",
    "#2016\n",
    "\n",
    "average_rent_16 = c_b16.groupby('start_month').agg({'bike_name':'count'}) #I count num of rent per month\n",
    "\n",
    "average_rent_16['num_day_in_month'] = c_b16.groupby(['start_month'])[['day_of_month']].nunique() #I count num of days in month\n",
    "\n",
    "average_rent_16['result'] = average_rent_16['bike_name']//average_rent_16['num_day_in_month'] #I count average rent number for every month\n",
    "\n",
    "print('Average rent number per month in 2016\\n',average_rent_16,'\\n\\n')"
   ]
  },
  {
   "cell_type": "code",
   "execution_count": null,
   "metadata": {},
   "outputs": [],
   "source": [
    "d = {'2014':average_rent_14['result'].to_list(), '2016':average_rent_16['result'].to_list()}\n",
    "\n",
    "df = pd.DataFrame(data=d, index=['October','November'])\n",
    "\n",
    "df"
   ]
  },
  {
   "cell_type": "code",
   "execution_count": null,
   "metadata": {},
   "outputs": [],
   "source": [
    "trace_one = go.Bar(x=df.index, \n",
    "    y = df['2014'],\n",
    "            name='2014',\n",
    "                  marker=dict(color='rgba(199,0,199,1)'))\n",
    "\n",
    "trace_two = go.Bar(x=df.index, \n",
    "    y = df['2016'],\n",
    "            name='2016',\n",
    "                marker=dict(color='rgba(120,120,120,1)')  )\n",
    "\n",
    "data=[trace_one,trace_two]\n",
    "\n",
    "layout = { 'barmode':'group',\n",
    "            'xaxis':{'title':'Month'},\n",
    "            'yaxis':{'title':'Num of rent'}}\n",
    "\n",
    "\n",
    "fig = go.Figure(data, layout=layout)\n",
    "\n",
    "fig.update_layout(\n",
    "    title={'text':'Average rent number per month',\n",
    "           'font': {\n",
    "              'family': 'Calibri',\n",
    "              'size': 20\n",
    "        },'y':0.95,\n",
    "        'x':0.5,\n",
    "        'xanchor': 'center',\n",
    "        'yanchor': 'top'})\n",
    "\n",
    "fig.show()"
   ]
  },
  {
   "cell_type": "code",
   "execution_count": null,
   "metadata": {},
   "outputs": [],
   "source": [
    "#Create a plot for average rent number per day of week in 2014\n",
    "\n",
    "rent_num_14 = c_b14.groupby('day_of_week').agg({'start_time':['count']}) #I count num of rentals per day of week\n",
    "\n",
    "num_of_day_df = pd.DataFrame(c_b14.groupby(['date'])['day_of_week'].unique().value_counts()).sort_index()\n",
    "\n",
    "rent_num_14['num_of_days']=num_of_day_df['day_of_week']\n",
    "\n",
    "rent_num_14['num_per_day'] = rent_num_14['start_time']['count'] / rent_num_14['num_of_days']\n",
    "\n",
    "rent_num_14.round(2)"
   ]
  },
  {
   "cell_type": "code",
   "execution_count": null,
   "metadata": {},
   "outputs": [],
   "source": [
    "#Create a plot for average rent number per day of week in 2016\n",
    "\n",
    "rent_num_16 = c_b16.groupby('day_of_week').agg({'bike_name':['count']}) #I count num of rentals per day of week\n",
    "\n",
    "num_of_day_df = pd.DataFrame(c_b16.groupby(['date'])['day_of_week'].unique().value_counts()).sort_index()\n",
    "\n",
    "rent_num_16['num_of_days']=num_of_day_df['day_of_week']\n",
    "\n",
    "rent_num_16['num_per_day'] = rent_num_16['bike_name']['count'] / rent_num_16['num_of_days']\n",
    "\n",
    "rent_num_16.round(2)"
   ]
  },
  {
   "cell_type": "code",
   "execution_count": null,
   "metadata": {},
   "outputs": [],
   "source": [
    "d = {'2014':rent_num_14['num_per_day'].to_list(), '2016':rent_num_16['num_per_day'].to_list()}\n",
    "\n",
    "df = pd.DataFrame(data=d, index=['Monday','Tuesday','Wednesday','Thuersday','Friday','Saturday','Sunday'])\n",
    "\n",
    "df"
   ]
  },
  {
   "cell_type": "code",
   "execution_count": null,
   "metadata": {},
   "outputs": [],
   "source": [
    "trace_one = go.Bar(x=df.index, \n",
    "            y = df['2014'],\n",
    "            name='2014',\n",
    "            marker=dict(color='rgba(199,0,199,1)'))\n",
    "\n",
    "trace_two = go.Bar(x=df.index, \n",
    "            y = df['2016'],\n",
    "            name='2016',\n",
    "            marker=dict(color='rgba(120,120,120,1)'))\n",
    "\n",
    "data=[trace_one,trace_two]\n",
    "\n",
    "layout = { 'barmode':'group',\n",
    "            'xaxis':{'title':'Days'},\n",
    "            'yaxis':{'title':'Num of rent'}}\n",
    "\n",
    "\n",
    "fig = go.Figure(data, layout=layout)\n",
    "\n",
    "fig.update_layout(\n",
    "    title={'text':'Average rent number per day of week',\n",
    "           'font': {\n",
    "              'family': 'Calibri',\n",
    "              'size': 20\n",
    "        },'y':0.95,\n",
    "        'x':0.5,\n",
    "        'xanchor': 'center',\n",
    "        'yanchor': 'top'})\n",
    "\n",
    "\n",
    "fig.show()"
   ]
  },
  {
   "cell_type": "code",
   "execution_count": null,
   "metadata": {},
   "outputs": [],
   "source": [
    "#Create a plot for average time of rent per day of week\n",
    "\n",
    "#2014\n",
    "\n",
    "ave_time_14 = c_b14.groupby('day_of_week').agg({'duration_min':'mean'})\n",
    "ave_time_14.reset_index(inplace=True)\n",
    "ave_time_14"
   ]
  },
  {
   "cell_type": "code",
   "execution_count": null,
   "metadata": {},
   "outputs": [],
   "source": [
    "#2016\n",
    "\n",
    "ave_time_16 = c_b16.groupby('day_of_week').agg({'duration_min':'mean'})\n",
    "ave_time_16.reset_index(inplace=True)\n",
    "ave_time_16"
   ]
  },
  {
   "cell_type": "code",
   "execution_count": null,
   "metadata": {},
   "outputs": [],
   "source": [
    "d={'2014': ave_time_14['duration_min'].to_list(), '2016':ave_time_16['duration_min'].to_list()}\n",
    "\n",
    "df = pd.DataFrame(data=d, index=['Monday','Tuesday','Wednesday','Thuersday','Friday','Saturday','Sunday'])\n",
    "\n",
    "df"
   ]
  },
  {
   "cell_type": "code",
   "execution_count": null,
   "metadata": {},
   "outputs": [],
   "source": [
    "'''trace_one = go.Bar(x=df.index, \n",
    "            y = df['2014'],\n",
    "            name='2014',\n",
    "            marker=dict(color='rgba(199,0,199,1)'))\n",
    "\n",
    "trace_two = go.Bar(x=df.index, \n",
    "            y= df['2016'],\n",
    "            name='2016',\n",
    "            marker=dict(color='rgba(120,120,120,1)'))\n",
    "\n",
    "data=[trace_one,trace_two]\n",
    "\n",
    "layout = { 'barmode':'group',\n",
    "            'xaxis':{'title':'Time'},\n",
    "            'yaxis':{'title':'Num of rent'}}\n",
    "\n",
    "\n",
    "fig = go.Figure(data, layout=layout)\n",
    "\n",
    "fig.update_layout(\n",
    "    title={'text':'Average time of rent number per day of week',\n",
    "           'font': {\n",
    "              'family': 'Calibri',\n",
    "              'size': 20\n",
    "        },'y':0.95,\n",
    "        'x':0.5,\n",
    "        'xanchor': 'center',\n",
    "        'yanchor': 'top'})\n",
    "\n",
    "\n",
    "fig.show()'''\n",
    "\n",
    "\n",
    "trace_one = go.Bar(x=df.index, \n",
    "    y = df['2014'],\n",
    "            name='2014',\n",
    "                  marker=dict(color='rgba(199,0,199,1)'))\n",
    "\n",
    "trace_two = go.Bar(x=df.index, \n",
    "    y = df['2016'],\n",
    "            name='2016',\n",
    "                marker=dict(color='rgba(120,120,120,1)')  )\n",
    "\n",
    "data=[trace_one,trace_two]\n",
    "\n",
    "layout = { 'barmode':'group',\n",
    "            'xaxis':{'title':'Days'},\n",
    "            'yaxis':{'title':'Time of rent'}}\n",
    "\n",
    "\n",
    "fig = go.Figure(data, layout=layout)\n",
    "\n",
    "fig.update_layout(\n",
    "    title={'text':'Average time',\n",
    "           'font': {\n",
    "              'family': 'Calibri',\n",
    "              'size': 20\n",
    "        },'y':0.95,\n",
    "        'x':0.5,\n",
    "        'xanchor': 'center',\n",
    "        'yanchor': 'top'})\n",
    "\n",
    "fig.show()"
   ]
  },
  {
   "cell_type": "code",
   "execution_count": null,
   "metadata": {},
   "outputs": [],
   "source": [
    "#Create a plot for average number of rents per hour \n",
    "\n",
    "#2014\n",
    "\n",
    "ave_rent_per_h_14= c_b14.groupby(['start_hour']).agg({'start_time':'count'})\n",
    "\n",
    "ave_rent_per_h_14.head()"
   ]
  },
  {
   "cell_type": "code",
   "execution_count": null,
   "metadata": {},
   "outputs": [],
   "source": [
    "#2016\n",
    "\n",
    "ave_rent_per_h_16= c_b16.groupby(['start_hour']).agg({'bike_name':'count'})\n",
    "\n",
    "ave_rent_per_h_16.head()"
   ]
  },
  {
   "cell_type": "code",
   "execution_count": null,
   "metadata": {},
   "outputs": [],
   "source": [
    "d = {'2014':ave_rent_per_h_14['start_time'].to_list() ,'2016':ave_rent_per_h_16['bike_name'].to_list()}\n",
    "\n",
    "df = pd.DataFrame(data=d)\n",
    "\n",
    "df.head()"
   ]
  },
  {
   "cell_type": "code",
   "execution_count": null,
   "metadata": {},
   "outputs": [],
   "source": [
    "trace_one = go.Bar(x=df.index, \n",
    "            y = df['2014'],\n",
    "            name='2014',\n",
    "            marker=dict(color='rgba(199,0,199,1)'))\n",
    "\n",
    "trace_two = go.Bar(x=df.index, \n",
    "            y = df['2016'],\n",
    "            name='2016',\n",
    "            marker=dict(color='rgba(120,120,120,1)'))\n",
    "\n",
    "data=[trace_one,trace_two]\n",
    "\n",
    "layout = { 'barmode':'group',\n",
    "            'xaxis':{'title':'Hours'},\n",
    "            'yaxis':{'title':'Num of rent'}}\n",
    "\n",
    "\n",
    "fig = go.Figure(data, layout=layout)\n",
    "\n",
    "fig.update_layout(\n",
    "    title={'text':'Average rent number per hour',\n",
    "           'font': {\n",
    "              'family': 'Calibri',\n",
    "              'size': 20\n",
    "        },'y':0.95,\n",
    "        'x':0.5,\n",
    "        'xanchor': 'center',\n",
    "        'yanchor': 'top'})\n",
    "\n",
    "\n",
    "\n",
    "fig.show()"
   ]
  },
  {
   "cell_type": "markdown",
   "metadata": {},
   "source": [
    "<h1>CONCLUSIONS"
   ]
  },
  {
   "cell_type": "markdown",
   "metadata": {},
   "source": [
    "<span style=\"color:red\">1.I compare first 2 months from 2014 and 2016. The bikes were available by 61 days.\n",
    "    \n",
    "<span style=\"color:red\">2.In 2014 were more rentals than 2016 (103692 vs 55310). \n",
    "    \n",
    "<span style=\"color:red\">3.The average time of rental:18.77 in 2014 and 14.29 in 2016.\n",
    "\n",
    "<span style=\"color:red\">4.Rentals under 20 minutes are 77% all rentals in 2014 and 88% in 2016.\n",
    "\n",
    "<span style=\"color:red\">5.The most popular day in 2014 was 13th October - it was on Monday. In 2016 top day was 2th October, on Sunday.\n",
    "    \n",
    "<span style=\"color:red\">6.The bikes were rented every 51 sec in 2014 and every 28 sec in 2016.\n",
    "    \n",
    "<span style=\"color:red\">7.The average rent number per month was higer in 2014. We can notice that num of rent in October is two times the size of November. It is probably becouse the weather was beter in October.\n",
    " \n",
    "<span style=\"color:red\">8.The average num rent per day of week in 2014 and 2016 is higer in the week than at the weekend. The most popular day in 2014 was Wednesday and in 2016 Thuersday. \n",
    "\n",
    "<span style=\"color:red\">9.The average time of rent is higer at the weekend than the week. People have more time to go for a bike ride at the weekend. In the week bikes are usefull for travel to job or school so rentals are shorter.\n",
    "    \n",
    "<span style=\"color:red\">10.The average number of rents per hour is very similar in 2014 and 2016. We can see increase num of rent beetwen 7 and 8 a.m and 3 and 4 p.m - we can assume that for many people the bicycle is a kind of transport to and from work and school \n",
    "   "
   ]
  }
 ],
 "metadata": {
  "kernelspec": {
   "display_name": "Python 3",
   "language": "python",
   "name": "python3"
  },
  "language_info": {
   "codemirror_mode": {
    "name": "ipython",
    "version": 3
   },
   "file_extension": ".py",
   "mimetype": "text/x-python",
   "name": "python",
   "nbconvert_exporter": "python",
   "pygments_lexer": "ipython3",
   "version": "3.7.4"
  }
 },
 "nbformat": 4,
 "nbformat_minor": 4
}
